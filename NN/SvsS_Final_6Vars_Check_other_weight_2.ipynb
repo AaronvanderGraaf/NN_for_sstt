{
 "cells": [
  {
   "cell_type": "code",
   "execution_count": 1,
   "metadata": {},
   "outputs": [],
   "source": [
    "import tensorflow as tf\n",
    "import pickle\n",
    "from util import *\n",
    "from load_data import load_input_file, build_combined_input\n",
    "from NN_train import *\n",
    "path_tosave = 'Models/V05_SvsS_Final_6Vars_2'\n",
    "path_SvsS = path_tosave + '/SvsS/'\n",
    "path_SvsB = path_tosave + '/SvsB/'\n",
    "mkdir_p(path_tosave)\n",
    "mkdir_p(path_SvsS)\n",
    "mkdir_p(path_SvsB)\n",
    "features_to_ignore = [\"DeltaR_min_lep_bjet77\", \"DeltaR_max_lep_bjet77\", \"DRjj_lead\"]\n",
    "#features_to_ignore = [\"DPhill_SS\", \"DeltaR_min_lep_bjet77\", \"DRll01\",\"HT_jets\",\"sumPsbtag\",\"met_met\",\"Mll01\",\"DEtall_SS\",\"jet_pseudoscore_DL1r2\",\"nJets_OR_DL1r_77\",\"sumPsbtag77\"]"
   ]
  },
  {
   "cell_type": "code",
   "execution_count": 2,
   "metadata": {
    "scrolled": true
   },
   "outputs": [
    {
     "name": "stdout",
     "output_type": "stream",
     "text": [
      "Ignoring feature:  DeltaR_min_lep_bjet77\n",
      "Ignoring feature:  DeltaR_max_lep_bjet77\n",
      "Ignoring feature:  DRjj_lead\n",
      "Found 26 features on the dataset 23 features were loaded: \n",
      "\n",
      "DEtall_SS\n",
      "DPhill_SS\n",
      "DRll01\n",
      "HT_jets\n",
      "HT_lep\n",
      "Mll01\n",
      "MtLepMet\n",
      "jet_pseudoscore_DL1r0\n",
      "jet_pseudoscore_DL1r1\n",
      "jet_pseudoscore_DL1r2\n",
      "jet_pt0_nofwd\n",
      "met_met\n",
      "total_charge\n",
      "nJets_OR\n",
      "nJets_OR_DL1r_77\n",
      "sumPsbtag\n",
      "sumPsbtag77\n",
      "randomRunNumber\n",
      "weight_cuu_0p00_cqu1_0p10_cqu8_0p20\n",
      "weight_cuu_0p00_cqu1_0p05_cqu8_0p20\n",
      "weight_cuu_0p00_cqu1_0p05_cqu8_0p30\n",
      "weight_cuu_0p00_cqu1_0p10_cqu8_0p30\n",
      "weight_cuu_0p04\n",
      " \n"
     ]
    }
   ],
   "source": [
    "samples, feature_names, class_names, class_no = load_input_file('data/V05_sstt_signal_SvS.h5', features_to_ignore)"
   ]
  },
  {
   "cell_type": "code",
   "execution_count": 3,
   "metadata": {},
   "outputs": [],
   "source": [
    "# Maunal processing of the Signal vs Signal Data\n",
    "targets = []\n",
    "sample0, *other = samples\n",
    "targets.extend( np.ones( sample0.data().shape[0] ) * sample0.class_label() )\n",
    "inputs = sample0.data()\n",
    "targets = np.array(targets, dtype = int )\n",
    "weights = inputs[:,-1]\n",
    "inputs = inputs[:,0:-1]\n",
    "targets = targets[np.where((weights<1) &(weights>0))]\n",
    "inputs  = inputs[np.where((weights<1) &(weights>0))]\n",
    "weights = weights[np.where((weights<1) &(weights>0))]\n",
    "data_len = inputs.shape[0]"
   ]
  },
  {
   "cell_type": "code",
   "execution_count": 4,
   "metadata": {},
   "outputs": [],
   "source": [
    "# Default 19\n",
    "# cqu1_0p05_cqu8_0p20 -> 20\n",
    "# cqu1_0p05_cqu8_0p30 -> 21\n",
    "# cqu1_0p10_cqu8_0p30 -> 22\n",
    "\n",
    "inputs = np.delete(inputs, [19 ,20, 22], axis=1)"
   ]
  },
  {
   "cell_type": "code",
   "execution_count": 5,
   "metadata": {
    "scrolled": false
   },
   "outputs": [
    {
     "data": {
      "text/plain": [
       "['DEtall_SS',\n",
       " 'DPhill_SS',\n",
       " 'DRll01',\n",
       " 'HT_jets',\n",
       " 'HT_lep',\n",
       " 'Mll01',\n",
       " 'MtLepMet',\n",
       " 'jet_pseudoscore_DL1r0',\n",
       " 'jet_pseudoscore_DL1r1',\n",
       " 'jet_pseudoscore_DL1r2',\n",
       " 'jet_pt0_nofwd',\n",
       " 'met_met',\n",
       " 'total_charge',\n",
       " 'nJets_OR',\n",
       " 'nJets_OR_DL1r_77',\n",
       " 'sumPsbtag',\n",
       " 'sumPsbtag77',\n",
       " 'randomRunNumber',\n",
       " 'weight_cuu_0p00_cqu1_0p10_cqu8_0p20',\n",
       " 'weight_cuu_0p00_cqu1_0p05_cqu8_0p20']"
      ]
     },
     "execution_count": 5,
     "metadata": {},
     "output_type": "execute_result"
    }
   ],
   "source": [
    "weights_cuu = inputs[:,-1]\n",
    "weights_cqu = inputs[:,-2]\n",
    "weights_cuu_int = (inputs[:,-1] * 10).astype(int)\n",
    "weights_cqu_int = (inputs[:,-2] * 10).astype(int)\n",
    "Number_org = inputs[:,-3]\n",
    "inputs = inputs[:,0:-3]\n",
    "feature_names = feature_names[0:-6]\n",
    "feature_names"
   ]
  },
  {
   "cell_type": "code",
   "execution_count": 6,
   "metadata": {},
   "outputs": [],
   "source": [
    "reweighted_inputs = np.zeros([weights_cuu_int.sum()+weights_cqu_int.sum(),inputs.shape[1]])\n",
    "targets = np.concatenate([np.zeros(weights_cuu_int.sum()), np.ones(weights_cqu_int.sum())])\n",
    "Numbers = np.zeros([weights_cuu_int.sum()+weights_cqu_int.sum()])\n",
    "counter = 0\n",
    "for i in range(weights_cuu_int.shape[0]):\n",
    "    for j in range(weights_cuu_int[i]):\n",
    "        reweighted_inputs[counter,:] = inputs[i,:]\n",
    "        Numbers[counter] = Number_org[i]\n",
    "        counter +=1\n",
    "for i in range(weights_cqu_int.shape[0]):\n",
    "    for j in range(weights_cqu_int[i]):\n",
    "        reweighted_inputs[counter,:] = inputs[i,:]\n",
    "        Numbers[counter] = Number_org[i]\n",
    "        counter +=1        "
   ]
  },
  {
   "cell_type": "code",
   "execution_count": 7,
   "metadata": {
    "scrolled": false
   },
   "outputs": [],
   "source": [
    "scaler = StandardScaler().fit(reweighted_inputs)\n",
    "input_scaled = scaler.transform(reweighted_inputs)\n",
    "pickle.dump(scaler, open(path_tosave + '/scaler.pkl','wb'))"
   ]
  },
  {
   "cell_type": "code",
   "execution_count": 8,
   "metadata": {},
   "outputs": [],
   "source": [
    "def Fold_Odd_Even_changed(input, targets, Number):\n",
    "    input_odd = input[Number % 2 == 1]\n",
    "    targets_odd = targets[Number % 2 == 1]\n",
    "    input_even = input[Number % 2 == 0]\n",
    "    targets_even = targets[Number % 2 == 0]\n",
    "    return (input_odd, targets_odd), (input_even, targets_even)"
   ]
  },
  {
   "cell_type": "code",
   "execution_count": 9,
   "metadata": {},
   "outputs": [],
   "source": [
    "odd, even = Fold_Odd_Even_changed(input_scaled, targets, Numbers)"
   ]
  },
  {
   "cell_type": "code",
   "execution_count": 10,
   "metadata": {},
   "outputs": [],
   "source": [
    "def Train_Odd_Even_changed(odd, even, n_epochs = 400, batch_size = 2000):\n",
    "    fit_history_list = []\n",
    "    model_list = []\n",
    "    input_shape = odd[0].shape[1]\n",
    "\n",
    "    lr_schedule = tf.keras.callbacks.LearningRateScheduler(lr_step_decay)\n",
    "\n",
    "    X_odd, X_val_odd, y_odd, y_val_odd, = train_test_split(odd[0], odd[1], test_size=0.2)\n",
    "    X_even, X_val_even, y_even, y_val_even, = train_test_split(even[0], even[1], test_size=0.2)\n",
    "\n",
    "    model_odd = Create_Model_basic(input_shape)\n",
    "    model_even = Create_Model_basic(input_shape)\n",
    "    fit_history_odd = model_odd.fit(X_odd, y_odd, epochs = n_epochs, shuffle = True, batch_size = batch_size, validation_data=(X_val_odd, y_val_odd), verbose=1 ,callbacks=[tf.keras.callbacks.EarlyStopping(monitor = 'val_loss', patience = 100, verbose = True, min_delta = 0.001),lr_schedule]) #\n",
    "    fit_history_even = model_even.fit(X_even, y_even, epochs = n_epochs, shuffle = True, batch_size = batch_size, validation_data=(X_val_even, y_val_even), verbose=1 ,callbacks=[tf.keras.callbacks.EarlyStopping(monitor = 'val_loss', patience = 100, verbose = True, min_delta = 0.001),lr_schedule]) #\n",
    "\n",
    "    return fit_history_odd, model_odd, fit_history_even, model_even"
   ]
  },
  {
   "cell_type": "code",
   "execution_count": 11,
   "metadata": {},
   "outputs": [],
   "source": [
    "input_shape = odd[0].shape[1]\n",
    "n_epochs = 200\n",
    "batch_size = 20000"
   ]
  },
  {
   "cell_type": "code",
   "execution_count": 12,
   "metadata": {},
   "outputs": [
    {
     "name": "stdout",
     "output_type": "stream",
     "text": [
      "Model: \"model\"\n",
      "_________________________________________________________________\n",
      "Layer (type)                 Output Shape              Param #   \n",
      "=================================================================\n",
      "input_1 (InputLayer)         [(None, 17)]              0         \n",
      "_________________________________________________________________\n",
      "dense (Dense)                (None, 128)               2304      \n",
      "_________________________________________________________________\n",
      "dense_1 (Dense)              (None, 64)                8256      \n",
      "_________________________________________________________________\n",
      "dense_2 (Dense)              (None, 32)                2080      \n",
      "_________________________________________________________________\n",
      "dense_3 (Dense)              (None, 16)                528       \n",
      "_________________________________________________________________\n",
      "dense_4 (Dense)              (None, 8)                 136       \n",
      "_________________________________________________________________\n",
      "OutputLayer (Dense)          (None, 1)                 9         \n",
      "=================================================================\n",
      "Total params: 13,313\n",
      "Trainable params: 13,313\n",
      "Non-trainable params: 0\n",
      "_________________________________________________________________\n",
      "Model: \"model_1\"\n",
      "_________________________________________________________________\n",
      "Layer (type)                 Output Shape              Param #   \n",
      "=================================================================\n",
      "input_2 (InputLayer)         [(None, 17)]              0         \n",
      "_________________________________________________________________\n",
      "dense_5 (Dense)              (None, 128)               2304      \n",
      "_________________________________________________________________\n",
      "dense_6 (Dense)              (None, 64)                8256      \n",
      "_________________________________________________________________\n",
      "dense_7 (Dense)              (None, 32)                2080      \n",
      "_________________________________________________________________\n",
      "dense_8 (Dense)              (None, 16)                528       \n",
      "_________________________________________________________________\n",
      "dense_9 (Dense)              (None, 8)                 136       \n",
      "_________________________________________________________________\n",
      "OutputLayer (Dense)          (None, 1)                 9         \n",
      "=================================================================\n",
      "Total params: 13,313\n",
      "Trainable params: 13,313\n",
      "Non-trainable params: 0\n",
      "_________________________________________________________________\n",
      "Train on 4614816 samples, validate on 1153704 samples\n",
      "Epoch 1/200\n",
      "4614816/4614816 [==============================] - ETA: 0s - loss: 0.6632 - accuracy: 0.6279"
     ]
    },
    {
     "name": "stderr",
     "output_type": "stream",
     "text": [
      "/home/avdgraaf/.local/anaconda3/lib/python3.7/site-packages/tensorflow/python/keras/engine/training.py:2325: UserWarning: `Model.state_updates` will be removed in a future version. This property should not be used in TensorFlow 2.0, as `updates` are applied automatically.\n",
      "  warnings.warn('`Model.state_updates` will be removed in a future version. '\n"
     ]
    },
    {
     "name": "stdout",
     "output_type": "stream",
     "text": [
      "4614816/4614816 [==============================] - 13s 3us/sample - loss: 0.6632 - accuracy: 0.6279 - val_loss: 0.6599 - val_accuracy: 0.6286\n",
      "Epoch 2/200\n",
      "4614816/4614816 [==============================] - 12s 3us/sample - loss: 0.6600 - accuracy: 0.6281 - val_loss: 0.6598 - val_accuracy: 0.6286\n",
      "Epoch 3/200\n",
      "4614816/4614816 [==============================] - 14s 3us/sample - loss: 0.6600 - accuracy: 0.6281 - val_loss: 0.6597 - val_accuracy: 0.6286\n",
      "Epoch 4/200\n",
      "4614816/4614816 [==============================] - 12s 3us/sample - loss: 0.6599 - accuracy: 0.6281 - val_loss: 0.6598 - val_accuracy: 0.6286\n",
      "Epoch 5/200\n",
      "4614816/4614816 [==============================] - 12s 3us/sample - loss: 0.6599 - accuracy: 0.6281 - val_loss: 0.6597 - val_accuracy: 0.6286\n",
      "Epoch 6/200\n",
      "4614816/4614816 [==============================] - 13s 3us/sample - loss: 0.6599 - accuracy: 0.6281 - val_loss: 0.6597 - val_accuracy: 0.6286\n",
      "Epoch 7/200\n",
      "4614816/4614816 [==============================] - 13s 3us/sample - loss: 0.6599 - accuracy: 0.6281 - val_loss: 0.6597 - val_accuracy: 0.6286\n",
      "Epoch 8/200\n",
      "4614816/4614816 [==============================] - 13s 3us/sample - loss: 0.6599 - accuracy: 0.6281 - val_loss: 0.6597 - val_accuracy: 0.6286\n",
      "Epoch 9/200\n",
      "4614816/4614816 [==============================] - 13s 3us/sample - loss: 0.6599 - accuracy: 0.6281 - val_loss: 0.6597 - val_accuracy: 0.6286\n",
      "Epoch 10/200\n",
      "4614816/4614816 [==============================] - 13s 3us/sample - loss: 0.6599 - accuracy: 0.6281 - val_loss: 0.6597 - val_accuracy: 0.6286\n",
      "Epoch 11/200\n",
      "4614816/4614816 [==============================] - 13s 3us/sample - loss: 0.6599 - accuracy: 0.6281 - val_loss: 0.6597 - val_accuracy: 0.6286\n",
      "Epoch 12/200\n",
      "4614816/4614816 [==============================] - 12s 3us/sample - loss: 0.6599 - accuracy: 0.6281 - val_loss: 0.6597 - val_accuracy: 0.6286\n",
      "Epoch 13/200\n",
      "4614816/4614816 [==============================] - 13s 3us/sample - loss: 0.6599 - accuracy: 0.6281 - val_loss: 0.6597 - val_accuracy: 0.6286\n",
      "Epoch 14/200\n",
      "4614816/4614816 [==============================] - 12s 3us/sample - loss: 0.6599 - accuracy: 0.6281 - val_loss: 0.6597 - val_accuracy: 0.6286\n",
      "Epoch 15/200\n",
      "4614816/4614816 [==============================] - 13s 3us/sample - loss: 0.6599 - accuracy: 0.6281 - val_loss: 0.6598 - val_accuracy: 0.6286\n",
      "Epoch 16/200\n",
      "4614816/4614816 [==============================] - 13s 3us/sample - loss: 0.6599 - accuracy: 0.6281 - val_loss: 0.6597 - val_accuracy: 0.6286\n",
      "Epoch 17/200\n",
      "4614816/4614816 [==============================] - 12s 3us/sample - loss: 0.6599 - accuracy: 0.6281 - val_loss: 0.6597 - val_accuracy: 0.6286\n",
      "Epoch 18/200\n",
      "4614816/4614816 [==============================] - 13s 3us/sample - loss: 0.6599 - accuracy: 0.6281 - val_loss: 0.6597 - val_accuracy: 0.6286\n",
      "Epoch 19/200\n",
      "4614816/4614816 [==============================] - 13s 3us/sample - loss: 0.6599 - accuracy: 0.6281 - val_loss: 0.6597 - val_accuracy: 0.6286\n",
      "Epoch 20/200\n",
      "4614816/4614816 [==============================] - 12s 3us/sample - loss: 0.6599 - accuracy: 0.6281 - val_loss: 0.6596 - val_accuracy: 0.6286\n",
      "Epoch 21/200\n",
      "4614816/4614816 [==============================] - 13s 3us/sample - loss: 0.6599 - accuracy: 0.6281 - val_loss: 0.6597 - val_accuracy: 0.6286\n",
      "Epoch 22/200\n",
      "4614816/4614816 [==============================] - 12s 3us/sample - loss: 0.6599 - accuracy: 0.6281 - val_loss: 0.6597 - val_accuracy: 0.6286\n",
      "Epoch 23/200\n",
      "4614816/4614816 [==============================] - 13s 3us/sample - loss: 0.6599 - accuracy: 0.6281 - val_loss: 0.6597 - val_accuracy: 0.6286\n",
      "Epoch 24/200\n",
      "4614816/4614816 [==============================] - 13s 3us/sample - loss: 0.6599 - accuracy: 0.6281 - val_loss: 0.6597 - val_accuracy: 0.6286\n",
      "Epoch 25/200\n",
      "4614816/4614816 [==============================] - 12s 3us/sample - loss: 0.6599 - accuracy: 0.6281 - val_loss: 0.6597 - val_accuracy: 0.6286\n",
      "Epoch 26/200\n",
      "4614816/4614816 [==============================] - 12s 3us/sample - loss: 0.6599 - accuracy: 0.6281 - val_loss: 0.6597 - val_accuracy: 0.6286\n",
      "Epoch 27/200\n",
      "4614816/4614816 [==============================] - 13s 3us/sample - loss: 0.6599 - accuracy: 0.6281 - val_loss: 0.6597 - val_accuracy: 0.6286\n",
      "Epoch 28/200\n",
      "4614816/4614816 [==============================] - 13s 3us/sample - loss: 0.6599 - accuracy: 0.6281 - val_loss: 0.6597 - val_accuracy: 0.6286\n",
      "Epoch 29/200\n",
      "4614816/4614816 [==============================] - 13s 3us/sample - loss: 0.6599 - accuracy: 0.6281 - val_loss: 0.6597 - val_accuracy: 0.6286\n",
      "Epoch 30/200\n",
      "4614816/4614816 [==============================] - 13s 3us/sample - loss: 0.6599 - accuracy: 0.6281 - val_loss: 0.6596 - val_accuracy: 0.6286\n",
      "Epoch 31/200\n",
      "4614816/4614816 [==============================] - 12s 3us/sample - loss: 0.6599 - accuracy: 0.6281 - val_loss: 0.6597 - val_accuracy: 0.6286\n",
      "Epoch 32/200\n",
      "4614816/4614816 [==============================] - 13s 3us/sample - loss: 0.6599 - accuracy: 0.6281 - val_loss: 0.6597 - val_accuracy: 0.6286\n",
      "Epoch 33/200\n",
      "4614816/4614816 [==============================] - 13s 3us/sample - loss: 0.6599 - accuracy: 0.6281 - val_loss: 0.6598 - val_accuracy: 0.6286\n",
      "Epoch 34/200\n",
      "4614816/4614816 [==============================] - 13s 3us/sample - loss: 0.6599 - accuracy: 0.6281 - val_loss: 0.6596 - val_accuracy: 0.6286\n",
      "Epoch 35/200\n",
      "4614816/4614816 [==============================] - 12s 3us/sample - loss: 0.6599 - accuracy: 0.6281 - val_loss: 0.6596 - val_accuracy: 0.6286\n",
      "Epoch 36/200\n",
      "4614816/4614816 [==============================] - 12s 3us/sample - loss: 0.6599 - accuracy: 0.6281 - val_loss: 0.6596 - val_accuracy: 0.6286\n",
      "Epoch 37/200\n",
      "4614816/4614816 [==============================] - 13s 3us/sample - loss: 0.6599 - accuracy: 0.6281 - val_loss: 0.6597 - val_accuracy: 0.6286\n",
      "Epoch 38/200\n",
      "4614816/4614816 [==============================] - 12s 3us/sample - loss: 0.6599 - accuracy: 0.6281 - val_loss: 0.6597 - val_accuracy: 0.6286\n",
      "Epoch 39/200\n",
      "4614816/4614816 [==============================] - 13s 3us/sample - loss: 0.6599 - accuracy: 0.6281 - val_loss: 0.6596 - val_accuracy: 0.6286\n",
      "Epoch 40/200\n",
      "4614816/4614816 [==============================] - 13s 3us/sample - loss: 0.6599 - accuracy: 0.6281 - val_loss: 0.6596 - val_accuracy: 0.6286\n",
      "Epoch 41/200\n",
      "4614816/4614816 [==============================] - 13s 3us/sample - loss: 0.6599 - accuracy: 0.6281 - val_loss: 0.6596 - val_accuracy: 0.6286\n",
      "Epoch 42/200\n",
      "4614816/4614816 [==============================] - 11s 2us/sample - loss: 0.6599 - accuracy: 0.6281 - val_loss: 0.6597 - val_accuracy: 0.6286\n",
      "Epoch 43/200\n",
      "4614816/4614816 [==============================] - 11s 2us/sample - loss: 0.6599 - accuracy: 0.6281 - val_loss: 0.6598 - val_accuracy: 0.6286\n",
      "Epoch 44/200\n",
      "4614816/4614816 [==============================] - 11s 2us/sample - loss: 0.6599 - accuracy: 0.6281 - val_loss: 0.6596 - val_accuracy: 0.6286\n",
      "Epoch 45/200\n",
      "4614816/4614816 [==============================] - 11s 2us/sample - loss: 0.6599 - accuracy: 0.6281 - val_loss: 0.6596 - val_accuracy: 0.6286\n",
      "Epoch 46/200\n",
      "4614816/4614816 [==============================] - 12s 3us/sample - loss: 0.6599 - accuracy: 0.6281 - val_loss: 0.6596 - val_accuracy: 0.6286\n",
      "Epoch 47/200\n",
      "4614816/4614816 [==============================] - 14s 3us/sample - loss: 0.6598 - accuracy: 0.6281 - val_loss: 0.6596 - val_accuracy: 0.6286\n",
      "Epoch 48/200\n",
      "4614816/4614816 [==============================] - 14s 3us/sample - loss: 0.6599 - accuracy: 0.6281 - val_loss: 0.6597 - val_accuracy: 0.6286\n",
      "Epoch 49/200\n",
      "4614816/4614816 [==============================] - 13s 3us/sample - loss: 0.6598 - accuracy: 0.6281 - val_loss: 0.6596 - val_accuracy: 0.6286\n",
      "Epoch 50/200\n",
      "4614816/4614816 [==============================] - 14s 3us/sample - loss: 0.6598 - accuracy: 0.6281 - val_loss: 0.6596 - val_accuracy: 0.6286\n",
      "Epoch 51/200\n",
      "4614816/4614816 [==============================] - 14s 3us/sample - loss: 0.6598 - accuracy: 0.6281 - val_loss: 0.6596 - val_accuracy: 0.6286\n",
      "Epoch 52/200\n",
      "4614816/4614816 [==============================] - 14s 3us/sample - loss: 0.6598 - accuracy: 0.6281 - val_loss: 0.6596 - val_accuracy: 0.6286\n",
      "Epoch 53/200\n",
      "4614816/4614816 [==============================] - 14s 3us/sample - loss: 0.6598 - accuracy: 0.6281 - val_loss: 0.6596 - val_accuracy: 0.6286\n"
     ]
    },
    {
     "name": "stdout",
     "output_type": "stream",
     "text": [
      "Epoch 54/200\n",
      "4614816/4614816 [==============================] - 13s 3us/sample - loss: 0.6598 - accuracy: 0.6281 - val_loss: 0.6596 - val_accuracy: 0.6286\n",
      "Epoch 55/200\n",
      "4614816/4614816 [==============================] - 13s 3us/sample - loss: 0.6598 - accuracy: 0.6281 - val_loss: 0.6596 - val_accuracy: 0.6286\n",
      "Epoch 56/200\n",
      "4614816/4614816 [==============================] - 13s 3us/sample - loss: 0.6598 - accuracy: 0.6281 - val_loss: 0.6596 - val_accuracy: 0.6286\n",
      "Epoch 57/200\n",
      "4614816/4614816 [==============================] - 13s 3us/sample - loss: 0.6598 - accuracy: 0.6281 - val_loss: 0.6596 - val_accuracy: 0.6286\n",
      "Epoch 58/200\n",
      "4614816/4614816 [==============================] - 13s 3us/sample - loss: 0.6598 - accuracy: 0.6281 - val_loss: 0.6596 - val_accuracy: 0.6286\n",
      "Epoch 59/200\n",
      "4614816/4614816 [==============================] - 11s 2us/sample - loss: 0.6598 - accuracy: 0.6281 - val_loss: 0.6596 - val_accuracy: 0.6286\n",
      "Epoch 60/200\n",
      "4614816/4614816 [==============================] - 11s 2us/sample - loss: 0.6598 - accuracy: 0.6281 - val_loss: 0.6596 - val_accuracy: 0.6286\n",
      "Epoch 61/200\n",
      "4614816/4614816 [==============================] - 11s 2us/sample - loss: 0.6598 - accuracy: 0.6281 - val_loss: 0.6596 - val_accuracy: 0.6286\n",
      "Epoch 62/200\n",
      "4614816/4614816 [==============================] - 11s 2us/sample - loss: 0.6598 - accuracy: 0.6281 - val_loss: 0.6596 - val_accuracy: 0.6286\n",
      "Epoch 63/200\n",
      "4614816/4614816 [==============================] - 11s 2us/sample - loss: 0.6598 - accuracy: 0.6281 - val_loss: 0.6596 - val_accuracy: 0.6286\n",
      "Epoch 64/200\n",
      "4614816/4614816 [==============================] - 11s 2us/sample - loss: 0.6598 - accuracy: 0.6281 - val_loss: 0.6596 - val_accuracy: 0.6286\n",
      "Epoch 65/200\n",
      "4614816/4614816 [==============================] - 11s 2us/sample - loss: 0.6598 - accuracy: 0.6281 - val_loss: 0.6596 - val_accuracy: 0.6286\n",
      "Epoch 66/200\n",
      "4614816/4614816 [==============================] - 12s 3us/sample - loss: 0.6598 - accuracy: 0.6281 - val_loss: 0.6596 - val_accuracy: 0.6286\n",
      "Epoch 67/200\n",
      "4614816/4614816 [==============================] - 11s 2us/sample - loss: 0.6598 - accuracy: 0.6281 - val_loss: 0.6596 - val_accuracy: 0.6286\n",
      "Epoch 68/200\n",
      "4614816/4614816 [==============================] - 11s 2us/sample - loss: 0.6598 - accuracy: 0.6281 - val_loss: 0.6596 - val_accuracy: 0.6286\n",
      "Epoch 69/200\n",
      "4614816/4614816 [==============================] - 10s 2us/sample - loss: 0.6598 - accuracy: 0.6281 - val_loss: 0.6596 - val_accuracy: 0.6286\n",
      "Epoch 70/200\n",
      "4614816/4614816 [==============================] - 11s 2us/sample - loss: 0.6598 - accuracy: 0.6281 - val_loss: 0.6596 - val_accuracy: 0.6286\n",
      "Epoch 71/200\n",
      "4614816/4614816 [==============================] - 11s 2us/sample - loss: 0.6598 - accuracy: 0.6281 - val_loss: 0.6596 - val_accuracy: 0.6286\n",
      "Epoch 72/200\n",
      "4614816/4614816 [==============================] - 11s 2us/sample - loss: 0.6598 - accuracy: 0.6281 - val_loss: 0.6596 - val_accuracy: 0.6286\n",
      "Epoch 73/200\n",
      "4614816/4614816 [==============================] - 11s 2us/sample - loss: 0.6598 - accuracy: 0.6281 - val_loss: 0.6596 - val_accuracy: 0.6286\n",
      "Epoch 74/200\n",
      "4614816/4614816 [==============================] - 11s 2us/sample - loss: 0.6598 - accuracy: 0.6281 - val_loss: 0.6596 - val_accuracy: 0.6286\n",
      "Epoch 75/200\n",
      "4614816/4614816 [==============================] - 11s 2us/sample - loss: 0.6598 - accuracy: 0.6281 - val_loss: 0.6596 - val_accuracy: 0.6286\n",
      "Epoch 76/200\n",
      "4614816/4614816 [==============================] - 11s 2us/sample - loss: 0.6598 - accuracy: 0.6281 - val_loss: 0.6596 - val_accuracy: 0.6286\n",
      "Epoch 77/200\n",
      "4614816/4614816 [==============================] - 11s 2us/sample - loss: 0.6598 - accuracy: 0.6281 - val_loss: 0.6596 - val_accuracy: 0.6286\n",
      "Epoch 78/200\n",
      "4614816/4614816 [==============================] - 11s 2us/sample - loss: 0.6598 - accuracy: 0.6281 - val_loss: 0.6596 - val_accuracy: 0.6286\n",
      "Epoch 79/200\n",
      "4614816/4614816 [==============================] - 11s 2us/sample - loss: 0.6598 - accuracy: 0.6281 - val_loss: 0.6596 - val_accuracy: 0.6286\n",
      "Epoch 80/200\n",
      "4614816/4614816 [==============================] - 11s 2us/sample - loss: 0.6598 - accuracy: 0.6281 - val_loss: 0.6596 - val_accuracy: 0.6286\n",
      "Epoch 81/200\n",
      "4614816/4614816 [==============================] - 11s 2us/sample - loss: 0.6598 - accuracy: 0.6281 - val_loss: 0.6596 - val_accuracy: 0.6286\n",
      "Epoch 82/200\n",
      "4614816/4614816 [==============================] - 11s 2us/sample - loss: 0.6598 - accuracy: 0.6281 - val_loss: 0.6596 - val_accuracy: 0.6286\n",
      "Epoch 83/200\n",
      "4614816/4614816 [==============================] - 11s 2us/sample - loss: 0.6598 - accuracy: 0.6281 - val_loss: 0.6596 - val_accuracy: 0.6286\n",
      "Epoch 84/200\n",
      "4614816/4614816 [==============================] - 11s 2us/sample - loss: 0.6598 - accuracy: 0.6281 - val_loss: 0.6596 - val_accuracy: 0.6286\n",
      "Epoch 85/200\n",
      "4614816/4614816 [==============================] - 11s 2us/sample - loss: 0.6598 - accuracy: 0.6281 - val_loss: 0.6596 - val_accuracy: 0.6286\n",
      "Epoch 86/200\n",
      "4614816/4614816 [==============================] - 11s 2us/sample - loss: 0.6598 - accuracy: 0.6281 - val_loss: 0.6596 - val_accuracy: 0.6286\n",
      "Epoch 87/200\n",
      "4614816/4614816 [==============================] - 10s 2us/sample - loss: 0.6598 - accuracy: 0.6281 - val_loss: 0.6596 - val_accuracy: 0.6286\n",
      "Epoch 88/200\n",
      "4614816/4614816 [==============================] - 12s 3us/sample - loss: 0.6598 - accuracy: 0.6281 - val_loss: 0.6596 - val_accuracy: 0.6286\n",
      "Epoch 89/200\n",
      "4614816/4614816 [==============================] - 13s 3us/sample - loss: 0.6598 - accuracy: 0.6281 - val_loss: 0.6596 - val_accuracy: 0.6286\n",
      "Epoch 90/200\n",
      "4614816/4614816 [==============================] - 12s 3us/sample - loss: 0.6598 - accuracy: 0.6281 - val_loss: 0.6596 - val_accuracy: 0.6286\n",
      "Epoch 91/200\n",
      "4614816/4614816 [==============================] - 12s 3us/sample - loss: 0.6598 - accuracy: 0.6281 - val_loss: 0.6596 - val_accuracy: 0.6286\n",
      "Epoch 92/200\n",
      "4614816/4614816 [==============================] - 13s 3us/sample - loss: 0.6598 - accuracy: 0.6281 - val_loss: 0.6596 - val_accuracy: 0.6286\n",
      "Epoch 93/200\n",
      "4614816/4614816 [==============================] - 13s 3us/sample - loss: 0.6598 - accuracy: 0.6281 - val_loss: 0.6596 - val_accuracy: 0.6286\n",
      "Epoch 94/200\n",
      "4614816/4614816 [==============================] - 13s 3us/sample - loss: 0.6598 - accuracy: 0.6281 - val_loss: 0.6596 - val_accuracy: 0.6286\n",
      "Epoch 95/200\n",
      "4614816/4614816 [==============================] - 13s 3us/sample - loss: 0.6598 - accuracy: 0.6281 - val_loss: 0.6596 - val_accuracy: 0.6286\n",
      "Epoch 96/200\n",
      "4614816/4614816 [==============================] - 13s 3us/sample - loss: 0.6598 - accuracy: 0.6281 - val_loss: 0.6596 - val_accuracy: 0.6286\n",
      "Epoch 97/200\n",
      "4614816/4614816 [==============================] - 14s 3us/sample - loss: 0.6598 - accuracy: 0.6281 - val_loss: 0.6596 - val_accuracy: 0.6286\n",
      "Epoch 98/200\n",
      "4614816/4614816 [==============================] - 13s 3us/sample - loss: 0.6598 - accuracy: 0.6281 - val_loss: 0.6596 - val_accuracy: 0.6286\n",
      "Epoch 99/200\n",
      "4614816/4614816 [==============================] - 11s 2us/sample - loss: 0.6598 - accuracy: 0.6281 - val_loss: 0.6596 - val_accuracy: 0.6286\n",
      "Epoch 100/200\n",
      "4614816/4614816 [==============================] - 11s 2us/sample - loss: 0.6598 - accuracy: 0.6281 - val_loss: 0.6596 - val_accuracy: 0.6286\n",
      "Epoch 101/200\n",
      "4614816/4614816 [==============================] - 11s 2us/sample - loss: 0.6598 - accuracy: 0.6281 - val_loss: 0.6596 - val_accuracy: 0.6286\n",
      "Epoch 00101: early stopping\n",
      "Train on 4463226 samples, validate on 1115807 samples\n",
      "Epoch 1/200\n",
      "4463226/4463226 [==============================] - 11s 2us/sample - loss: 0.6643 - accuracy: 0.6258 - val_loss: 0.6603 - val_accuracy: 0.6280\n",
      "Epoch 2/200\n",
      "4463226/4463226 [==============================] - 12s 3us/sample - loss: 0.6601 - accuracy: 0.6282 - val_loss: 0.6601 - val_accuracy: 0.6280\n",
      "Epoch 3/200\n",
      "4463226/4463226 [==============================] - 11s 3us/sample - loss: 0.6600 - accuracy: 0.6282 - val_loss: 0.6600 - val_accuracy: 0.6280\n",
      "Epoch 4/200\n",
      "4463226/4463226 [==============================] - 11s 3us/sample - loss: 0.6600 - accuracy: 0.6282 - val_loss: 0.6600 - val_accuracy: 0.6280\n",
      "Epoch 5/200\n"
     ]
    },
    {
     "name": "stdout",
     "output_type": "stream",
     "text": [
      "4463226/4463226 [==============================] - 12s 3us/sample - loss: 0.6600 - accuracy: 0.6282 - val_loss: 0.6601 - val_accuracy: 0.6280\n",
      "Epoch 6/200\n",
      "4463226/4463226 [==============================] - 12s 3us/sample - loss: 0.6600 - accuracy: 0.6282 - val_loss: 0.6600 - val_accuracy: 0.6280\n",
      "Epoch 7/200\n",
      "4463226/4463226 [==============================] - 11s 3us/sample - loss: 0.6599 - accuracy: 0.6282 - val_loss: 0.6600 - val_accuracy: 0.6280\n",
      "Epoch 8/200\n",
      "4463226/4463226 [==============================] - 11s 2us/sample - loss: 0.6599 - accuracy: 0.6282 - val_loss: 0.6600 - val_accuracy: 0.6280\n",
      "Epoch 9/200\n",
      "4463226/4463226 [==============================] - 11s 3us/sample - loss: 0.6599 - accuracy: 0.6282 - val_loss: 0.6600 - val_accuracy: 0.6280\n",
      "Epoch 10/200\n",
      "4463226/4463226 [==============================] - 11s 3us/sample - loss: 0.6599 - accuracy: 0.6282 - val_loss: 0.6600 - val_accuracy: 0.6280\n",
      "Epoch 11/200\n",
      "4463226/4463226 [==============================] - 12s 3us/sample - loss: 0.6599 - accuracy: 0.6282 - val_loss: 0.6600 - val_accuracy: 0.6280\n",
      "Epoch 12/200\n",
      "4463226/4463226 [==============================] - 11s 2us/sample - loss: 0.6599 - accuracy: 0.6282 - val_loss: 0.6600 - val_accuracy: 0.6280\n",
      "Epoch 13/200\n",
      "4463226/4463226 [==============================] - 12s 3us/sample - loss: 0.6599 - accuracy: 0.6282 - val_loss: 0.6600 - val_accuracy: 0.6280\n",
      "Epoch 14/200\n",
      "4463226/4463226 [==============================] - 12s 3us/sample - loss: 0.6599 - accuracy: 0.6282 - val_loss: 0.6600 - val_accuracy: 0.6280\n",
      "Epoch 15/200\n",
      "4463226/4463226 [==============================] - 12s 3us/sample - loss: 0.6599 - accuracy: 0.6282 - val_loss: 0.6600 - val_accuracy: 0.6280\n",
      "Epoch 16/200\n",
      "4463226/4463226 [==============================] - 12s 3us/sample - loss: 0.6599 - accuracy: 0.6282 - val_loss: 0.6601 - val_accuracy: 0.6280\n",
      "Epoch 17/200\n",
      "4463226/4463226 [==============================] - 11s 3us/sample - loss: 0.6599 - accuracy: 0.6282 - val_loss: 0.6600 - val_accuracy: 0.6280\n",
      "Epoch 18/200\n",
      "4463226/4463226 [==============================] - 10s 2us/sample - loss: 0.6599 - accuracy: 0.6282 - val_loss: 0.6600 - val_accuracy: 0.6280\n",
      "Epoch 19/200\n",
      "4463226/4463226 [==============================] - 9s 2us/sample - loss: 0.6599 - accuracy: 0.6282 - val_loss: 0.6600 - val_accuracy: 0.6280\n",
      "Epoch 20/200\n",
      "4463226/4463226 [==============================] - 9s 2us/sample - loss: 0.6599 - accuracy: 0.6282 - val_loss: 0.6601 - val_accuracy: 0.6280\n",
      "Epoch 21/200\n",
      "4463226/4463226 [==============================] - 10s 2us/sample - loss: 0.6599 - accuracy: 0.6282 - val_loss: 0.6600 - val_accuracy: 0.6280\n",
      "Epoch 22/200\n",
      "4463226/4463226 [==============================] - 9s 2us/sample - loss: 0.6599 - accuracy: 0.6282 - val_loss: 0.6600 - val_accuracy: 0.6280\n",
      "Epoch 23/200\n",
      "4463226/4463226 [==============================] - 9s 2us/sample - loss: 0.6599 - accuracy: 0.6282 - val_loss: 0.6600 - val_accuracy: 0.6280\n",
      "Epoch 24/200\n",
      "4463226/4463226 [==============================] - 9s 2us/sample - loss: 0.6599 - accuracy: 0.6282 - val_loss: 0.6600 - val_accuracy: 0.6280\n",
      "Epoch 25/200\n",
      "4463226/4463226 [==============================] - 10s 2us/sample - loss: 0.6599 - accuracy: 0.6282 - val_loss: 0.6600 - val_accuracy: 0.6280\n",
      "Epoch 26/200\n",
      "4463226/4463226 [==============================] - 9s 2us/sample - loss: 0.6599 - accuracy: 0.6282 - val_loss: 0.6601 - val_accuracy: 0.6280\n",
      "Epoch 27/200\n",
      "4463226/4463226 [==============================] - 8s 2us/sample - loss: 0.6599 - accuracy: 0.6282 - val_loss: 0.6600 - val_accuracy: 0.6280\n",
      "Epoch 28/200\n",
      "4463226/4463226 [==============================] - 8s 2us/sample - loss: 0.6599 - accuracy: 0.6282 - val_loss: 0.6600 - val_accuracy: 0.6280\n",
      "Epoch 29/200\n",
      "4463226/4463226 [==============================] - 8s 2us/sample - loss: 0.6599 - accuracy: 0.6282 - val_loss: 0.6600 - val_accuracy: 0.6280\n",
      "Epoch 30/200\n",
      "4463226/4463226 [==============================] - 8s 2us/sample - loss: 0.6599 - accuracy: 0.6282 - val_loss: 0.6600 - val_accuracy: 0.6280\n",
      "Epoch 31/200\n",
      "4463226/4463226 [==============================] - 8s 2us/sample - loss: 0.6599 - accuracy: 0.6282 - val_loss: 0.6599 - val_accuracy: 0.6280\n",
      "Epoch 32/200\n",
      "4463226/4463226 [==============================] - 8s 2us/sample - loss: 0.6599 - accuracy: 0.6282 - val_loss: 0.6599 - val_accuracy: 0.6280\n",
      "Epoch 33/200\n",
      "4463226/4463226 [==============================] - 6s 1us/sample - loss: 0.6599 - accuracy: 0.6282 - val_loss: 0.6600 - val_accuracy: 0.6280\n",
      "Epoch 34/200\n",
      "4463226/4463226 [==============================] - 6s 1us/sample - loss: 0.6599 - accuracy: 0.6282 - val_loss: 0.6599 - val_accuracy: 0.6280\n",
      "Epoch 35/200\n",
      "4463226/4463226 [==============================] - 6s 1us/sample - loss: 0.6599 - accuracy: 0.6282 - val_loss: 0.6599 - val_accuracy: 0.6280\n",
      "Epoch 36/200\n",
      "4463226/4463226 [==============================] - 7s 2us/sample - loss: 0.6599 - accuracy: 0.6282 - val_loss: 0.6599 - val_accuracy: 0.6280\n",
      "Epoch 37/200\n",
      "4463226/4463226 [==============================] - 7s 2us/sample - loss: 0.6599 - accuracy: 0.6282 - val_loss: 0.6600 - val_accuracy: 0.6280\n",
      "Epoch 38/200\n",
      "4463226/4463226 [==============================] - 7s 2us/sample - loss: 0.6599 - accuracy: 0.6282 - val_loss: 0.6599 - val_accuracy: 0.6280\n",
      "Epoch 39/200\n",
      "4463226/4463226 [==============================] - 8s 2us/sample - loss: 0.6599 - accuracy: 0.6282 - val_loss: 0.6599 - val_accuracy: 0.6280\n",
      "Epoch 40/200\n",
      "4463226/4463226 [==============================] - 8s 2us/sample - loss: 0.6599 - accuracy: 0.6282 - val_loss: 0.6600 - val_accuracy: 0.6280\n",
      "Epoch 41/200\n",
      "4463226/4463226 [==============================] - 7s 2us/sample - loss: 0.6599 - accuracy: 0.6282 - val_loss: 0.6599 - val_accuracy: 0.6280\n",
      "Epoch 42/200\n",
      "4463226/4463226 [==============================] - 7s 2us/sample - loss: 0.6599 - accuracy: 0.6282 - val_loss: 0.6599 - val_accuracy: 0.6280\n",
      "Epoch 43/200\n",
      "4463226/4463226 [==============================] - 7s 2us/sample - loss: 0.6599 - accuracy: 0.6282 - val_loss: 0.6599 - val_accuracy: 0.6280\n",
      "Epoch 44/200\n",
      "4463226/4463226 [==============================] - 7s 2us/sample - loss: 0.6599 - accuracy: 0.6282 - val_loss: 0.6599 - val_accuracy: 0.6280\n",
      "Epoch 45/200\n",
      "4463226/4463226 [==============================] - 7s 2us/sample - loss: 0.6599 - accuracy: 0.6282 - val_loss: 0.6599 - val_accuracy: 0.6280\n",
      "Epoch 46/200\n",
      "4463226/4463226 [==============================] - 8s 2us/sample - loss: 0.6599 - accuracy: 0.6282 - val_loss: 0.6600 - val_accuracy: 0.6280\n",
      "Epoch 47/200\n",
      "4463226/4463226 [==============================] - 7s 2us/sample - loss: 0.6598 - accuracy: 0.6282 - val_loss: 0.6599 - val_accuracy: 0.6280\n",
      "Epoch 48/200\n",
      "4463226/4463226 [==============================] - 7s 2us/sample - loss: 0.6598 - accuracy: 0.6282 - val_loss: 0.6599 - val_accuracy: 0.6280\n",
      "Epoch 49/200\n",
      "4463226/4463226 [==============================] - 7s 2us/sample - loss: 0.6598 - accuracy: 0.6282 - val_loss: 0.6599 - val_accuracy: 0.6280\n",
      "Epoch 50/200\n",
      "4463226/4463226 [==============================] - 6s 1us/sample - loss: 0.6598 - accuracy: 0.6282 - val_loss: 0.6600 - val_accuracy: 0.6280\n",
      "Epoch 51/200\n",
      "4463226/4463226 [==============================] - 7s 1us/sample - loss: 0.6598 - accuracy: 0.6282 - val_loss: 0.6599 - val_accuracy: 0.6280\n",
      "Epoch 52/200\n",
      "4463226/4463226 [==============================] - 6s 1us/sample - loss: 0.6598 - accuracy: 0.6282 - val_loss: 0.6599 - val_accuracy: 0.6280\n",
      "Epoch 53/200\n",
      "4463226/4463226 [==============================] - 7s 1us/sample - loss: 0.6598 - accuracy: 0.6282 - val_loss: 0.6599 - val_accuracy: 0.6280\n",
      "Epoch 54/200\n",
      "4463226/4463226 [==============================] - 7s 1us/sample - loss: 0.6598 - accuracy: 0.6282 - val_loss: 0.6599 - val_accuracy: 0.6280\n",
      "Epoch 55/200\n",
      "4463226/4463226 [==============================] - 6s 1us/sample - loss: 0.6598 - accuracy: 0.6282 - val_loss: 0.6599 - val_accuracy: 0.6280\n",
      "Epoch 56/200\n",
      "4463226/4463226 [==============================] - 6s 1us/sample - loss: 0.6598 - accuracy: 0.6282 - val_loss: 0.6599 - val_accuracy: 0.6280\n",
      "Epoch 57/200\n",
      "4463226/4463226 [==============================] - 6s 1us/sample - loss: 0.6598 - accuracy: 0.6282 - val_loss: 0.6599 - val_accuracy: 0.6280\n",
      "Epoch 58/200\n"
     ]
    },
    {
     "name": "stdout",
     "output_type": "stream",
     "text": [
      "4463226/4463226 [==============================] - 6s 1us/sample - loss: 0.6598 - accuracy: 0.6282 - val_loss: 0.6599 - val_accuracy: 0.6280\n",
      "Epoch 59/200\n",
      "4463226/4463226 [==============================] - 6s 1us/sample - loss: 0.6598 - accuracy: 0.6282 - val_loss: 0.6599 - val_accuracy: 0.6280\n",
      "Epoch 60/200\n",
      "4463226/4463226 [==============================] - 6s 1us/sample - loss: 0.6598 - accuracy: 0.6282 - val_loss: 0.6599 - val_accuracy: 0.6280\n",
      "Epoch 61/200\n",
      "4463226/4463226 [==============================] - 6s 1us/sample - loss: 0.6598 - accuracy: 0.6282 - val_loss: 0.6599 - val_accuracy: 0.6280\n",
      "Epoch 62/200\n",
      "4463226/4463226 [==============================] - 6s 1us/sample - loss: 0.6598 - accuracy: 0.6282 - val_loss: 0.6599 - val_accuracy: 0.6280\n",
      "Epoch 63/200\n",
      "4463226/4463226 [==============================] - 7s 1us/sample - loss: 0.6598 - accuracy: 0.6282 - val_loss: 0.6599 - val_accuracy: 0.6280\n",
      "Epoch 64/200\n",
      "4463226/4463226 [==============================] - 7s 1us/sample - loss: 0.6598 - accuracy: 0.6282 - val_loss: 0.6599 - val_accuracy: 0.6280\n",
      "Epoch 65/200\n",
      "4463226/4463226 [==============================] - 6s 1us/sample - loss: 0.6598 - accuracy: 0.6282 - val_loss: 0.6599 - val_accuracy: 0.6280\n",
      "Epoch 66/200\n",
      "4463226/4463226 [==============================] - 6s 1us/sample - loss: 0.6598 - accuracy: 0.6282 - val_loss: 0.6599 - val_accuracy: 0.6280\n",
      "Epoch 67/200\n",
      "4463226/4463226 [==============================] - 6s 1us/sample - loss: 0.6598 - accuracy: 0.6282 - val_loss: 0.6599 - val_accuracy: 0.6280\n",
      "Epoch 68/200\n",
      "4463226/4463226 [==============================] - 6s 1us/sample - loss: 0.6598 - accuracy: 0.6282 - val_loss: 0.6599 - val_accuracy: 0.6280\n",
      "Epoch 69/200\n",
      "4463226/4463226 [==============================] - 6s 1us/sample - loss: 0.6598 - accuracy: 0.6282 - val_loss: 0.6599 - val_accuracy: 0.6280\n",
      "Epoch 70/200\n",
      "4463226/4463226 [==============================] - 7s 2us/sample - loss: 0.6598 - accuracy: 0.6282 - val_loss: 0.6599 - val_accuracy: 0.6280\n",
      "Epoch 71/200\n",
      "4463226/4463226 [==============================] - 10s 2us/sample - loss: 0.6598 - accuracy: 0.6282 - val_loss: 0.6599 - val_accuracy: 0.6280\n",
      "Epoch 72/200\n",
      "4463226/4463226 [==============================] - 8s 2us/sample - loss: 0.6598 - accuracy: 0.6282 - val_loss: 0.6599 - val_accuracy: 0.6280\n",
      "Epoch 73/200\n",
      "4463226/4463226 [==============================] - 8s 2us/sample - loss: 0.6598 - accuracy: 0.6282 - val_loss: 0.6599 - val_accuracy: 0.6280\n",
      "Epoch 74/200\n",
      "4463226/4463226 [==============================] - 8s 2us/sample - loss: 0.6598 - accuracy: 0.6282 - val_loss: 0.6599 - val_accuracy: 0.6280\n",
      "Epoch 75/200\n",
      "4463226/4463226 [==============================] - 7s 2us/sample - loss: 0.6598 - accuracy: 0.6282 - val_loss: 0.6599 - val_accuracy: 0.6280\n",
      "Epoch 76/200\n",
      "4463226/4463226 [==============================] - 7s 2us/sample - loss: 0.6598 - accuracy: 0.6282 - val_loss: 0.6599 - val_accuracy: 0.6280\n",
      "Epoch 77/200\n",
      "4463226/4463226 [==============================] - 7s 2us/sample - loss: 0.6598 - accuracy: 0.6282 - val_loss: 0.6599 - val_accuracy: 0.6280\n",
      "Epoch 78/200\n",
      "4463226/4463226 [==============================] - 6s 1us/sample - loss: 0.6598 - accuracy: 0.6282 - val_loss: 0.6599 - val_accuracy: 0.6280\n",
      "Epoch 79/200\n",
      "4463226/4463226 [==============================] - 7s 1us/sample - loss: 0.6598 - accuracy: 0.6282 - val_loss: 0.6599 - val_accuracy: 0.6280\n",
      "Epoch 80/200\n",
      "4463226/4463226 [==============================] - 6s 1us/sample - loss: 0.6598 - accuracy: 0.6282 - val_loss: 0.6599 - val_accuracy: 0.6280\n",
      "Epoch 81/200\n",
      "4463226/4463226 [==============================] - 7s 1us/sample - loss: 0.6598 - accuracy: 0.6282 - val_loss: 0.6599 - val_accuracy: 0.6280\n",
      "Epoch 82/200\n",
      "4463226/4463226 [==============================] - 6s 1us/sample - loss: 0.6598 - accuracy: 0.6282 - val_loss: 0.6599 - val_accuracy: 0.6280\n",
      "Epoch 83/200\n",
      "4463226/4463226 [==============================] - 6s 1us/sample - loss: 0.6598 - accuracy: 0.6282 - val_loss: 0.6599 - val_accuracy: 0.6280\n",
      "Epoch 84/200\n",
      "4463226/4463226 [==============================] - 6s 1us/sample - loss: 0.6598 - accuracy: 0.6282 - val_loss: 0.6599 - val_accuracy: 0.6280\n",
      "Epoch 85/200\n",
      "4463226/4463226 [==============================] - 6s 1us/sample - loss: 0.6598 - accuracy: 0.6282 - val_loss: 0.6599 - val_accuracy: 0.6280\n",
      "Epoch 86/200\n",
      "4463226/4463226 [==============================] - 6s 1us/sample - loss: 0.6598 - accuracy: 0.6282 - val_loss: 0.6599 - val_accuracy: 0.6280\n",
      "Epoch 87/200\n",
      "4463226/4463226 [==============================] - 7s 1us/sample - loss: 0.6598 - accuracy: 0.6282 - val_loss: 0.6599 - val_accuracy: 0.6280\n",
      "Epoch 88/200\n",
      "4463226/4463226 [==============================] - 7s 2us/sample - loss: 0.6598 - accuracy: 0.6282 - val_loss: 0.6599 - val_accuracy: 0.6280\n",
      "Epoch 89/200\n",
      "4463226/4463226 [==============================] - 7s 2us/sample - loss: 0.6598 - accuracy: 0.6282 - val_loss: 0.6599 - val_accuracy: 0.6280\n",
      "Epoch 90/200\n",
      "4463226/4463226 [==============================] - 6s 1us/sample - loss: 0.6598 - accuracy: 0.6282 - val_loss: 0.6599 - val_accuracy: 0.6280\n",
      "Epoch 91/200\n",
      "4463226/4463226 [==============================] - 7s 2us/sample - loss: 0.6598 - accuracy: 0.6282 - val_loss: 0.6599 - val_accuracy: 0.6280\n",
      "Epoch 92/200\n",
      "4463226/4463226 [==============================] - 7s 1us/sample - loss: 0.6598 - accuracy: 0.6282 - val_loss: 0.6599 - val_accuracy: 0.6280\n",
      "Epoch 93/200\n",
      "4463226/4463226 [==============================] - 7s 2us/sample - loss: 0.6598 - accuracy: 0.6282 - val_loss: 0.6599 - val_accuracy: 0.6280\n",
      "Epoch 94/200\n",
      "4463226/4463226 [==============================] - 7s 2us/sample - loss: 0.6598 - accuracy: 0.6282 - val_loss: 0.6599 - val_accuracy: 0.6280\n",
      "Epoch 95/200\n",
      "4463226/4463226 [==============================] - 7s 2us/sample - loss: 0.6598 - accuracy: 0.6282 - val_loss: 0.6599 - val_accuracy: 0.6280\n",
      "Epoch 96/200\n",
      "4463226/4463226 [==============================] - 7s 2us/sample - loss: 0.6598 - accuracy: 0.6282 - val_loss: 0.6599 - val_accuracy: 0.6280\n",
      "Epoch 97/200\n",
      "4463226/4463226 [==============================] - 7s 1us/sample - loss: 0.6598 - accuracy: 0.6282 - val_loss: 0.6599 - val_accuracy: 0.6280\n",
      "Epoch 98/200\n",
      "4463226/4463226 [==============================] - 7s 1us/sample - loss: 0.6598 - accuracy: 0.6282 - val_loss: 0.6599 - val_accuracy: 0.6280\n",
      "Epoch 99/200\n",
      "4463226/4463226 [==============================] - 7s 1us/sample - loss: 0.6598 - accuracy: 0.6282 - val_loss: 0.6599 - val_accuracy: 0.6280\n",
      "Epoch 100/200\n",
      "4463226/4463226 [==============================] - 7s 2us/sample - loss: 0.6598 - accuracy: 0.6282 - val_loss: 0.6599 - val_accuracy: 0.6280\n",
      "Epoch 101/200\n",
      "4463226/4463226 [==============================] - 7s 2us/sample - loss: 0.6598 - accuracy: 0.6282 - val_loss: 0.6599 - val_accuracy: 0.6280\n",
      "Epoch 00101: early stopping\n"
     ]
    },
    {
     "data": {
      "image/png": "[encoded data removed]",
      "text/plain": [
       "<Figure size 432x288 with 1 Axes>"
      ]
     },
     "metadata": {
      "needs_background": "light"
     },
     "output_type": "display_data"
    },
    {
     "data": {
      "image/png": "[encoded data removed]",
      "text/plain": [
       "<Figure size 432x288 with 1 Axes>"
      ]
     },
     "metadata": {
      "needs_background": "light"
     },
     "output_type": "display_data"
    },
    {
     "name": "stdout",
     "output_type": "stream",
     "text": [
      "Saving architecture to: /mnt/c/Users/aaron/Desktop/PhD/Same_Sign_Top/NN_for_sstt/NN/Models/V05_SvsS_Final_6Vars_2/architecture_odd.json\n",
      "Saving weights to     : /mnt/c/Users/aaron/Desktop/PhD/Same_Sign_Top/NN_for_sstt/NN/Models/V05_SvsS_Final_6Vars_2/weights_odd.h5\n",
      "Saving architecture to: /mnt/c/Users/aaron/Desktop/PhD/Same_Sign_Top/NN_for_sstt/NN/Models/V05_SvsS_Final_6Vars_2/architecture_even.json\n",
      "Saving weights to     : /mnt/c/Users/aaron/Desktop/PhD/Same_Sign_Top/NN_for_sstt/NN/Models/V05_SvsS_Final_6Vars_2/weights_even.h5\n"
     ]
    }
   ],
   "source": [
    "history_odd, model_odd, history_even, model_even= Train_Odd_Even_changed(odd, even, n_epochs = n_epochs, batch_size = batch_size)\n",
    "history_list = [history_odd, history_even]\n",
    "Plot_Metrics_KFold(history_list, path_SvsS) \n",
    "\n",
    "Save_Model(model_odd, path_tosave, \"_odd\")\n",
    "Save_Model(model_even, path_tosave, \"_even\")"
   ]
  },
  {
   "cell_type": "code",
   "execution_count": 13,
   "metadata": {
    "scrolled": false
   },
   "outputs": [
    {
     "name": "stdout",
     "output_type": "stream",
     "text": [
      "Loading model architecture and weights (/mnt/c/Users/aaron/Desktop/PhD/Same_Sign_Top/NN_for_sstt/NN/Models/V05_SvsS_Final_6Vars_2/architecture_odd.json, /mnt/c/Users/aaron/Desktop/PhD/Same_Sign_Top/NN_for_sstt/NN/Models/V05_SvsS_Final_6Vars_2/weights_odd.h5)\n",
      "Loading model architecture and weights (/mnt/c/Users/aaron/Desktop/PhD/Same_Sign_Top/NN_for_sstt/NN/Models/V05_SvsS_Final_6Vars_2/architecture_even.json, /mnt/c/Users/aaron/Desktop/PhD/Same_Sign_Top/NN_for_sstt/NN/Models/V05_SvsS_Final_6Vars_2/weights_even.h5)\n"
     ]
    }
   ],
   "source": [
    "model_odd = Load_Model(path_tosave, name=\"_odd\")\n",
    "model_even = Load_Model(path_tosave, name=\"_even\")"
   ]
  },
  {
   "cell_type": "code",
   "execution_count": 14,
   "metadata": {},
   "outputs": [],
   "source": [
    "Predicted_even = model_odd.predict(even[0])\n",
    "Predicted_odd = model_even.predict(odd[0])"
   ]
  },
  {
   "cell_type": "code",
   "execution_count": 15,
   "metadata": {},
   "outputs": [
    {
     "data": {
      "image/png": "[encoded data removed]",
      "text/plain": [
       "<Figure size 432x288 with 1 Axes>"
      ]
     },
     "metadata": {
      "needs_background": "light"
     },
     "output_type": "display_data"
    }
   ],
   "source": [
    "pred = np.concatenate([Predicted_even, Predicted_odd])\n",
    "truth = np.concatenate([even[1], odd[1]])\n",
    "\n",
    "fpr, tpr, thr = roc_curve(truth, pred)\n",
    "roc_auc = auc(fpr, tpr)\n",
    "\n",
    "fpr_even, tpr_even, thr_even = roc_curve(even[1], Predicted_even)\n",
    "roc_auc_even = auc(fpr_even, tpr_even)\n",
    "\n",
    "fpr_odd, tpr_odd, thr_odd = roc_curve(odd[1], Predicted_odd)\n",
    "roc_auc_odd = auc(fpr_odd, tpr_odd)\n",
    "\n",
    "fig = plt.figure()\n",
    "plt.plot(fpr_even, tpr_even, linestyle='--', label='Even ROC curve (area = {:.4f})'.format(roc_auc_even))\n",
    "plt.plot(fpr_odd, tpr_odd, linestyle='--', color='teal', label='Odd: ROC curve (area = {:.4f})'.format(roc_auc_odd))\n",
    "plt.plot(fpr, tpr, color='darkorange', label='Combined: ROC curve (area = {:.4f})'.format(roc_auc))\n",
    "plt.plot([0, 1], [0, 1], color='navy', lw=2, linestyle='--')\n",
    "plt.xlim([0.0, 1.0])\n",
    "plt.ylim([0.0, 1.05])\n",
    "plt.xlabel('False Positive Rate')\n",
    "plt.ylabel('True Positive Rate')\n",
    "plt.legend(loc=\"lower right\")\n",
    "plt.savefig(path_SvsS + \"ROC-Curve.png\")\n",
    "plt.show()"
   ]
  },
  {
   "cell_type": "code",
   "execution_count": 16,
   "metadata": {},
   "outputs": [
    {
     "name": "stdout",
     "output_type": "stream",
     "text": [
      "Cut_Value: 0.373\n",
      "Sig_Eff: 0.503\n",
      "Bkg_Eff: 0.516\n"
     ]
    }
   ],
   "source": [
    "def Find_Eff_Cut_Equal(Sig, Bkg):\n",
    "    steps = 1000\n",
    "    Cut = np.linspace(0,1,steps)\n",
    "    Sig_Eff_list = []\n",
    "    Bkg_Eff_list = []\n",
    "    for i in range(steps):    \n",
    "        Sig_Eff_list.append(Sig[Sig > Cut[i]].size/Sig.size)\n",
    "        Bkg_Eff_list.append(Bkg[Bkg < Cut[i]].size/Bkg.size)\n",
    "    Sig_Eff_list = np.array(Sig_Eff_list)\n",
    "    Bkg_Eff_list = np.array(Bkg_Eff_list)\n",
    "    best_step = np.argmax(Sig_Eff_list + Bkg_Eff_list - (abs(Sig_Eff_list - Bkg_Eff_list)/2 ) )\n",
    "    \n",
    "    print(f\"Cut_Value: {Cut[best_step]:.3f}\")\n",
    "    print(f\"Sig_Eff: {Sig_Eff_list[best_step]:.3f}\")\n",
    "    print(f\"Bkg_Eff: {Bkg_Eff_list[best_step]:.3f}\")\n",
    "    \n",
    "    return Sig_Eff_list[best_step], Bkg_Eff_list[best_step], Cut[best_step]\n",
    "\n",
    "Sig = pred[truth==1]\n",
    "Bkg = pred[truth==0]\n",
    "Sig_Eff, Bkg_Eff, Signal_Cut = Find_Eff_Cut_Equal(Sig=Sig, Bkg=Bkg)"
   ]
  },
  {
   "cell_type": "code",
   "execution_count": 17,
   "metadata": {
    "scrolled": true
   },
   "outputs": [
    {
     "data": {
      "image/png": "[encoded data removed]",
      "text/plain": [
       "<Figure size 432x288 with 1 Axes>"
      ]
     },
     "metadata": {
      "needs_background": "light"
     },
     "output_type": "display_data"
    }
   ],
   "source": [
    "fig = plt.figure()\n",
    "plt.grid(color='k', which='both', linestyle='--', lw=0.5, alpha=0.1, zorder = 0)\n",
    "plt.xlabel(\"NN output Cuu/Cqu\", horizontalalignment='right', x=1)\n",
    "plt.xlim([0,1])\n",
    "plt.ylabel(\"Density\")\n",
    "histargs = {\"bins\":40, \"range\":(0,1.), \"density\":True, \"histtype\":'step'}\n",
    "plt.hist(pred[truth==1],label = \"Cqu\", **histargs)\n",
    "plt.hist(pred[truth==0],label = \"Cuu\", **histargs)\n",
    "plt.vlines(Signal_Cut, ymin=plt.gca().get_ylim()[0]+ plt.gca().get_ylim()[1]*0.02, ymax=plt.gca().get_ylim()[1]*0.98, color='red', linestyle='--', label='Cut-Value', alpha=0.8, linewidth=1.3)\n",
    "plt.legend(loc='upper left', frameon=False,)\n",
    "plt.savefig(path_SvsS + \"DNN-Output-Signal.png\")\n",
    "plt.show()\n",
    "#saveit = \"{}/{}\".format(path_tosave, \"DNN_Output.png\")\n",
    "#plt.savefig(saveit)"
   ]
  },
  {
   "cell_type": "code",
   "execution_count": 18,
   "metadata": {
    "scrolled": false
   },
   "outputs": [
    {
     "data": {
      "image/png": "[encoded data removed]",
      "text/plain": [
       "<Figure size 432x288 with 2 Axes>"
      ]
     },
     "metadata": {
      "needs_background": "light"
     },
     "output_type": "display_data"
    },
    {
     "name": "stdout",
     "output_type": "stream",
     "text": [
      "[[0.5157 0.4843]\n",
      " [0.497  0.503 ]]\n"
     ]
    }
   ],
   "source": [
    "from sklearn import metrics\n",
    "pred = np.squeeze(pred)\n",
    "pred_cut = np.zeros([pred.size])\n",
    "pred_cut[pred > Signal_Cut] = 1\n",
    "pred_cut[pred < Signal_Cut] = 0\n",
    "confusion_matrix = np.round(metrics.confusion_matrix(truth, pred_cut, normalize='true'), 4)\n",
    "\n",
    "cm_display = metrics.ConfusionMatrixDisplay(confusion_matrix = confusion_matrix, display_labels = [False, True])\n",
    "cm_display.plot()\n",
    "plt.savefig(path_SvsS + \"Confusion_Matrix.png\")\n",
    "plt.show()\n",
    "\n",
    "print(confusion_matrix)"
   ]
  },
  {
   "cell_type": "code",
   "execution_count": 19,
   "metadata": {},
   "outputs": [],
   "source": [
    "#f, g = get_feature_importance(even, model_odd, Signal_Cut, 2)\n",
    "#idx = np.argsort(f)\n",
    "#fig, ax = plt.subplots(figsize=(20, 10))\n",
    "#ax.barh(range(even[0].shape[1]), np.sort(f), color=\"r\", alpha=0.7)\n",
    "#ax.set_yticks(range(even[0].shape[1]), np.array(feature_names)[idx])\n",
    "#ax.set_xlabel('Feature Importance')\n",
    "#plt.savefig(path_SvsS + \"/Feature_Importance_even.png\")"
   ]
  },
  {
   "cell_type": "markdown",
   "metadata": {},
   "source": [
    "# Test on Background"
   ]
  },
  {
   "cell_type": "code",
   "execution_count": 20,
   "metadata": {
    "scrolled": false
   },
   "outputs": [
    {
     "name": "stdout",
     "output_type": "stream",
     "text": [
      "Ignoring feature:  DeltaR_min_lep_bjet77\n",
      "Ignoring feature:  DeltaR_max_lep_bjet77\n",
      "Ignoring feature:  DRjj_lead\n",
      "Found 21 features on the dataset 18 features were loaded: \n",
      "\n",
      "DEtall_SS\n",
      "DPhill_SS\n",
      "DRll01\n",
      "HT_jets\n",
      "HT_lep\n",
      "Mll01\n",
      "MtLepMet\n",
      "jet_pseudoscore_DL1r0\n",
      "jet_pseudoscore_DL1r1\n",
      "jet_pseudoscore_DL1r2\n",
      "jet_pt0_nofwd\n",
      "met_met\n",
      "total_charge\n",
      "nJets_OR\n",
      "nJets_OR_DL1r_77\n",
      "sumPsbtag\n",
      "sumPsbtag77\n",
      "randomRunNumber\n",
      " \n",
      "Dataset contains extra labels for different backgrounds!\n",
      "Class 0  :  253953\n",
      "Class 1  :  231587\n",
      "Class 2  :  3249\n",
      "Class 3  :  310859\n",
      "Class 4  :  190589\n",
      "Class 5  :  223033\n",
      "Class 6  :  355647\n",
      "Class 7  :  109991\n",
      "Class 8  :  1039\n",
      "Class 9  :  0\n",
      "Class 10  :  425286\n",
      "Dataset contains 679239 Signal events and 1425994 Background events.\n"
     ]
    }
   ],
   "source": [
    "samples, feature_names, class_names, class_no = load_input_file('data/V05_sstt_Data.h5', features_to_ignore)\n",
    "input_features, targets, class_labels, weights = build_combined_input(samples)"
   ]
  },
  {
   "cell_type": "code",
   "execution_count": 21,
   "metadata": {},
   "outputs": [],
   "source": [
    "#Extract and drop RunNumber\n",
    "feature_names = feature_names[:-1]\n",
    "run_numbers = input_features[:,-1]\n",
    "input_features = input_features[:,:-1]"
   ]
  },
  {
   "cell_type": "code",
   "execution_count": 22,
   "metadata": {},
   "outputs": [],
   "source": [
    "input_scaled = scaler.transform(input_features)\n",
    "odd, even = Fold_Odd_Even(input_scaled, targets, weights, class_labels, run_numbers)"
   ]
  },
  {
   "cell_type": "code",
   "execution_count": 23,
   "metadata": {},
   "outputs": [],
   "source": [
    "Pred_odd = model_even.predict(odd[0])\n",
    "Pred_even = model_odd.predict(even[0])\n",
    "\n",
    "Pred = np.concatenate([Pred_odd, Pred_even])\n",
    "Truth = np.concatenate([odd[1], even[1]])\n",
    "Weights = np.concatenate([odd[2], even[2]])\n",
    "Class_labels = np.concatenate([odd[3], even[3]])"
   ]
  },
  {
   "cell_type": "code",
   "execution_count": 24,
   "metadata": {
    "scrolled": true
   },
   "outputs": [
    {
     "data": {
      "image/png": "[encoded data removed]",
      "text/plain": [
       "<Figure size 432x288 with 1 Axes>"
      ]
     },
     "metadata": {
      "needs_background": "light"
     },
     "output_type": "display_data"
    }
   ],
   "source": [
    "fig = plt.figure()\n",
    "plt.grid(color='k', which='both', linestyle='--', lw=0.5, alpha=0.1, zorder = 0)\n",
    "plt.xlabel(\"NN output Cuu/Cqu\", horizontalalignment='right', x=1)\n",
    "plt.xlim([0,1])\n",
    "plt.ylabel(\"Density\")\n",
    "histargs = {\"bins\":40, \"range\":(0,1.), \"density\":True, \"histtype\":'step'}\n",
    "#plt.hist(Pred[Class_labels==0], label = \"tt\", **histargs)\n",
    "#plt.hist(Pred[Class_labels==10], label = \"tbartbar\", **histargs)\n",
    "#plt.hist(Pred[Class_labels!=10 and Class_labels!=0], label = \"Background\", **histargs)\n",
    "plt.hist(Pred[Truth==0], label = \"Background\", **histargs)\n",
    "plt.hist(Pred[Truth==1], label=\"Signal\", **histargs)\n",
    "plt.vlines(Signal_Cut, ymin=plt.gca().get_ylim()[0]+ plt.gca().get_ylim()[1]*0.02, ymax=plt.gca().get_ylim()[1]*0.98, color='red', linestyle='--', label='Cut-Value', alpha=0.8, linewidth=1.3)\n",
    "plt.legend(frameon=False, loc='upper left')\n",
    "plt.savefig(path_SvsS + \"DNN-Output-Signal-Background.png\")\n",
    "plt.show()"
   ]
  },
  {
   "cell_type": "code",
   "execution_count": 25,
   "metadata": {},
   "outputs": [],
   "source": [
    "index_sort = np.argsort(class_no)\n",
    "class_names = (np.array(class_names)[index_sort])\n",
    "class_no = np.sort(class_no)"
   ]
  },
  {
   "cell_type": "code",
   "execution_count": 26,
   "metadata": {},
   "outputs": [
    {
     "data": {
      "image/png": "[encoded data removed]",
      "text/plain": [
       "<Figure size 432x288 with 1 Axes>"
      ]
     },
     "metadata": {
      "needs_background": "light"
     },
     "output_type": "display_data"
    }
   ],
   "source": [
    "fig = plt.figure()\n",
    "plt.grid(color='k', which='both', linestyle='--', lw=0.5, alpha=0.1, zorder = 0)\n",
    "plt.xlabel(\"NN output Cuu/Cqu\", horizontalalignment='right', x=1)\n",
    "plt.xlim([0,1])\n",
    "plt.ylabel(\"Number of events\")\n",
    "histargs = {\"bins\":40, \"range\":(0,1.), \"histtype\":'step'}\n",
    "for i in range(1,9):\n",
    "    plt.hist(Pred[Class_labels == i], label = class_names[i], **histargs)\n",
    "plt.vlines(Signal_Cut, ymin=plt.gca().get_ylim()[0]+ plt.gca().get_ylim()[1]*0.02, ymax=plt.gca().get_ylim()[1]*0.98, color='red', linestyle='--', label='Cut-Value', alpha=0.8, linewidth=1.3)\n",
    "plt.savefig(path_SvsS + \"DNN-Output-Background-classes.png\")\n",
    "plt.legend(frameon=False, loc='upper left')\n",
    "plt.show()"
   ]
  },
  {
   "cell_type": "code",
   "execution_count": 27,
   "metadata": {
    "scrolled": false
   },
   "outputs": [
    {
     "data": {
      "image/png": "[encoded data removed]",
      "text/plain": [
       "<Figure size 432x288 with 1 Axes>"
      ]
     },
     "metadata": {
      "needs_background": "light"
     },
     "output_type": "display_data"
    }
   ],
   "source": [
    "fig = plt.figure()\n",
    "plt.grid(color='k', which='both', linestyle='--', lw=0.5, alpha=0.1, zorder = 0)\n",
    "plt.xlabel(\"NN output Cuu/Cqu\", horizontalalignment='right', x=1)\n",
    "plt.xlim([0,1])\n",
    "plt.ylabel(\"Number of events weighted\")\n",
    "histargs = {\"bins\":40, \"range\":(0,1.), \"histtype\":'step'}\n",
    "for i in range(1,9):\n",
    "    plt.hist(Pred[Class_labels == i], label = class_names[i], **histargs, weights=Weights[Class_labels == i])\n",
    "plt.vlines(Signal_Cut, ymin=plt.gca().get_ylim()[0]+ plt.gca().get_ylim()[1]*0.02, ymax=plt.gca().get_ylim()[1]*0.98, color='red', linestyle='--', label='Cut-Value', alpha=0.8, linewidth=1.3)\n",
    "plt.legend(frameon=False, loc='upper left')\n",
    "plt.savefig(path_SvsS + \"DNN-Output-Background-classes_weighted.png\")\n",
    "plt.show()"
   ]
  },
  {
   "cell_type": "code",
   "execution_count": 28,
   "metadata": {},
   "outputs": [
    {
     "ename": "NameError",
     "evalue": "name 'test2' is not defined",
     "output_type": "error",
     "traceback": [
      "\u001b[0;31m---------------------------------------------------------------------------\u001b[0m",
      "\u001b[0;31mNameError\u001b[0m                                 Traceback (most recent call last)",
      "\u001b[0;32m<ipython-input-28-5988aa789ddd>\u001b[0m in \u001b[0;36m<module>\u001b[0;34m\u001b[0m\n\u001b[0;32m----> 1\u001b[0;31m \u001b[0mtest\u001b[0m \u001b[0;34m=\u001b[0m \u001b[0mtest2\u001b[0m\u001b[0;34m\u001b[0m\u001b[0;34m\u001b[0m\u001b[0m\n\u001b[0m",
      "\u001b[0;31mNameError\u001b[0m: name 'test2' is not defined"
     ]
    }
   ],
   "source": [
    "test = test2"
   ]
  },
  {
   "cell_type": "markdown",
   "metadata": {},
   "source": [
    "# Split into Cuu SR & Cqu SR"
   ]
  },
  {
   "cell_type": "code",
   "execution_count": null,
   "metadata": {},
   "outputs": [],
   "source": [
    "def Split_in_SR(input_data, Predict, Signal_Cut):\n",
    "    mask_cuu = np.squeeze(Predict < Signal_Cut)\n",
    "    mask_cqu = np.squeeze(Predict >= Signal_Cut)\n",
    "    features_cuu = input_data[0][mask_cuu,:]\n",
    "    features_cqu = input_data[0][mask_cqu,:]\n",
    "    targets_cuu = input_data[1][mask_cuu]\n",
    "    targets_cqu = input_data[1][mask_cqu]\n",
    "    weights_cuu = input_data[2][mask_cuu]\n",
    "    weights_cqu = input_data[2][mask_cqu]\n",
    "    class_labels_cuu = input_data[3][mask_cuu]\n",
    "    class_labels_cqu = input_data[3][mask_cqu]\n",
    "    cuu = (features_cuu, targets_cuu, weights_cuu, class_labels_cuu)\n",
    "    cqu = (features_cqu, targets_cqu, weights_cqu, class_labels_cqu)\n",
    "    return cuu, cqu"
   ]
  },
  {
   "cell_type": "code",
   "execution_count": null,
   "metadata": {},
   "outputs": [],
   "source": [
    "odd_cuu, odd_cqu = Split_in_SR(odd, Pred_odd, Signal_Cut=Signal_Cut)\n",
    "even_cuu, even_cqu = Split_in_SR(even, Pred_even, Signal_Cut=Signal_Cut)"
   ]
  },
  {
   "cell_type": "code",
   "execution_count": null,
   "metadata": {},
   "outputs": [],
   "source": [
    "# Reduce to 6 features for Signal over Background NN\n",
    "Wanted_Features = ['jet_pseudoscore_DL1r0', 'jet_pseudoscore_DL1r1', 'HT_lep', 'MtLepMet', 'jet_pt0_nofwd', 'nJets_OR', 'total_charge']\n",
    "i = 0\n",
    "Wanted_Features_idx_list = []\n",
    "for feature in feature_names:\n",
    "    for Wanted_Feature in Wanted_Features:    \n",
    "        if feature == Wanted_Feature:\n",
    "            Wanted_Features_idx_list.append(i)\n",
    "    i += 1"
   ]
  },
  {
   "cell_type": "code",
   "execution_count": null,
   "metadata": {},
   "outputs": [],
   "source": [
    "def Recombine_reduced_data(input_data, input_features):\n",
    "    return (input_features, input_data[1], input_data[2], input_data[3])\n",
    "\n",
    "def Reduce_Features(input_data, feature_list, feature_names):\n",
    "    features_to_delete = []\n",
    "    if input_data[0].shape[1] == 6:\n",
    "        print(\"Exit function, data is already reduced!\")\n",
    "        return input_data\n",
    "    for i in range(input_data[0].shape[1]):\n",
    "        if i not in feature_list:\n",
    "            features_to_delete.append(i)\n",
    "            \n",
    "    features_to_delete.reverse()\n",
    "    input_features = input_data[0]\n",
    "    \n",
    "    for feature_idx in features_to_delete:\n",
    "        input_features = np.delete(input_features, feature_idx, 1)\n",
    "        \n",
    "    input_data = Recombine_reduced_data(input_data, input_features)\n",
    "    \n",
    "    return input_data"
   ]
  },
  {
   "cell_type": "code",
   "execution_count": null,
   "metadata": {
    "scrolled": false
   },
   "outputs": [],
   "source": [
    "odd_cuu = Reduce_Features(odd_cuu, Wanted_Features_idx_list, feature_names)\n",
    "even_cuu = Reduce_Features(even_cuu, Wanted_Features_idx_list, feature_names)\n",
    "odd_cqu = Reduce_Features(odd_cqu, Wanted_Features_idx_list, feature_names)\n",
    "even_cqu = Reduce_Features(even_cqu, Wanted_Features_idx_list, feature_names)\n",
    "if len(feature_names) > len(Wanted_Features):\n",
    "    feature_names = np.array(feature_names)[Wanted_Features_idx_list].tolist()"
   ]
  },
  {
   "cell_type": "markdown",
   "metadata": {},
   "source": [
    "# Charge Split"
   ]
  },
  {
   "cell_type": "code",
   "execution_count": null,
   "metadata": {},
   "outputs": [],
   "source": [
    "# Find total_charge index\n",
    "i = 0\n",
    "for feature in feature_names:\n",
    "    if feature == 'total_charge':\n",
    "        total_charge_idx = i\n",
    "    i += 1\n",
    "print(\"Found\", feature_names[total_charge_idx], \"at index\", total_charge_idx)"
   ]
  },
  {
   "cell_type": "code",
   "execution_count": null,
   "metadata": {},
   "outputs": [],
   "source": [
    "def Split_by_Charge(input_data):\n",
    "    input_scaled = input_data[0]\n",
    "    \n",
    "    # Multiply by one to counter flip which occurs due to scaling\n",
    "    total_charge = input_scaled[:,total_charge_idx] * -1\n",
    "    input_scaled = np.delete(input_scaled, total_charge_idx, 1)\n",
    "    \n",
    "    # ++\n",
    "    input_scaled_pos = input_scaled[total_charge > 0]\n",
    "    targets_pos = input_data[1][total_charge > 0]\n",
    "    weights_pos = input_data[2][total_charge > 0]\n",
    "    class_labels_pos = input_data[3][total_charge > 0]\n",
    "    # --\n",
    "    input_scaled_neg = input_scaled[total_charge < 0]\n",
    "    targets_neg = input_data[1][total_charge < 0]\n",
    "    weights_neg = input_data[2][total_charge < 0]\n",
    "    class_labels_neg = input_data[3][total_charge < 0]\n",
    "    \n",
    "    return (input_scaled_pos, targets_pos, weights_pos, class_labels_pos), (input_scaled_neg, targets_neg, weights_neg, class_labels_neg)"
   ]
  },
  {
   "cell_type": "code",
   "execution_count": null,
   "metadata": {
    "scrolled": true
   },
   "outputs": [],
   "source": [
    "odd_cuu_pos, odd_cuu_neg = Split_by_Charge(odd_cuu)\n",
    "odd_cqu_pos, odd_cqu_neg = Split_by_Charge(odd_cqu)\n",
    "even_cuu_pos, even_cuu_neg = Split_by_Charge(even_cuu)\n",
    "even_cqu_pos, even_cqu_neg = Split_by_Charge(even_cqu)"
   ]
  },
  {
   "cell_type": "code",
   "execution_count": null,
   "metadata": {
    "scrolled": false
   },
   "outputs": [],
   "source": [
    "ScaleWeights(odd_cuu_pos[1],odd_cuu_pos[2])\n",
    "ScaleWeights(even_cuu_pos[1],even_cuu_pos[2])\n",
    "ScaleWeights(odd_cqu_pos[1],odd_cqu_pos[2])\n",
    "ScaleWeights(even_cqu_pos[1],even_cqu_pos[2])\n",
    "ScaleWeights(odd_cuu_neg[1],odd_cuu_neg[2])\n",
    "ScaleWeights(even_cuu_neg[1],even_cuu_neg[2])\n",
    "ScaleWeights(odd_cqu_neg[1],odd_cqu_neg[2])\n",
    "ScaleWeights(even_cqu_neg[1],even_cqu_neg[2])"
   ]
  },
  {
   "cell_type": "markdown",
   "metadata": {},
   "source": [
    "# Train SvsB NN"
   ]
  },
  {
   "cell_type": "code",
   "execution_count": null,
   "metadata": {
    "scrolled": true
   },
   "outputs": [],
   "source": [
    "hist_cuu_odd_pos, model_cuu_odd_pos, hist_cuu_even_pos, model_cuu_even_pos = Train_Odd_Even(odd_cuu_pos, even_cuu_pos, n_epochs = n_epochs, batch_size = batch_size)\n",
    "history_list_cuu_pos = [hist_cuu_odd_pos, hist_cuu_even_pos]\n",
    "Plot_Metrics_KFold(history_list_cuu_pos, path_SvsB, \"Pos_Cuu_Models_\")\n",
    "\n",
    "hist_cqu_odd_pos, model_cqu_odd_pos, hist_cqu_even_pos, model_cqu_even_pos = Train_Odd_Even(odd_cqu_pos, even_cqu_pos, n_epochs = n_epochs, batch_size = batch_size)\n",
    "history_list_cqu_pos = [hist_cqu_odd_pos, hist_cqu_even_pos]\n",
    "Plot_Metrics_KFold(history_list_cqu_pos, path_SvsB, \"Pos_Cqu_Models_\")\n",
    "\n",
    "Save_Model(model_cuu_odd_pos, path_tosave, \"_odd_cuu_pos\")\n",
    "Save_Model(model_cuu_even_pos, path_tosave, \"_even_cuu_pos\")\n",
    "Save_Model(model_cqu_odd_pos, path_tosave, \"_odd_cqu_pos\")\n",
    "Save_Model(model_cqu_even_pos, path_tosave, \"_even_cqu_pos\")"
   ]
  },
  {
   "cell_type": "code",
   "execution_count": null,
   "metadata": {
    "scrolled": false
   },
   "outputs": [],
   "source": [
    "n_epochs = 125\n",
    "hist_cuu_odd_neg, model_cuu_odd_neg, hist_cuu_even_neg, model_cuu_even_neg = Train_Odd_Even(odd_cuu_neg, even_cuu_neg, n_epochs = n_epochs, batch_size = batch_size)\n",
    "history_list_cuu_neg = [hist_cuu_odd_neg, hist_cuu_even_neg]\n",
    "Plot_Metrics_KFold(history_list_cuu_neg, path_SvsB, \"Neg_Cuu_Models_\")\n",
    "\n",
    "hist_cqu_odd_neg, model_cqu_odd_neg, hist_cqu_even_neg, model_cqu_even_neg = Train_Odd_Even(odd_cqu_neg, even_cqu_neg, n_epochs = n_epochs, batch_size = batch_size)\n",
    "history_list_cqu_neg = [hist_cqu_odd_neg, hist_cqu_even_neg]\n",
    "Plot_Metrics_KFold(history_list_cqu_neg, path_SvsB, \"Neg_Cqu_Models_\")\n",
    "\n",
    "Save_Model(model_cuu_odd_neg, path_tosave, \"_odd_cuu_neg\")\n",
    "Save_Model(model_cuu_even_neg, path_tosave, \"_even_cuu_neg\")\n",
    "Save_Model(model_cqu_odd_neg, path_tosave, \"_odd_cqu_neg\")\n",
    "Save_Model(model_cqu_even_neg, path_tosave, \"_even_cqu_neg\")"
   ]
  },
  {
   "cell_type": "markdown",
   "metadata": {},
   "source": [
    "# Evaluate"
   ]
  },
  {
   "cell_type": "code",
   "execution_count": null,
   "metadata": {
    "scrolled": false
   },
   "outputs": [],
   "source": [
    "model_cuu_even_pos = Load_Model(path_tosave, name=\"_even_cuu_pos\")\n",
    "model_cuu_odd_pos = Load_Model(path_tosave, name=\"_odd_cuu_pos\")\n",
    "model_cqu_even_pos = Load_Model(path_tosave, name=\"_even_cqu_pos\")\n",
    "model_cqu_odd_pos = Load_Model(path_tosave, name=\"_odd_cqu_pos\")\n",
    "model_cuu_even_neg = Load_Model(path_tosave, name=\"_even_cuu_neg\")\n",
    "model_cuu_odd_neg = Load_Model(path_tosave, name=\"_odd_cuu_neg\")\n",
    "model_cqu_even_neg = Load_Model(path_tosave, name=\"_even_cqu_neg\")\n",
    "model_cqu_odd_neg = Load_Model(path_tosave, name=\"_odd_cqu_neg\")"
   ]
  },
  {
   "cell_type": "code",
   "execution_count": null,
   "metadata": {},
   "outputs": [],
   "source": [
    "#Reload Data to have non scaled weights\n",
    "odd_cuu_pos, odd_cuu_neg = Split_by_Charge(odd_cuu)\n",
    "odd_cqu_pos, odd_cqu_neg = Split_by_Charge(odd_cqu)\n",
    "even_cuu_pos, even_cuu_neg = Split_by_Charge(even_cuu)\n",
    "even_cqu_pos, even_cqu_neg = Split_by_Charge(even_cqu)"
   ]
  },
  {
   "cell_type": "code",
   "execution_count": null,
   "metadata": {},
   "outputs": [],
   "source": [
    "pred1 = model_cuu_odd_pos.predict(even_cuu_pos[0])\n",
    "pred2 = model_cuu_even_pos.predict(odd_cuu_pos[0])\n",
    "pred3 = model_cqu_odd_pos.predict(even_cqu_pos[0])\n",
    "pred4 = model_cqu_even_pos.predict(odd_cqu_pos[0])\n",
    "pred5 = model_cuu_odd_neg.predict(even_cuu_neg[0])\n",
    "pred6 = model_cuu_even_neg.predict(odd_cuu_neg[0])\n",
    "pred7 = model_cqu_odd_neg.predict(even_cqu_neg[0])\n",
    "pred8 = model_cqu_even_neg.predict(odd_cqu_neg[0])\n",
    "\n",
    "truth1 = even_cuu_pos[1]\n",
    "truth2 = odd_cuu_pos[1]\n",
    "truth3 = even_cqu_pos[1]\n",
    "truth4 = odd_cqu_pos[1]\n",
    "truth5 = even_cuu_neg[1]\n",
    "truth6 = odd_cuu_neg[1]\n",
    "truth7 = even_cqu_neg[1]\n",
    "truth8 = odd_cqu_neg[1]\n",
    "\n",
    "weights1 = even_cuu_pos[2]\n",
    "weights2 = odd_cuu_pos[2]\n",
    "weights3 = even_cqu_pos[2]\n",
    "weights4 = odd_cqu_pos[2]\n",
    "weights5 = even_cuu_neg[2]\n",
    "weights6 = odd_cuu_neg[2]\n",
    "weights7 = even_cqu_neg[2]\n",
    "weights8 = odd_cqu_neg[2]"
   ]
  },
  {
   "cell_type": "code",
   "execution_count": null,
   "metadata": {},
   "outputs": [],
   "source": [
    "pred_cuu_pos = np.concatenate([pred1, pred2])\n",
    "truth_cuu_pos = np.concatenate([truth1, truth2])\n",
    "weights_cuu_pos = np.concatenate([weights1, weights2])\n",
    "\n",
    "pred_cqu_pos = np.concatenate([pred3, pred4])\n",
    "truth_cqu_pos = np.concatenate([truth3, truth4])\n",
    "weights_cqu_pos = np.concatenate([weights3, weights4])\n",
    "\n",
    "pred_cuu_neg = np.concatenate([pred5, pred6])\n",
    "truth_cuu_neg = np.concatenate([truth5, truth6])\n",
    "weights_cuu_neg = np.concatenate([weights5, weights6])\n",
    "\n",
    "pred_cqu_neg = np.concatenate([pred7, pred8])\n",
    "truth_cqu_neg = np.concatenate([truth7, truth8])\n",
    "weights_cqu_neg = np.concatenate([weights7, weights8])"
   ]
  },
  {
   "cell_type": "code",
   "execution_count": null,
   "metadata": {
    "scrolled": true
   },
   "outputs": [],
   "source": [
    "fig = plt.figure()\n",
    "plt.grid(color='k', which='both', linestyle='--', lw=0.5, alpha=0.1, zorder = 0)\n",
    "plt.xlabel(\"NN output\", horizontalalignment='right', x=1)\n",
    "plt.xlim([0,1])\n",
    "plt.ylabel(\"Number of events weighted\")\n",
    "#plt.yscale('log')\n",
    "histargs = {\"bins\":40, \"range\":(0,1.), \"histtype\":'step'}\n",
    "plt.hist(pred_cuu_pos[:,0][truth_cuu_pos==1],label = \"++ cuu Signal\", **histargs, weights=weights_cuu_pos[truth_cuu_pos==1])\n",
    "plt.hist(pred_cuu_pos[:,0][truth_cuu_pos==0],label = \"++ cuu Background\", **histargs, weights=weights_cuu_pos[truth_cuu_pos==0])\n",
    "plt.legend(loc='upper center', frameon=False)\n",
    "plt.savefig(path_SvsB + \"Pos_Cuu_DNN-Output_Weighted.png\")\n",
    "plt.show()\n",
    "\n",
    "fig = plt.figure()\n",
    "plt.grid(color='k', which='both', linestyle='--', lw=0.5, alpha=0.1, zorder = 0)\n",
    "plt.xlabel(\"NN output\", horizontalalignment='right', x=1)\n",
    "plt.xlim([0,1])\n",
    "plt.ylabel(\"Number of events weighted\")\n",
    "#plt.yscale('log')\n",
    "histargs = {\"bins\":40, \"range\":(0,1.), \"histtype\":'step'}\n",
    "plt.hist(pred_cuu_neg[:,0][truth_cuu_neg==1],label = \"-- cuu Signal\", **histargs, weights=weights_cuu_neg[truth_cuu_neg==1])\n",
    "plt.hist(pred_cuu_neg[:,0][truth_cuu_neg==0],label = \"-- cuu Background\", **histargs, weights=weights_cuu_neg[truth_cuu_neg==0])\n",
    "plt.legend(loc='upper center', frameon=False)\n",
    "plt.savefig(path_SvsB + \"Neg_Cuu_DNN-Output_Weighted.png\")\n",
    "plt.show()\n",
    "\n",
    "fig = plt.figure()\n",
    "plt.grid(color='k', which='both', linestyle='--', lw=0.5, alpha=0.1, zorder = 0)\n",
    "plt.xlabel(\"NN output\", horizontalalignment='right', x=1)\n",
    "plt.xlim([0,1])\n",
    "plt.ylabel(\"Number of events weighted\")\n",
    "#plt.yscale('log')\n",
    "histargs = {\"bins\":40, \"range\":(0,1.), \"histtype\":'step'}\n",
    "plt.hist(pred_cqu_pos[:,0][truth_cqu_pos==1],label = \"++ cqu Signal\", **histargs, weights=weights_cqu_pos[truth_cqu_pos==1])\n",
    "plt.hist(pred_cqu_pos[:,0][truth_cqu_pos==0],label = \"++ cqu Background\", **histargs, weights=weights_cqu_pos[truth_cqu_pos==0])\n",
    "plt.legend(loc='upper center', frameon=False)\n",
    "plt.savefig(path_SvsB + \"Pos_Cqu_DNN-Output_Weighted.png\")\n",
    "plt.show()\n",
    "\n",
    "fig = plt.figure()\n",
    "plt.grid(color='k', which='both', linestyle='--', lw=0.5, alpha=0.1, zorder = 0)\n",
    "plt.xlabel(\"NN output\", horizontalalignment='right', x=1)\n",
    "plt.xlim([0,1])\n",
    "plt.ylabel(\"Number of events weighted\")\n",
    "#plt.yscale('log')\n",
    "histargs = {\"bins\":40, \"range\":(0,1.), \"histtype\":'step'}\n",
    "plt.hist(pred_cqu_neg[:,0][truth_cqu_neg==1],label = \"-- cqu Signal\", **histargs, weights=weights_cqu_neg[truth_cqu_neg==1])\n",
    "plt.hist(pred_cqu_neg[:,0][truth_cqu_neg==0],label = \"-- cqu Background\", **histargs, weights=weights_cqu_neg[truth_cqu_neg==0])\n",
    "plt.legend(loc='upper center', frameon=False)\n",
    "plt.savefig(path_SvsB + \"Neg_Cqu_DNN-Output_Weighted.png\")\n",
    "plt.show()\n",
    "\n",
    "fig = plt.figure()\n",
    "plt.grid(color='k', which='both', linestyle='--', lw=0.5, alpha=0.1, zorder = 0)\n",
    "plt.xlabel(\"NN output\", horizontalalignment='right', x=1)\n",
    "plt.xlim([0,1])\n",
    "plt.ylabel(\"Number of events\")\n",
    "#plt.yscale('log')\n",
    "histargs = {\"bins\":40, \"range\":(0,1.), \"histtype\":'step'}\n",
    "plt.hist(pred_cuu_pos[:,0][truth_cuu_pos==1],label = \"++ cuu Signal\", **histargs)\n",
    "plt.hist(pred_cuu_pos[:,0][truth_cuu_pos==0],label = \"++ cuu Background\", **histargs)\n",
    "plt.legend(loc='upper center', frameon=False)\n",
    "plt.tight_layout()\n",
    "plt.savefig(path_SvsB + \"Pos_Cuu_DNN-Output.png\")\n",
    "plt.show()\n",
    "\n",
    "fig = plt.figure()\n",
    "plt.grid(color='k', which='both', linestyle='--', lw=0.5, alpha=0.1, zorder = 0)\n",
    "plt.xlabel(\"NN output\", horizontalalignment='right', x=1)\n",
    "plt.xlim([0,1])\n",
    "plt.ylabel(\"Number of events\")\n",
    "#plt.yscale('log')\n",
    "histargs = {\"bins\":40, \"range\":(0,1.), \"histtype\":'step'}\n",
    "plt.hist(pred_cuu_neg[:,0][truth_cuu_neg==1],label = \"-- cuu Signal\", **histargs)\n",
    "plt.hist(pred_cuu_neg[:,0][truth_cuu_neg==0],label = \"-- cuu Background\", **histargs)\n",
    "plt.legend(loc='upper center', frameon=False)\n",
    "plt.tight_layout()\n",
    "plt.savefig(path_SvsB + \"neg_Cuu_DNN-Output.png\")\n",
    "plt.show()\n",
    "\n",
    "fig = plt.figure()\n",
    "plt.grid(color='k', which='both', linestyle='--', lw=0.5, alpha=0.1, zorder = 0)\n",
    "plt.xlabel(\"NN output\", horizontalalignment='right', x=1)\n",
    "plt.xlim([0,1])\n",
    "plt.ylabel(\"Number of events\")\n",
    "#plt.yscale('log')\n",
    "histargs = {\"bins\":40, \"range\":(0,1.), \"histtype\":'step'}\n",
    "plt.hist(pred_cqu_pos[:,0][truth_cqu_pos==1],label = \"++ cqu Signal\", **histargs)\n",
    "plt.hist(pred_cqu_pos[:,0][truth_cqu_pos==0],label = \"++ cqu Background\", **histargs)\n",
    "plt.legend(loc='upper center', frameon=False)\n",
    "plt.tight_layout()\n",
    "plt.savefig(path_SvsB + \"Pos_Cqu_DNN-Output.png\")\n",
    "plt.show()\n",
    "\n",
    "fig = plt.figure()\n",
    "plt.grid(color='k', which='both', linestyle='--', lw=0.5, alpha=0.1, zorder = 0)\n",
    "plt.xlabel(\"NN output\", horizontalalignment='right', x=1)\n",
    "plt.xlim([0,1])\n",
    "plt.ylabel(\"Number of events\")\n",
    "#plt.yscale('log')\n",
    "histargs = {\"bins\":40, \"range\":(0,1.), \"histtype\":'step'}\n",
    "plt.hist(pred_cqu_neg[:,0][truth_cqu_neg==1],label = \"-- cqu Signal\", **histargs)\n",
    "plt.hist(pred_cqu_neg[:,0][truth_cqu_neg==0],label = \"-- cqu Background\", **histargs)\n",
    "plt.legend(loc='upper center', frameon=False)\n",
    "plt.tight_layout()\n",
    "plt.savefig(path_SvsB + \"Neg_Cqu_DNN-Output.png\")\n",
    "plt.show()"
   ]
  },
  {
   "cell_type": "code",
   "execution_count": null,
   "metadata": {},
   "outputs": [],
   "source": [
    "fpr1, tpr1, thr1 = roc_curve(truth_cuu_pos, pred_cuu_pos, sample_weight=weights_cuu_pos)\n",
    "fpr2, tpr2, thr2 = roc_curve(truth_cuu_neg, pred_cuu_neg, sample_weight=weights_cuu_neg)\n",
    "fpr3, tpr3, thr3 = roc_curve(truth_cqu_pos, pred_cqu_pos, sample_weight=weights_cqu_pos)\n",
    "fpr4, tpr4, thr4 = roc_curve(truth_cqu_neg, pred_cqu_neg, sample_weight=weights_cqu_neg)\n",
    "\n",
    "roc_auc1 = auc(fpr1, tpr1)\n",
    "roc_auc2 = auc(fpr2, tpr2)\n",
    "roc_auc3 = auc(fpr3, tpr3)\n",
    "roc_auc4 = auc(fpr4, tpr4)"
   ]
  },
  {
   "cell_type": "code",
   "execution_count": null,
   "metadata": {
    "scrolled": true
   },
   "outputs": [],
   "source": [
    "plt.plot(fpr1, tpr1 ,label='++ cuu (area = {:.4f})'.format(roc_auc1))\n",
    "plt.plot(fpr2, tpr2 ,label='-- cuu (area = {:.4f})'.format(roc_auc2))\n",
    "plt.plot(fpr3, tpr3 ,label='++ cqu (area = {:.4f})'.format(roc_auc3))\n",
    "plt.plot(fpr4, tpr4 ,label='-- cqu (area = {:.4f})'.format(roc_auc4))\n",
    "plt.plot([0, 1], [0, 1], color='navy', lw=2, linestyle='--')\n",
    "plt.xlim([0.0, 1.0])\n",
    "plt.ylim([0.0, 1.05])\n",
    "plt.xlabel('False Positive Rate')\n",
    "plt.ylabel('True Positive Rate')\n",
    "plt.legend(loc=\"lower right\")\n",
    "plt.savefig(path_SvsB + \"ROC-Curve.png\")\n",
    "plt.show()"
   ]
  }
 ],
 "metadata": {
  "kernelspec": {
   "display_name": "Python 3",
   "language": "python",
   "name": "python3"
  },
  "language_info": {
   "codemirror_mode": {
    "name": "ipython",
    "version": 3
   },
   "file_extension": ".py",
   "mimetype": "text/x-python",
   "name": "python",
   "nbconvert_exporter": "python",
   "pygments_lexer": "ipython3",
   "version": "3.7.6"
  }
 },
 "nbformat": 4,
 "nbformat_minor": 4
}
