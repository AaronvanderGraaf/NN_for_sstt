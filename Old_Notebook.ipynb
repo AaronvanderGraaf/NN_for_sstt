{
 "cells": [
  {
   "cell_type": "markdown",
   "metadata": {
    "colab_type": "text",
    "id": "view-in-github"
   },
   "source": [
    "<a href=\"https://colab.research.google.com/github/MerveNazlim/CatNN/blob/main/SvsBsstt.ipynb\" target=\"_parent\"><img src=\"https://colab.research.google.com/assets/colab-badge.svg\" alt=\"Open In Colab\"/></a>"
   ]
  },
  {
   "cell_type": "code",
   "execution_count": 1,
   "metadata": {
    "id": "lfWEOVqLGxGG"
   },
   "outputs": [],
   "source": [
    "import random as p\n",
    "\n",
    "p.seed(10)\n",
    "#!/usr/bin/env python\n",
    "\n",
    "import argparse\n",
    "import sys\n",
    "import os\n",
    "from time import time\n",
    "#from preprocess import mkdir_p, unique_filename\n",
    "import pickle\n",
    "import math\n",
    "\n",
    "\n",
    "# h5py\n",
    "import h5py\n",
    "import tensorflow as tf\n",
    "tf.random.set_seed(400)\n",
    "from tensorflow import keras\n",
    "# keras\n",
    "from tensorflow.keras.models import Model\n",
    "#from tensorflow.keras.layers import Input, Dense, Dropout\n",
    "from tensorflow.keras import models as Km\n",
    "from tensorflow.keras import layers as Kl\n",
    "from tensorflow.keras.optimizers import SGD\n",
    "from tensorflow.keras import regularizers\n",
    "from tensorflow.keras import initializers\n",
    "from tensorflow.keras.callbacks import EarlyStopping, ModelCheckpoint, Callback\n",
    "import tensorflow.keras\n",
    "from tensorflow.keras.optimizers import Adam\n",
    "from sklearn.metrics import roc_auc_score,roc_curve, auc\n",
    "from sklearn.preprocessing import scale, normalize\n",
    "from sklearn.preprocessing import RobustScaler, StandardScaler,minmax_scale\n",
    "from sklearn.model_selection import KFold, StratifiedKFold,GroupKFold\n",
    "\n",
    "import seaborn as sns\n",
    "import matplotlib.pyplot as plt\n",
    "from tensorflow.keras.losses import binary_crossentropy\n",
    "from functools import partial\n",
    "from tensorflow.keras import initializers\n",
    "import numpy as np\n",
    "seed = 400\n",
    "np.random.seed(seed)\n",
    "import mplhep as hep\n",
    "    "
   ]
  },
  {
   "cell_type": "code",
   "execution_count": 2,
   "metadata": {
    "id": "Sso62vCKCR9c"
   },
   "outputs": [],
   "source": [
    "tf.keras.backend.clear_session()"
   ]
  },
  {
   "cell_type": "code",
   "execution_count": 3,
   "metadata": {
    "id": "iKjYoU9RutdF"
   },
   "outputs": [],
   "source": [
    " def mkdir_p(path) :\n",
    "\n",
    "    import errno\n",
    "\n",
    "    \"\"\"\n",
    "    Make a directory, if it exists silence the exception\n",
    "\n",
    "    Args:\n",
    "        path : full directory path to be made\n",
    "    \"\"\"\n",
    "\n",
    "    try :\n",
    "        os.makedirs(path)\n",
    "    except OSError as exc :\n",
    "        if exc.errno == errno.EEXIST and os.path.isdir(path) :\n",
    "            pass\n",
    "        else :\n",
    "            raise"
   ]
  },
  {
   "cell_type": "code",
   "execution_count": 4,
   "metadata": {
    "id": "wNNxw-w7QUM7"
   },
   "outputs": [],
   "source": [
    "path_tosave = '/mnt/c/Users/aaron/Desktop/'\n",
    "file_name = 'sstt'\n",
    "path_tosave = path_tosave + file_name\n",
    "mkdir_p(path_tosave)"
   ]
  },
  {
   "cell_type": "code",
   "execution_count": 5,
   "metadata": {
    "id": "eeOlYDqIJN5R"
   },
   "outputs": [],
   "source": [
    "class Sample :\n",
    "\n",
    "    \"\"\"\n",
    "    Sample\n",
    "\n",
    "    This class will hold the feature data for a given sample.\n",
    "    \"\"\"\n",
    "\n",
    "    def __init__(self, name = \"\", class_label = -1, input_data = None) :\n",
    "        \"\"\"\n",
    "        Sample constructor\n",
    "\n",
    "        Args :\n",
    "            name : descriptive name of the sample (obtained from the input\n",
    "                pre-processed file)\n",
    "            input_data : numpy array of the data from the pre-processed file\n",
    "                (expects an array of dtype = np.float64, not a structured array!)\n",
    "            class_label : input class label as found in the input pre-processed\n",
    "                file\n",
    "        \"\"\"\n",
    "\n",
    "        if input_data.dtype != np.float64 :\n",
    "            raise Exception(\"ERROR Sample input data must be type 'np.float64', input is '{}'\".format(input_data.dtype))\n",
    "\n",
    "        if class_label < 0 :\n",
    "            raise ValueError(\"ERROR Sample (={})class label is not set (<0)\".format(name, class_label))\n",
    "\n",
    "        print(\"Creating sample {} (label = {})\".format(name, class_label))\n",
    "\n",
    "        self._name = name\n",
    "        self._class_label = class_label\n",
    "        self._input_data = input_data\n",
    "        self._regression_inputs = None\n",
    "\n",
    "    def name(self) :\n",
    "        return self._name\n",
    "    def class_label(self) :\n",
    "        return self._class_label\n",
    "    def data(self) :\n",
    "        return self._input_data\n",
    "    @property\n",
    "    def regression_inputs(self) :\n",
    "        return self._regression_inputs\n",
    "    @regression_inputs.setter\n",
    "    def regression_inputs(self, data) :\n",
    "        self._regression_inputs = data\n",
    "        \n",
    "\n",
    "\n",
    "class DataScaler :\n",
    "\n",
    "    \"\"\"\n",
    "    DataScaler\n",
    "\n",
    "    This class will hold the scaling information needed for the training\n",
    "    features (variables) contained in the input, pre-processed file.\n",
    "    Its constructor takes as input the scaling data dataset object\n",
    "    contained in the pre-processed file and it builds the associated\n",
    "    feature-list and an associated dictionary to store the scaling\n",
    "    parameters for each of the input features.\n",
    "    \"\"\"\n",
    "\n",
    "    def __init__(self, scaling_dataset = None, ignore_features = []) :\n",
    "\n",
    "        \"\"\"\n",
    "        ScalingData constructor\n",
    "\n",
    "        Args:\n",
    "            scaling_dataset : input HDF5 dataset object which contains the\n",
    "                scaling data and feature-list\n",
    "        \"\"\"\n",
    "\n",
    "        self._raw_feature_list = []\n",
    "        self._feature_list = []\n",
    "        self._scaling_dict = {}\n",
    "        self._mean = []\n",
    "        self._scale = []\n",
    "        self._var = []\n",
    "        self.load(scaling_dataset, ignore_features)\n",
    "\n",
    "    def load(self, scaling_dataset = None, ignore_features = []) :\n",
    "\n",
    "        self._raw_feature_list = list( scaling_dataset['name'] )\n",
    "        self._feature_list = list( filter( lambda x : x not in ignore_features, self._raw_feature_list ) )\n",
    "\n",
    "        #self._mean = scaling_dataset['mean']\n",
    "        #self._scale = scaling_dataset['scale']\n",
    "        #self._var = scaling_dataset['var']\n",
    "\n",
    "\n",
    "        for x in scaling_dataset :\n",
    "            name, mean, scale, var = x['name'], x['mean'], x['scale'], x['var']\n",
    "            if name in ignore_features : continue\n",
    "            self._scaling_dict[name] = { 'mean' : mean, 'scale' : scale, 'var' : var }\n",
    "            self._mean.append(mean)\n",
    "            self._scale.append(scale)\n",
    "            self._var.append(var)\n",
    "\n",
    "        self._mean = np.array(self._mean, dtype = np.float64)\n",
    "        self._scale = np.array(self._scale, dtype = np.float64)\n",
    "        self._var = np.array(self._var, dtype = np.float64)\n",
    "\n",
    "    def raw_feature_list(self) :\n",
    "        return self._raw_feature_list\n",
    "\n",
    "    def feature_list(self) :\n",
    "        return self._feature_list\n",
    "\n",
    "    def scaling_dict(self) :\n",
    "        return self._scaling_dict\n",
    "\n",
    "    def get_params(self, feature = \"\") :\n",
    "        if feature in self._scaling_dict :\n",
    "            return self._scaling_dict[feature]\n",
    "        raise KeyError(\"requested feature (={}) not found in set of scaling features\".format(feature))\n",
    "\n",
    "    def mean(self) :\n",
    "        return self._mean\n",
    "    def scale(self) :\n",
    "        return self._scale\n",
    "    def var(self) :\n",
    "        return self._var\n",
    "\n",
    "def floatify(input_array, feature_list) :\n",
    "    ftype = [(name, float) for name in feature_list]\n",
    "    return input_array.astype(ftype).view(float).reshape(input_array.shape + (-1,))\n",
    "\n",
    "def load_input_file(args) :\n",
    "\n",
    "    \"\"\"\n",
    "    Check that the provided input HDF5 file is of the expected form\n",
    "    as defined by the pre-processing. Exits if this is not the case.\n",
    "    Returns a list of the sample names found in the file.\n",
    "\n",
    "    Args :\n",
    "        args : user input to the executable\n",
    "    \"\"\"\n",
    "\n",
    "    # check that the file can be found\n",
    "    if not os.path.isfile(args) :\n",
    "        print(\"ERROR provided input file (={}) is not found or is not a regular file\".format(args))\n",
    "        sys.exit()\n",
    "\n",
    "    samples_group_name = \"samples\"\n",
    "    scaling_group_name = \"scaling\"\n",
    "    scaling_data_name = \"scaling_data\"\n",
    "\n",
    "    found_samples = False\n",
    "    found_scalings = False\n",
    "    samples = []\n",
    "    data_scaler = None\n",
    "    #features_to_ignore = [\"Mll01\",\"Mll02\",\"Mll03\",\"Mll12\",\"Mll13\",\"Mll23\"]\n",
    "    features_to_ignore = [\"DeltaR_min_lep_bjet77\",\"DeltaR_max_lep_bjet77\"]\n",
    "    #features_to_ignore = [\"\"]\n",
    "\n",
    "    with h5py.File(args, 'r') as input_file :\n",
    "\n",
    "        # look up the scalings first, in order to build the feature list used for the Sample creation\n",
    "        if scaling_group_name in input_file :\n",
    "            found_scalings = True\n",
    "            scaling_group = input_file[scaling_group_name]\n",
    "            scaling_dataset = scaling_group[scaling_data_name]\n",
    "            data_scaler = DataScaler( scaling_dataset = scaling_dataset, ignore_features = features_to_ignore )\n",
    "            print(\"DataScaler found {} features to train on (there were {} total features in the input)\".format( len(data_scaler.feature_list()), len(data_scaler.raw_feature_list() )))\n",
    "        else :\n",
    "            print(\"scaling group (={}) not found in file\".format(scaling_group_name))\n",
    "            sys.exit()\n",
    "\n",
    "        # now build the samples\n",
    "        if samples_group_name in input_file :\n",
    "            found_samples = True\n",
    "            sample_group = input_file[samples_group_name]\n",
    "            for p in sample_group :\n",
    "                process_group = sample_group[p]\n",
    "                class_label = process_group.attrs['training_label']\n",
    "                s = Sample(name = p, class_label = int(class_label),\n",
    "                    input_data = floatify( process_group['train_features'][tuple(data_scaler.feature_list())], data_scaler.feature_list() ) )\n",
    "                #print(floatify( process_group['train_features'][tuple(data_scaler.feature_list())], data_scaler.feature_list() ))\n",
    "                samples.append(s)\n",
    "\n",
    "        else :\n",
    "            print(\"samples group (={}) not found in file\".format(samples_group_name))\n",
    "            sys.exit()\n",
    "\n",
    "    samples = sorted(samples, key = lambda x: x.class_label())\n",
    "\n",
    "    return samples, data_scaler\n",
    "\n",
    "def load_input_file_val(args) :\n",
    "\n",
    "    if not os.path.isfile(args) :\n",
    "        print(\"ERROR provided input file (={}) is not found or is not a regular file\".format(args))\n",
    "        sys.exit()\n",
    "\n",
    "    samples_group_name = \"samples\"\n",
    "    scaling_group_name = \"scaling\"\n",
    "    scaling_data_name = \"scaling_data\"\n",
    "\n",
    "    samples = []\n",
    "    data_scaler = None\n",
    "\n",
    "    with h5py.File(args, 'r', libver = 'latest') as input_file :\n",
    "\n",
    "        # look up the scaling first\n",
    "        if scaling_group_name in input_file :\n",
    "            scaling_group = input_file[scaling_group_name]\n",
    "            scaling_dataset = scaling_group[scaling_data_name]\n",
    "            data_scaler = DataScaler( scaling_dataset = scaling_dataset, ignore_features = [\"DeltaR_min_lep_bjet77\",\"DeltaR_max_lep_bjet77\"] )\n",
    "            print(\"DataScaler found {} features to use as inputs (there were {} total features in the input)\".format( len(data_scaler.feature_list()), len(data_scaler.raw_feature_list())))\n",
    "        else :\n",
    "            print(\"scaling group (={}) not found in file\".format(scaling_group_name))\n",
    "            sys.exit()\n",
    "\n",
    "        # build the samples\n",
    "        if samples_group_name in input_file :\n",
    "            sample_group = input_file[samples_group_name]\n",
    "            for p in sample_group :\n",
    "                process_group = sample_group[p]\n",
    "                class_label = process_group.attrs['training_label']\n",
    "                s = Sample(name = p, class_label = int(class_label),\n",
    "                    input_data = floatify( process_group['validation_features'][tuple(data_scaler.feature_list())], data_scaler.feature_list()))\n",
    "                samples.append(s)\n",
    "        else :\n",
    "            print(\"samples group (={}) not found in file\".format(samples_group_name))\n",
    "            sys.exit()\n",
    "\n",
    "    return samples, data_scaler\n",
    "\n",
    "def build_combined_input(training_samples, data_scaler = None, scale = True) :\n",
    "\n",
    "    targets = []\n",
    "    # used extended slicing to partition arbitrary number of samples\n",
    "    sample0, sample1, *other = training_samples\n",
    "\n",
    "    targets.extend( np.ones( sample0.data().shape[0] ) * sample0.class_label() )\n",
    "    targets.extend( np.ones( sample1.data().shape[0] ) * sample1.class_label() )\n",
    "\n",
    "    inputs = np.concatenate( (sample0.data(), sample1.data()), axis = 0)\n",
    "    for sample in other :\n",
    "        inputs = np.concatenate( (inputs, sample.data()) , axis = 0 )\n",
    "        targets.extend( np.ones( sample.data().shape[0] ) * sample.class_label() )\n",
    "\n",
    "    # perform scaling\n",
    "    input_notscale = inputs\n",
    "    if scale :\n",
    "        inputs = (inputs - data_scaler.mean()) / data_scaler.scale()\n",
    "        #print(inputs)\n",
    "\n",
    "    targets = np.array(targets, dtype = int )\n",
    "\n",
    "\n",
    "    return inputs, targets, input_notscale"
   ]
  },
  {
   "cell_type": "code",
   "execution_count": 6,
   "metadata": {
    "id": "j0Ntqz_s4mHl"
   },
   "outputs": [],
   "source": [
    "def make_nn_output_plots_oddeven( path_tosave, model = None, inputs = None, samples = None, targets = None, events=None) :\n",
    "\n",
    "    #inputs_tek = inputs[events % 2==1]\n",
    "    #inputs_cift = inputs[events % 2==0]\n",
    "    \n",
    "    ## Workaround if no eventnumbers are used:\n",
    "    # Shuffle + split into two equal size arrays\n",
    "    np.random.shuffle(inputs)\n",
    "    inputs_tek = inputs_test[0:int(inputs.shape[0]/2),:]\n",
    "    inputs_cift = inputs_test[int(inputs.shape[0]/2):int(inputs_test.shape[0]),:]\n",
    "    \n",
    "    nn_scores = np.ones([targets.size,2])\n",
    "    nn_scores_tek = model[0].predict(inputs_tek,verbose = True)\n",
    "    nn_scores_cift = model[1].predict(inputs_cift,verbose = True)\n",
    "    nn_scores[0:int(inputs.shape[0]/2),0] = nn_scores_tek.flatten()\n",
    "    nn_scores[0:int(inputs.shape[0]/2),1] = abs(nn_scores_tek - 1).flatten()\n",
    "    nn_scores[int(inputs.shape[0]/2):int(inputs.shape[0]),0] = nn_scores_cift.flatten()\n",
    "    nn_scores[int(inputs.shape[0]/2):int(inputs.shape[0]),1] = abs(nn_scores_cift - 1).flatten()\n",
    "    class_labels = set(targets)\n",
    "    targets_list = list(targets)\n",
    "    nn_scores_dict = {}\n",
    "\n",
    "    # index the sample names by their class label\n",
    "    names = {}\n",
    "    for sample in samples :\n",
    "        names[sample.class_label()] = sample.name()\n",
    "\n",
    "    # break up the predicted scores by the class label\n",
    "    for ilabel, label in enumerate(class_labels) :\n",
    "        # left-most appearance of the label\n",
    "        left = targets_list.index(label)\n",
    "        # right-most appearance of the label\n",
    "        right = len(targets_list) - 1 - targets_list[::-1].index(label)\n",
    "        nn_scores_dict[label] = nn_scores[left:right+1]\n",
    "\n",
    "    # start plotting\n",
    "    for label in class_labels :\n",
    "        #fig, ax = plt.subplots(1,1)\n",
    "        fig = plt.figure()\n",
    "        plt.grid(color='k', which='both', linestyle='--', lw=0.5, alpha=0.1, zorder = 0)\n",
    "        plt.xlabel( \"NN output for label {}\".format(names[label]), horizontalalignment='right', x=1)\n",
    "        #ax.set_xlim([1e-2,1.0])\n",
    "        plt.xlim([0,1])\n",
    "        #plt.yscale('log')\n",
    "        histargs = {\"bins\":20, \"range\":(0,1.), \"density\":True, \"histtype\":'step'}\n",
    "        #binning = np.arange(0,1,0.02)\n",
    "        #centers = (binning[1:-2] + binning[2:-1])/2\n",
    "        #ax.set_xlim((centers[0]-0.1, centers[-1]+0.1)) \n",
    "        for sample_label in nn_scores_dict :\n",
    "            sample_scores_for_label = nn_scores_dict[sample_label][:]\n",
    "            print(sample_scores_for_label)\n",
    "            #sample_weights = sample_with_label(sample_label, samples).eventweights\n",
    "\n",
    "            #yields, _ = np.histogram(sample_scores_for_label, bins = binning)\n",
    "            plt.hist(sample_scores_for_label,label = names[sample_label], **histargs)\n",
    "            #yields = yields/yields.sum()\n",
    "            #ax.step(centers, yields[1:-1], label = names[sample_label], where = 'mid')\n",
    "            \n",
    "            #ax.hist(sample_scores_for_label, bins = binning, alpha = 0.3, label = names[sample_label], density = True)\n",
    "        plt.legend(loc='best', frameon = False)\n",
    "        savename = \"nn_outputs_class_{}.pdf\".format( names[label])\n",
    "\n",
    "        savename = \"{}/{}\".format(path_tosave, savename) \n",
    "        plt.savefig(savename, bbox_inches = 'tight', dpi = 200)\n",
    "       # savename = \"nn_outputs_{}_class_{}.pdf\".format(path_tosave, names[label])\n",
    "\n",
    "     #   savename = \"{}/{}\".format(path_tosave, savename) \n",
    "     #   plt.savefig(savename, bbox_inches = 'tight', dpi = 200)\n",
    "\n",
    "    return nn_scores"
   ]
  },
  {
   "cell_type": "code",
   "execution_count": 8,
   "metadata": {
    "id": "CfCXIMFm5rCV"
   },
   "outputs": [],
   "source": [
    "def make_nn_output_plots( model = None, inputs = None, samples = None, targets = None) :\n",
    "\n",
    "    # set of scores for each label: shape = (n_samples, n_outputs)\n",
    "    nn_scores = model.predict(inputs,verbose = True)\n",
    "\n",
    "    class_labels = set(targets)\n",
    "    targets_list = list(targets)\n",
    "    nn_scores_dict = {}\n",
    "\n",
    "    # index the sample names by their class label\n",
    "    names = {}\n",
    "    for sample in samples :\n",
    "        names[sample.class_label()] = sample.name()\n",
    "\n",
    "    # break up the predicted scores by the class label\n",
    "    for ilabel, label in enumerate(class_labels) :\n",
    "        # left-most appearance of the label\n",
    "        left = targets_list.index(label)\n",
    "        # right-most appearance of the label\n",
    "        right = len(targets_list) - 1 - targets_list[::-1].index(label)\n",
    "        nn_scores_dict[label] = nn_scores[left:right+1]\n",
    "\n",
    "    # start plotting\n",
    "    for label in class_labels :\n",
    "        #fig, ax = plt.subplots(1,1)\n",
    "        fig = plt.figure()\n",
    "        plt.grid(color='k', which='both', linestyle='--', lw=0.5, alpha=0.1, zorder = 0)\n",
    "        plt.xlabel( \"NN output for label {}\".format(names[label]), horizontalalignment='right', x=1)\n",
    "        #ax.set_xlim([1e-2,1.0])\n",
    "        plt.xlim([0,1])\n",
    "        #plt.yscale('log')\n",
    "        histargs = {\"bins\":20, \"range\":(0,1.), \"density\":True, \"histtype\":'step'}\n",
    "        #binning = np.arange(0,1,0.02)\n",
    "        #centers = (binning[1:-2] + binning[2:-1])/2\n",
    "        #ax.set_xlim((centers[0]-0.1, centers[-1]+0.1)) \n",
    "        for sample_label in nn_scores_dict :\n",
    "            sample_scores_for_label = nn_scores_dict[sample_label][:]\n",
    "            print(sample_scores_for_label)\n",
    "            #sample_weights = sample_with_label(sample_label, samples).eventweights\n",
    "\n",
    "            #yields, _ = np.histogram(sample_scores_for_label, bins = binning)\n",
    "            plt.hist(sample_scores_for_label,label = names[sample_label], **histargs)\n",
    "            #yields = yields/yields.sum()\n",
    "            #ax.step(centers, yields[1:-1], label = names[sample_label], where = 'mid')\n",
    "            \n",
    "            #ax.hist(sample_scores_for_label, bins = binning, alpha = 0.3, label = names[sample_label], density = True)\n",
    "        plt.legend(loc='best', frameon = False)\n",
    "        savename = \"nn_outputs_class_{}.pdf\".format( names[label])\n",
    "\n",
    "        savename = \"{}/{}\".format(path_tosave, savename) \n",
    "        plt.savefig(savename, bbox_inches = 'tight', dpi = 200)\n",
    "       # savename = \"nn_outputs_{}_class_{}.pdf\".format(path_tosave, names[label])\n",
    "\n",
    "     #   savename = \"{}/{}\".format(path_tosave, savename) \n",
    "     #   plt.savefig(savename, bbox_inches = 'tight', dpi = 200)\n",
    "\n",
    "    return nn_scores"
   ]
  },
  {
   "cell_type": "code",
   "execution_count": 9,
   "metadata": {
    "id": "Z7EMoV0kqBrt"
   },
   "outputs": [],
   "source": [
    "def ScaleWeights(y,w):\n",
    "    sum_wpos = sum( w[i] for i in range(len(y)) if y[i] == 1.0  )\n",
    "    sum_wneg = sum( w[i] for i in range(len(y)) if y[i] == 0.0  )\n",
    "\n",
    "    for i in range(len(w)):\n",
    "        if (y[i]==1.0):\n",
    "            w[i] = w[i] * (0.5/sum_wpos)\n",
    "        else:\n",
    "            w[i] = w[i] * (0.5/sum_wneg)\n",
    "\n",
    "    w_av = sum(w)/len(w)\n",
    "    w[:] = [x/w_av for x in w]\n",
    "     \n",
    "    sum_wpos_check = sum( w[i] for i in range(len(y)) if y[i] == 1.0  )\n",
    "    sum_wneg_check = sum( w[i] for i in range(len(y)) if y[i] == 0.0  )\n",
    "\n",
    "    print ('\\n======Weight Statistic========================================')\n",
    "    print ('Weights::        W(1)=%g, W(0)=%g' % (sum_wpos, sum_wneg))\n",
    "    print ('Scaled weights:: W(1)=%g, W(0)=%g' % (sum_wpos_check, sum_wneg_check))\n",
    "    print ('==============================================================')"
   ]
  },
  {
   "cell_type": "code",
   "execution_count": 10,
   "metadata": {
    "id": "SwFEXnfmNBw8"
   },
   "outputs": [],
   "source": [
    "def ScaleWeightsSignal(w,y):\n",
    "    sumi = sum( w[i] for i in range(len(y)) if y[i] == 1.0 )\n",
    "\n",
    "\n",
    "    for i in range(len(w)):\n",
    "      if (y[i]==1.0):\n",
    "        w[i] = sumi/len(w)\n",
    "      else: \n",
    "        w[i] = w[i]\n",
    "    "
   ]
  },
  {
   "cell_type": "code",
   "execution_count": 11,
   "metadata": {
    "colab": {
     "base_uri": "https://localhost:8080/"
    },
    "id": "vZCXsLg0en3t",
    "outputId": "e659225e-afc2-4d0d-e666-c2ea90fe261d",
    "scrolled": false
   },
   "outputs": [
    {
     "name": "stdout",
     "output_type": "stream",
     "text": [
      "DataScaler found 10 features to train on (there were 10 total features in the input)\n",
      "Creating sample background (label = 0)\n",
      "Creating sample signal (label = 1)\n"
     ]
    }
   ],
   "source": [
    "training_samples, data_scaler = load_input_file('data/sstt_weights.h5')"
   ]
  },
  {
   "cell_type": "code",
   "execution_count": 12,
   "metadata": {
    "id": "DZ3ejm3SffxD"
   },
   "outputs": [],
   "source": [
    "input_features, targets, inp_nonsc= build_combined_input(training_samples, data_scaler = data_scaler, scale = True)"
   ]
  },
  {
   "cell_type": "code",
   "execution_count": 13,
   "metadata": {
    "id": "ZmD_1WwHqUt_",
    "scrolled": false
   },
   "outputs": [
    {
     "data": {
      "text/plain": [
       "array([0.00140038, 0.00446875, 0.00443074, ..., 0.00461776, 0.0050069 ,\n",
       "       0.00346192])"
      ]
     },
     "execution_count": 13,
     "metadata": {},
     "output_type": "execute_result"
    }
   ],
   "source": [
    "#2lSS\n",
    "weights=inp_nonsc[:,-1]\n",
    "weights[targets==1]"
   ]
  },
  {
   "cell_type": "code",
   "execution_count": 14,
   "metadata": {
    "id": "yXRVL3vggmHE"
   },
   "outputs": [],
   "source": [
    "evtnum = inp_nonsc[:,-1]\n",
    "#Drop Weight Coloumn\n",
    "inp_nonsc = inp_nonsc[:,0:-1]"
   ]
  },
  {
   "cell_type": "code",
   "execution_count": 15,
   "metadata": {
    "id": "hKmPR0jL9afj"
   },
   "outputs": [],
   "source": [
    "targets = targets[np.where((weights<1) &(weights>0))]\n",
    "inp_nonsc = inp_nonsc[np.where((weights<1) &(weights>0))]\n",
    "evtnum =evtnum[np.where((weights<1) &(weights>0))]"
   ]
  },
  {
   "cell_type": "code",
   "execution_count": 16,
   "metadata": {
    "id": "40z1TOgGTmU1"
   },
   "outputs": [],
   "source": [
    "weights = weights[np.where((weights<1) &(weights>0))]"
   ]
  },
  {
   "cell_type": "code",
   "execution_count": 17,
   "metadata": {
    "colab": {
     "base_uri": "https://localhost:8080/",
     "height": 295
    },
    "id": "X4c_YDjX6aGT",
    "outputId": "af09acdc-0359-4907-ee49-2710cca897da"
   },
   "outputs": [
    {
     "data": {
      "text/plain": [
       "[<matplotlib.lines.Line2D at 0x7f1ed72c5890>]"
      ]
     },
     "execution_count": 17,
     "metadata": {},
     "output_type": "execute_result"
    },
    {
     "data": {
      "image/png": "[encoded data removed]",
      "text/plain": [
       "<Figure size 432x288 with 1 Axes>"
      ]
     },
     "metadata": {
      "needs_background": "light"
     },
     "output_type": "display_data"
    }
   ],
   "source": [
    "plt.plot((weights[targets==0]))"
   ]
  },
  {
   "cell_type": "code",
   "execution_count": 18,
   "metadata": {
    "colab": {
     "base_uri": "https://localhost:8080/",
     "height": 282
    },
    "id": "XK3npbmj6c7L",
    "outputId": "a064935d-71c3-4829-a52f-d8b66e1c4569"
   },
   "outputs": [
    {
     "data": {
      "text/plain": [
       "[<matplotlib.lines.Line2D at 0x7f1ed67bb110>]"
      ]
     },
     "execution_count": 18,
     "metadata": {},
     "output_type": "execute_result"
    },
    {
     "data": {
      "image/png": "[encoded data removed]",
      "text/plain": [
       "<Figure size 432x288 with 1 Axes>"
      ]
     },
     "metadata": {
      "needs_background": "light"
     },
     "output_type": "display_data"
    }
   ],
   "source": [
    "plt.plot(weights[targets==1])"
   ]
  },
  {
   "cell_type": "code",
   "execution_count": 19,
   "metadata": {
    "colab": {
     "base_uri": "https://localhost:8080/"
    },
    "id": "hlqR90IBqi19",
    "outputId": "7a97fb4b-7a3d-440c-a094-15b059d26d2b"
   },
   "outputs": [
    {
     "name": "stdout",
     "output_type": "stream",
     "text": [
      "\n",
      "======Weight Statistic========================================\n",
      "Weights::        W(1)=1140.91, W(0)=471.375\n",
      "Scaled weights:: W(1)=251241, W(0)=251241\n",
      "==============================================================\n"
     ]
    }
   ],
   "source": [
    "ScaleWeights(targets,weights)"
   ]
  },
  {
   "cell_type": "code",
   "execution_count": 20,
   "metadata": {
    "colab": {
     "base_uri": "https://localhost:8080/"
    },
    "id": "2COC1eAYCtEZ",
    "outputId": "34cae392-575d-4980-bf2b-fd63bb9fe0c3"
   },
   "outputs": [
    {
     "name": "stdout",
     "output_type": "stream",
     "text": [
      "Counter({0: 251241, 1: 251241})\n"
     ]
    }
   ],
   "source": [
    "from collections import Counter\n",
    "counter = Counter(targets)\n",
    "print(counter)"
   ]
  },
  {
   "cell_type": "code",
   "execution_count": 21,
   "metadata": {
    "colab": {
     "base_uri": "https://localhost:8080/"
    },
    "id": "6pQXJLfesdLZ",
    "outputId": "6651420a-d5d3-4900-9808-9ffd4b6dd2d1",
    "scrolled": true
   },
   "outputs": [
    {
     "name": "stdout",
     "output_type": "stream",
     "text": [
      "[[4.00000000e+00 1.00000000e+00 5.00000000e+00 ... 3.12736250e+05\n",
      "  7.47229062e+04 2.16903047e+05]\n",
      " [6.00000000e+00 5.00000000e+00 1.00000000e+00 ... 4.32814906e+05\n",
      "  1.00001992e+05 2.22915469e+05]\n",
      " [7.00000000e+00 3.00000000e+00 2.00000000e+00 ... 5.38805375e+05\n",
      "  1.02151969e+05 9.27254219e+04]\n",
      " ...\n",
      " [3.00000000e+00 1.00000000e+00 1.00000000e+00 ... 4.50074094e+05\n",
      "  4.53176133e+04 1.78305969e+05]\n",
      " [6.00000000e+00 5.00000000e+00 5.00000000e+00 ... 7.84143625e+05\n",
      "  4.57842383e+04 9.00132969e+04]\n",
      " [3.00000000e+00 1.00000000e+00 5.00000000e+00 ... 2.91216125e+05\n",
      "  1.45114094e+05 1.12973891e+05]]\n",
      "[[ 0.01876467 -1.24122022  1.10369847 ... -0.55443049 -0.29336801\n",
      "  -0.23280678]\n",
      " [ 1.09017064  0.98226258 -1.065905   ... -0.15071604 -0.17935377\n",
      "  -0.21309283]\n",
      " [ 1.62587363 -0.12947882 -0.52350413 ...  0.20563275 -0.1696569\n",
      "  -0.63996913]\n",
      " ...\n",
      " [-0.51693832 -1.24122022 -1.065905   ... -0.09268921 -0.42599234\n",
      "  -0.3593616 ]\n",
      " [ 1.09017064  0.98226258  1.10369847 ...  1.03048039 -0.42388776\n",
      "  -0.64886184]\n",
      " [-0.51693832 -1.24122022  1.10369847 ... -0.62678294  0.02411172\n",
      "  -0.57357702]]\n"
     ]
    }
   ],
   "source": [
    "#scale the input between 0-1\n",
    "#print(inp_nonsc)\n",
    "scaler = StandardScaler().fit(inp_nonsc)\n",
    "print(inp_nonsc)\n",
    "inp_nonsc = scaler.transform(inp_nonsc)\n",
    "print(inp_nonsc)\n",
    "#inp_nonsc.shape"
   ]
  },
  {
   "cell_type": "code",
   "execution_count": 22,
   "metadata": {
    "id": "D64hk_18vSe1"
   },
   "outputs": [],
   "source": [
    "import pickle\n",
    "scalerfile = path_tosave+'/scaler_standard.bin'\n",
    "pickle.dump(scaler, open(scalerfile, 'wb'))"
   ]
  },
  {
   "cell_type": "code",
   "execution_count": 23,
   "metadata": {
    "id": "_bc7302zXGpX"
   },
   "outputs": [],
   "source": [
    "from tensorflow.python.framework.ops import disable_eager_execution\n",
    "\n",
    "disable_eager_execution()"
   ]
  },
  {
   "cell_type": "code",
   "execution_count": 24,
   "metadata": {
    "id": "aTZWhtxRUSVG"
   },
   "outputs": [],
   "source": [
    "def exponential_decay_fn(epoch): \n",
    "  return 0.05 * 0.1**(epoch / 20)"
   ]
  },
  {
   "cell_type": "code",
   "execution_count": 25,
   "metadata": {
    "id": "UTFalfU-YlbL"
   },
   "outputs": [],
   "source": [
    "def lr_step_decay(epoch) : #initial_lr, drop, epoch_to_drop) :\n",
    "\n",
    "    initial_lr = 0.01\n",
    "    drop = 0.9\n",
    "    epoch_to_drop = 3\n",
    "\n",
    "    if epoch >= 50 :\n",
    "        epoch == 50\n",
    "    elif epoch >= 25 :\n",
    "        epoch -= 25\n",
    "#        new_lr = initial_lr\n",
    "        print('INFO Setting learning rate back to initial LR (={})'.format(initial_lr))\n",
    "\n",
    "    new_lr = initial_lr * math.pow(drop, math.floor((1+epoch)/epoch_to_drop))\n",
    "    print('INFO LR Schedule: {}'.format(new_lr))\n",
    "    return new_lr"
   ]
  },
  {
   "cell_type": "code",
   "execution_count": 26,
   "metadata": {
    "id": "nEyuBu9pz_wY"
   },
   "outputs": [],
   "source": [
    "auc_scores = []\n",
    "auc_targets = []\n",
    "acc_per_fold = []\n",
    "loss_per_fold = []\n",
    "results = []\n",
    "model_history = []\n",
    "fitfull_history = []\n",
    "callbacks = []"
   ]
  },
  {
   "cell_type": "code",
   "execution_count": 27,
   "metadata": {
    "id": "OdVzc3rvvsRs"
   },
   "outputs": [],
   "source": [
    "    def fit_func2(n_classes, input_features_scale, targets, n_epochs = 400, batch_size = 2000, num_folds = 10) :\n",
    "        # Define the K-fold Cross Validator\n",
    "        #kfold = GroupKFold(n_splits=1)\n",
    "        kfold = StratifiedKFold(n_splits=2)\n",
    "        # Define per-fold score containers\n",
    "        acc_per_fold = []\n",
    "        loss_per_fold = []\n",
    "        number = int((targets.size)/2)\n",
    "        #group = [0,1]*number\n",
    "        group = evtnum % 2 ==0\n",
    "        targets_encoded=targets\n",
    "        # K-fold Cross Validation model evaluation\n",
    "        fold_no = 1\n",
    "        for train, test in kfold.split(input_features_scale, targets_encoded,group):\n",
    "            print(\"TRAIN:\", train, \"TEST:\", test)\n",
    "            layer_opts = dict( activation = 'sigmoid', kernel_initializer = initializers.glorot_normal(seed=seed))\n",
    "            input_layer = Kl.Input(shape = (inp_nonsc.shape[1],) )\n",
    "            x = Kl.Dense( 36, **layer_opts) (input_layer)\n",
    "            x = Kl.Dropout(0.4)(x)\n",
    "            x = Kl.Dense( 48, **layer_opts) (x)\n",
    "            y_pred = Kl.Dense( 1., activation = 'sigmoid', name = \"OutputLayer\" )(x)\n",
    "            model = Km.Model(inputs= input_layer, outputs=y_pred )\n",
    "            model_optimizer = Adam(lr=0.0001)\n",
    "            model.compile(optimizer=tf.keras.optimizers.Adam(),loss='binary_crossentropy', metrics = ['accuracy'])\n",
    "            model.summary() \n",
    "            lr_scheduler = tf.keras.callbacks.LearningRateScheduler(exponential_decay_fn)\n",
    "            lr_schedule = tf.keras.callbacks.LearningRateScheduler(lr_step_decay)\n",
    "            # Generate a print\n",
    "            print('------------------------------------------------------------------------')\n",
    "            print(f'Training for fold {fold_no} ...')\n",
    "              # Fit data to model\n",
    "            train_X, test_X = input_features_scale[train], input_features_scale[test]\n",
    "            train_y, test_y = targets_encoded[train], targets_encoded[test]\n",
    "            w_train = weights[train]\n",
    "            train_0, train_1 = len(train_y[train_y==0]), len(train_y[train_y==1])\n",
    "            test_0, test_1 = len(test_y[test_y==0]), len(test_y[test_y==1])\n",
    "            print('>Train: 0=%d, 1=%d, Test: 0=%d, 1=%d' % (train_0, train_1, test_0, test_1))\n",
    "            fit_history = model.fit(train_X, train_y, epochs = n_epochs, shuffle = True, batch_size = batch_size ,validation_data = (test_X,test_y), sample_weight=w_train,callbacks=[tf.keras.callbacks.EarlyStopping(monitor = 'val_loss', patience = 20, verbose = True, min_delta = 0.001),lr_schedule]) #\n",
    "            scores = model.evaluate(test_X, test_y,batch_size=batch_size, verbose=0)\n",
    "            nn_scores = model.predict(test_X,verbose = True)\n",
    "            print(f'Score for fold {fold_no}: {model.metrics_names[0]} of {scores[0]}; {model.metrics_names[1]} of {scores[1]*100}%')\n",
    "            acc_per_fold.append(scores[1] * 100)\n",
    "            loss_per_fold.append(scores[0])\n",
    "            results.append(scores)\n",
    "            model_history.append(model)\n",
    "            fitfull_history.append(fit_history)\n",
    "            auc_scores.append(nn_scores)\n",
    "            auc_targets.append(targets[test])\n",
    "\n",
    "              # Increase fold number\n",
    "            fold_no = fold_no + 1\n",
    "        #fit_history = model1.fit(x_train, y_train, epochs = n_epochs, batch_size = batch_size, shuffle = True, validation_data = (x_val, y_val),callbacks=callback)\n",
    "\n",
    "        #self._fit_history = self._model.fit(x_train, y_train, epochs = n_epochs, batch_size = batch_size, shuffle = True, validation_data = (x_val, y_val), callbacks = callbacks)\n",
    "        return model_history, fitfull_history, results"
   ]
  },
  {
   "cell_type": "code",
   "execution_count": 28,
   "metadata": {
    "colab": {
     "base_uri": "https://localhost:8080/",
     "height": 735
    },
    "id": "sUfVYkFYfck7",
    "outputId": "72fe31b2-8daa-42f5-e7ec-8220e300f1b2"
   },
   "outputs": [
    {
     "name": "stdout",
     "output_type": "stream",
     "text": [
      "TRAIN: [125621 125622 125623 ... 502479 502480 502481] TEST: [     0      1      2 ... 376858 376859 376860]\n",
      "Model: \"model\"\n",
      "_________________________________________________________________\n",
      "Layer (type)                 Output Shape              Param #   \n",
      "=================================================================\n",
      "input_1 (InputLayer)         [(None, 9)]               0         \n",
      "_________________________________________________________________\n",
      "dense (Dense)                (None, 36)                360       \n",
      "_________________________________________________________________\n",
      "dropout (Dropout)            (None, 36)                0         \n",
      "_________________________________________________________________\n",
      "dense_1 (Dense)              (None, 48)                1776      \n",
      "_________________________________________________________________\n",
      "OutputLayer (Dense)          (None, 1)                 49        \n",
      "=================================================================\n",
      "Total params: 2,185\n",
      "Trainable params: 2,185\n",
      "Non-trainable params: 0\n",
      "_________________________________________________________________\n",
      "------------------------------------------------------------------------\n",
      "Training for fold 1 ...\n",
      ">Train: 0=125620, 1=125621, Test: 0=125621, 1=125620\n",
      "Train on 251241 samples, validate on 251241 samples\n",
      "INFO LR Schedule: 0.01\n",
      "Epoch 1/70\n",
      "251241/251241 [==============================] - 0s 2us/sample - loss: 0.3756 - accuracy: 0.8463 - val_loss: 0.2821 - val_accuracy: 0.8845\n",
      "INFO LR Schedule: 0.01\n",
      "Epoch 2/70\n",
      " 54000/251241 [=====>........................] - ETA: 0s - loss: 0.3152 - accuracy: 0.8803"
     ]
    },
    {
     "name": "stderr",
     "output_type": "stream",
     "text": [
      "/home/avdgraaf/.local/anaconda3/lib/python3.7/site-packages/tensorflow/python/keras/engine/training.py:2325: UserWarning: `Model.state_updates` will be removed in a future version. This property should not be used in TensorFlow 2.0, as `updates` are applied automatically.\n",
      "  warnings.warn('`Model.state_updates` will be removed in a future version. '\n"
     ]
    },
    {
     "name": "stdout",
     "output_type": "stream",
     "text": [
      "251241/251241 [==============================] - 0s 1us/sample - loss: 0.3140 - accuracy: 0.8803 - val_loss: 0.2756 - val_accuracy: 0.8868\n",
      "INFO LR Schedule: 0.009000000000000001\n",
      "Epoch 3/70\n",
      "251241/251241 [==============================] - 0s 1us/sample - loss: 0.3063 - accuracy: 0.8827 - val_loss: 0.2792 - val_accuracy: 0.8850\n",
      "INFO LR Schedule: 0.009000000000000001\n",
      "Epoch 4/70\n",
      "251241/251241 [==============================] - 0s 1us/sample - loss: 0.3021 - accuracy: 0.8836 - val_loss: 0.2702 - val_accuracy: 0.8880\n",
      "INFO LR Schedule: 0.009000000000000001\n",
      "Epoch 5/70\n",
      "251241/251241 [==============================] - 0s 1us/sample - loss: 0.2985 - accuracy: 0.8847 - val_loss: 0.2714 - val_accuracy: 0.8877\n",
      "INFO LR Schedule: 0.008100000000000001\n",
      "Epoch 6/70\n",
      "251241/251241 [==============================] - 0s 1us/sample - loss: 0.2971 - accuracy: 0.8851 - val_loss: 0.2694 - val_accuracy: 0.8882\n",
      "INFO LR Schedule: 0.008100000000000001\n",
      "Epoch 7/70\n",
      "251241/251241 [==============================] - 0s 1us/sample - loss: 0.2964 - accuracy: 0.8853 - val_loss: 0.2673 - val_accuracy: 0.8892\n",
      "INFO LR Schedule: 0.008100000000000001\n",
      "Epoch 8/70\n",
      "251241/251241 [==============================] - 0s 1us/sample - loss: 0.2942 - accuracy: 0.8860 - val_loss: 0.2659 - val_accuracy: 0.8896\n",
      "INFO LR Schedule: 0.007290000000000001\n",
      "Epoch 9/70\n",
      "251241/251241 [==============================] - 0s 1us/sample - loss: 0.2931 - accuracy: 0.8867 - val_loss: 0.2653 - val_accuracy: 0.8894\n",
      "INFO LR Schedule: 0.007290000000000001\n",
      "Epoch 10/70\n",
      "251241/251241 [==============================] - 0s 1us/sample - loss: 0.2931 - accuracy: 0.8869 - val_loss: 0.2652 - val_accuracy: 0.8895\n",
      "INFO LR Schedule: 0.007290000000000001\n",
      "Epoch 11/70\n",
      "251241/251241 [==============================] - 0s 1us/sample - loss: 0.2916 - accuracy: 0.8870 - val_loss: 0.2642 - val_accuracy: 0.8898\n",
      "INFO LR Schedule: 0.006561\n",
      "Epoch 12/70\n",
      "251241/251241 [==============================] - 0s 1us/sample - loss: 0.2909 - accuracy: 0.8871 - val_loss: 0.2656 - val_accuracy: 0.8897\n",
      "INFO LR Schedule: 0.006561\n",
      "Epoch 13/70\n",
      "251241/251241 [==============================] - 0s 1us/sample - loss: 0.2903 - accuracy: 0.8873 - val_loss: 0.2636 - val_accuracy: 0.8904\n",
      "INFO LR Schedule: 0.006561\n",
      "Epoch 14/70\n",
      "251241/251241 [==============================] - 0s 1us/sample - loss: 0.2894 - accuracy: 0.8877 - val_loss: 0.2617 - val_accuracy: 0.8907\n",
      "INFO LR Schedule: 0.005904900000000001\n",
      "Epoch 15/70\n",
      "251241/251241 [==============================] - 0s 1us/sample - loss: 0.2898 - accuracy: 0.8875 - val_loss: 0.2624 - val_accuracy: 0.8907\n",
      "INFO LR Schedule: 0.005904900000000001\n",
      "Epoch 16/70\n",
      "251241/251241 [==============================] - 0s 1us/sample - loss: 0.2882 - accuracy: 0.8882 - val_loss: 0.2612 - val_accuracy: 0.8913\n",
      "INFO LR Schedule: 0.005904900000000001\n",
      "Epoch 17/70\n",
      "251241/251241 [==============================] - 0s 1us/sample - loss: 0.2881 - accuracy: 0.8881 - val_loss: 0.2623 - val_accuracy: 0.8910\n",
      "INFO LR Schedule: 0.00531441\n",
      "Epoch 18/70\n",
      "251241/251241 [==============================] - 0s 1us/sample - loss: 0.2874 - accuracy: 0.8887 - val_loss: 0.2627 - val_accuracy: 0.8909\n",
      "INFO LR Schedule: 0.00531441\n",
      "Epoch 19/70\n",
      "251241/251241 [==============================] - 0s 1us/sample - loss: 0.2873 - accuracy: 0.8885 - val_loss: 0.2624 - val_accuracy: 0.8911\n",
      "INFO LR Schedule: 0.00531441\n",
      "Epoch 20/70\n",
      "251241/251241 [==============================] - 0s 1us/sample - loss: 0.2870 - accuracy: 0.8888 - val_loss: 0.2609 - val_accuracy: 0.8920\n",
      "INFO LR Schedule: 0.004782969000000001\n",
      "Epoch 21/70\n",
      "251241/251241 [==============================] - 0s 1us/sample - loss: 0.2864 - accuracy: 0.8891 - val_loss: 0.2602 - val_accuracy: 0.8921\n",
      "INFO LR Schedule: 0.004782969000000001\n",
      "Epoch 22/70\n",
      "251241/251241 [==============================] - 0s 1us/sample - loss: 0.2856 - accuracy: 0.8889 - val_loss: 0.2627 - val_accuracy: 0.8907\n",
      "INFO LR Schedule: 0.004782969000000001\n",
      "Epoch 23/70\n",
      "251241/251241 [==============================] - 0s 1us/sample - loss: 0.2859 - accuracy: 0.8898 - val_loss: 0.2602 - val_accuracy: 0.8923\n",
      "INFO LR Schedule: 0.004304672100000001\n",
      "Epoch 24/70\n",
      "251241/251241 [==============================] - 0s 1us/sample - loss: 0.2849 - accuracy: 0.8901 - val_loss: 0.2599 - val_accuracy: 0.8923\n",
      "INFO LR Schedule: 0.004304672100000001\n",
      "Epoch 25/70\n",
      "251241/251241 [==============================] - 0s 1us/sample - loss: 0.2851 - accuracy: 0.8898 - val_loss: 0.2610 - val_accuracy: 0.8920\n",
      "INFO Setting learning rate back to initial LR (=0.01)\n",
      "INFO LR Schedule: 0.01\n",
      "Epoch 26/70\n",
      "251241/251241 [==============================] - 0s 1us/sample - loss: 0.2851 - accuracy: 0.8895 - val_loss: 0.2595 - val_accuracy: 0.8926\n",
      "INFO Setting learning rate back to initial LR (=0.01)\n",
      "INFO LR Schedule: 0.01\n",
      "Epoch 27/70\n",
      "251241/251241 [==============================] - 0s 1us/sample - loss: 0.2861 - accuracy: 0.8901 - val_loss: 0.2596 - val_accuracy: 0.8927\n",
      "INFO Setting learning rate back to initial LR (=0.01)\n",
      "INFO LR Schedule: 0.009000000000000001\n",
      "Epoch 28/70\n",
      "251241/251241 [==============================] - 0s 1us/sample - loss: 0.2844 - accuracy: 0.8902 - val_loss: 0.2598 - val_accuracy: 0.8928\n",
      "INFO Setting learning rate back to initial LR (=0.01)\n",
      "INFO LR Schedule: 0.009000000000000001\n",
      "Epoch 29/70\n",
      "251241/251241 [==============================] - 0s 1us/sample - loss: 0.2843 - accuracy: 0.8902 - val_loss: 0.2580 - val_accuracy: 0.8931\n",
      "INFO Setting learning rate back to initial LR (=0.01)\n",
      "INFO LR Schedule: 0.009000000000000001\n",
      "Epoch 30/70\n",
      "251241/251241 [==============================] - 0s 1us/sample - loss: 0.2838 - accuracy: 0.8901 - val_loss: 0.2588 - val_accuracy: 0.8928\n",
      "INFO Setting learning rate back to initial LR (=0.01)\n",
      "INFO LR Schedule: 0.008100000000000001\n",
      "Epoch 31/70\n",
      "251241/251241 [==============================] - 0s 1us/sample - loss: 0.2836 - accuracy: 0.8904 - val_loss: 0.2594 - val_accuracy: 0.8924\n",
      "INFO Setting learning rate back to initial LR (=0.01)\n",
      "INFO LR Schedule: 0.008100000000000001\n",
      "Epoch 32/70\n",
      "251241/251241 [==============================] - 0s 1us/sample - loss: 0.2835 - accuracy: 0.8909 - val_loss: 0.2575 - val_accuracy: 0.8937\n",
      "INFO Setting learning rate back to initial LR (=0.01)\n",
      "INFO LR Schedule: 0.008100000000000001\n",
      "Epoch 33/70\n",
      "251241/251241 [==============================] - 0s 1us/sample - loss: 0.2825 - accuracy: 0.8913 - val_loss: 0.2576 - val_accuracy: 0.8933\n",
      "INFO Setting learning rate back to initial LR (=0.01)\n",
      "INFO LR Schedule: 0.007290000000000001\n",
      "Epoch 34/70\n",
      "251241/251241 [==============================] - 0s 1us/sample - loss: 0.2825 - accuracy: 0.8910 - val_loss: 0.2591 - val_accuracy: 0.8929\n",
      "INFO Setting learning rate back to initial LR (=0.01)\n",
      "INFO LR Schedule: 0.007290000000000001\n",
      "Epoch 35/70\n",
      "251241/251241 [==============================] - 0s 1us/sample - loss: 0.2827 - accuracy: 0.8910 - val_loss: 0.2583 - val_accuracy: 0.8933\n",
      "INFO Setting learning rate back to initial LR (=0.01)\n",
      "INFO LR Schedule: 0.007290000000000001\n",
      "Epoch 36/70\n",
      "251241/251241 [==============================] - 0s 1us/sample - loss: 0.2817 - accuracy: 0.8911 - val_loss: 0.2566 - val_accuracy: 0.8937\n",
      "INFO Setting learning rate back to initial LR (=0.01)\n",
      "INFO LR Schedule: 0.006561\n",
      "Epoch 37/70\n",
      "251241/251241 [==============================] - 0s 1us/sample - loss: 0.2819 - accuracy: 0.8908 - val_loss: 0.2573 - val_accuracy: 0.8937\n",
      "INFO Setting learning rate back to initial LR (=0.01)\n",
      "INFO LR Schedule: 0.006561\n",
      "Epoch 38/70\n",
      "251241/251241 [==============================] - 0s 1us/sample - loss: 0.2817 - accuracy: 0.8914 - val_loss: 0.2574 - val_accuracy: 0.8935\n",
      "INFO Setting learning rate back to initial LR (=0.01)\n",
      "INFO LR Schedule: 0.006561\n",
      "Epoch 39/70\n",
      "251241/251241 [==============================] - 0s 1us/sample - loss: 0.2817 - accuracy: 0.8915 - val_loss: 0.2577 - val_accuracy: 0.8940\n",
      "INFO Setting learning rate back to initial LR (=0.01)\n",
      "INFO LR Schedule: 0.005904900000000001\n",
      "Epoch 40/70\n",
      "251241/251241 [==============================] - 0s 1us/sample - loss: 0.2811 - accuracy: 0.8911 - val_loss: 0.2577 - val_accuracy: 0.8935\n",
      "INFO Setting learning rate back to initial LR (=0.01)\n",
      "INFO LR Schedule: 0.005904900000000001\n",
      "Epoch 41/70\n",
      "251241/251241 [==============================] - 0s 1us/sample - loss: 0.2814 - accuracy: 0.8914 - val_loss: 0.2591 - val_accuracy: 0.8940\n",
      "INFO Setting learning rate back to initial LR (=0.01)\n",
      "INFO LR Schedule: 0.005904900000000001\n",
      "Epoch 42/70\n",
      "251241/251241 [==============================] - 0s 1us/sample - loss: 0.2814 - accuracy: 0.8915 - val_loss: 0.2582 - val_accuracy: 0.8940\n",
      "INFO Setting learning rate back to initial LR (=0.01)\n",
      "INFO LR Schedule: 0.00531441\n",
      "Epoch 43/70\n",
      "251241/251241 [==============================] - 0s 1us/sample - loss: 0.2808 - accuracy: 0.8914 - val_loss: 0.2580 - val_accuracy: 0.8938\n",
      "INFO Setting learning rate back to initial LR (=0.01)\n",
      "INFO LR Schedule: 0.00531441\n",
      "Epoch 44/70\n",
      "251241/251241 [==============================] - 0s 1us/sample - loss: 0.2814 - accuracy: 0.8918 - val_loss: 0.2582 - val_accuracy: 0.8941\n",
      "INFO Setting learning rate back to initial LR (=0.01)\n",
      "INFO LR Schedule: 0.00531441\n",
      "Epoch 45/70\n",
      "251241/251241 [==============================] - 0s 1us/sample - loss: 0.2800 - accuracy: 0.8918 - val_loss: 0.2589 - val_accuracy: 0.8931\n",
      "INFO Setting learning rate back to initial LR (=0.01)\n",
      "INFO LR Schedule: 0.004782969000000001\n",
      "Epoch 46/70\n",
      "251241/251241 [==============================] - 0s 1us/sample - loss: 0.2805 - accuracy: 0.8915 - val_loss: 0.2583 - val_accuracy: 0.8935\n",
      "INFO Setting learning rate back to initial LR (=0.01)\n",
      "INFO LR Schedule: 0.004782969000000001\n",
      "Epoch 47/70\n",
      "251241/251241 [==============================] - 0s 1us/sample - loss: 0.2802 - accuracy: 0.8920 - val_loss: 0.2572 - val_accuracy: 0.8942\n",
      "INFO Setting learning rate back to initial LR (=0.01)\n",
      "INFO LR Schedule: 0.004782969000000001\n",
      "Epoch 48/70\n",
      "251241/251241 [==============================] - 0s 1us/sample - loss: 0.2804 - accuracy: 0.8922 - val_loss: 0.2574 - val_accuracy: 0.8938\n",
      "INFO Setting learning rate back to initial LR (=0.01)\n",
      "INFO LR Schedule: 0.004304672100000001\n",
      "Epoch 49/70\n",
      "251241/251241 [==============================] - 0s 1us/sample - loss: 0.2801 - accuracy: 0.8921 - val_loss: 0.2594 - val_accuracy: 0.8938\n",
      "INFO Setting learning rate back to initial LR (=0.01)\n",
      "INFO LR Schedule: 0.004304672100000001\n",
      "Epoch 50/70\n",
      "251241/251241 [==============================] - 0s 1us/sample - loss: 0.2803 - accuracy: 0.8921 - val_loss: 0.2573 - val_accuracy: 0.8935\n",
      "INFO LR Schedule: 0.0016677181699666576\n",
      "Epoch 51/70\n",
      "251241/251241 [==============================] - 0s 1us/sample - loss: 0.2793 - accuracy: 0.8924 - val_loss: 0.2581 - val_accuracy: 0.8937\n",
      "INFO LR Schedule: 0.0016677181699666576\n",
      "Epoch 52/70\n",
      "251241/251241 [==============================] - 0s 1us/sample - loss: 0.2791 - accuracy: 0.8920 - val_loss: 0.2576 - val_accuracy: 0.8939\n",
      "INFO LR Schedule: 0.0016677181699666576\n",
      "Epoch 53/70\n",
      "251241/251241 [==============================] - 0s 1us/sample - loss: 0.2799 - accuracy: 0.8923 - val_loss: 0.2579 - val_accuracy: 0.8941\n",
      "INFO LR Schedule: 0.0015009463529699917\n",
      "Epoch 54/70\n",
      "251241/251241 [==============================] - 0s 1us/sample - loss: 0.2792 - accuracy: 0.8919 - val_loss: 0.2575 - val_accuracy: 0.8939\n",
      "INFO LR Schedule: 0.0015009463529699917\n",
      "Epoch 55/70\n",
      "251241/251241 [==============================] - 0s 1us/sample - loss: 0.2792 - accuracy: 0.8920 - val_loss: 0.2584 - val_accuracy: 0.8941\n",
      "INFO LR Schedule: 0.0015009463529699917\n",
      "Epoch 56/70\n",
      "251241/251241 [==============================] - 0s 1us/sample - loss: 0.2791 - accuracy: 0.8926 - val_loss: 0.2584 - val_accuracy: 0.8942\n",
      "Epoch 00056: early stopping\n",
      "Score for fold 1: loss of 0.2584213929337066; accuracy of 89.42131400108337%\n",
      "TRAIN: [     0      1      2 ... 376858 376859 376860] TEST: [125621 125622 125623 ... 502479 502480 502481]\n",
      "Model: \"model_1\"\n",
      "_________________________________________________________________\n",
      "Layer (type)                 Output Shape              Param #   \n",
      "=================================================================\n",
      "input_2 (InputLayer)         [(None, 9)]               0         \n",
      "_________________________________________________________________\n",
      "dense_2 (Dense)              (None, 36)                360       \n",
      "_________________________________________________________________\n",
      "dropout_1 (Dropout)          (None, 36)                0         \n",
      "_________________________________________________________________\n",
      "dense_3 (Dense)              (None, 48)                1776      \n",
      "_________________________________________________________________\n",
      "OutputLayer (Dense)          (None, 1)                 49        \n",
      "=================================================================\n",
      "Total params: 2,185\n",
      "Trainable params: 2,185\n",
      "Non-trainable params: 0\n",
      "_________________________________________________________________\n",
      "------------------------------------------------------------------------\n",
      "Training for fold 2 ...\n",
      ">Train: 0=125621, 1=125620, Test: 0=125620, 1=125621\n",
      "Train on 251241 samples, validate on 251241 samples\n",
      "INFO LR Schedule: 0.01\n",
      "Epoch 1/70\n",
      "251241/251241 [==============================] - 0s 2us/sample - loss: 0.3884 - accuracy: 0.8345 - val_loss: 0.2806 - val_accuracy: 0.8855\n",
      "INFO LR Schedule: 0.01\n",
      "Epoch 2/70\n",
      "251241/251241 [==============================] - 0s 1us/sample - loss: 0.3166 - accuracy: 0.8791 - val_loss: 0.2767 - val_accuracy: 0.8869\n",
      "INFO LR Schedule: 0.009000000000000001\n",
      "Epoch 3/70\n",
      "251241/251241 [==============================] - 0s 1us/sample - loss: 0.3084 - accuracy: 0.8816 - val_loss: 0.2723 - val_accuracy: 0.8882\n",
      "INFO LR Schedule: 0.009000000000000001\n",
      "Epoch 4/70\n",
      "251241/251241 [==============================] - 0s 1us/sample - loss: 0.3039 - accuracy: 0.8833 - val_loss: 0.2709 - val_accuracy: 0.8878\n",
      "INFO LR Schedule: 0.009000000000000001\n",
      "Epoch 5/70\n",
      "251241/251241 [==============================] - 0s 1us/sample - loss: 0.3011 - accuracy: 0.8844 - val_loss: 0.2697 - val_accuracy: 0.8880\n",
      "INFO LR Schedule: 0.008100000000000001\n",
      "Epoch 6/70\n",
      "251241/251241 [==============================] - 0s 1us/sample - loss: 0.2988 - accuracy: 0.8847 - val_loss: 0.2668 - val_accuracy: 0.8893\n",
      "INFO LR Schedule: 0.008100000000000001\n",
      "Epoch 7/70\n",
      "251241/251241 [==============================] - 0s 1us/sample - loss: 0.2966 - accuracy: 0.8853 - val_loss: 0.2654 - val_accuracy: 0.8896\n",
      "INFO LR Schedule: 0.008100000000000001\n",
      "Epoch 8/70\n",
      "251241/251241 [==============================] - 0s 1us/sample - loss: 0.2953 - accuracy: 0.8858 - val_loss: 0.2671 - val_accuracy: 0.8892\n",
      "INFO LR Schedule: 0.007290000000000001\n",
      "Epoch 9/70\n",
      "251241/251241 [==============================] - 0s 1us/sample - loss: 0.2944 - accuracy: 0.8864 - val_loss: 0.2676 - val_accuracy: 0.8889\n",
      "INFO LR Schedule: 0.007290000000000001\n",
      "Epoch 10/70\n",
      "251241/251241 [==============================] - 0s 1us/sample - loss: 0.2936 - accuracy: 0.8871 - val_loss: 0.2640 - val_accuracy: 0.8905\n",
      "INFO LR Schedule: 0.007290000000000001\n",
      "Epoch 11/70\n",
      "251241/251241 [==============================] - 0s 1us/sample - loss: 0.2930 - accuracy: 0.8874 - val_loss: 0.2625 - val_accuracy: 0.8906\n",
      "INFO LR Schedule: 0.006561\n",
      "Epoch 12/70\n",
      "251241/251241 [==============================] - 0s 1us/sample - loss: 0.2917 - accuracy: 0.8878 - val_loss: 0.2626 - val_accuracy: 0.8908\n",
      "INFO LR Schedule: 0.006561\n",
      "Epoch 13/70\n",
      "251241/251241 [==============================] - 0s 1us/sample - loss: 0.2909 - accuracy: 0.8877 - val_loss: 0.2636 - val_accuracy: 0.8907\n",
      "INFO LR Schedule: 0.006561\n",
      "Epoch 14/70\n",
      "251241/251241 [==============================] - 0s 1us/sample - loss: 0.2903 - accuracy: 0.8877 - val_loss: 0.2622 - val_accuracy: 0.8911\n",
      "INFO LR Schedule: 0.005904900000000001\n",
      "Epoch 15/70\n",
      "251241/251241 [==============================] - 0s 1us/sample - loss: 0.2900 - accuracy: 0.8880 - val_loss: 0.2620 - val_accuracy: 0.8914\n",
      "INFO LR Schedule: 0.005904900000000001\n",
      "Epoch 16/70\n",
      "251241/251241 [==============================] - 0s 1us/sample - loss: 0.2895 - accuracy: 0.8879 - val_loss: 0.2614 - val_accuracy: 0.8912\n",
      "INFO LR Schedule: 0.005904900000000001\n",
      "Epoch 17/70\n",
      "251241/251241 [==============================] - 0s 1us/sample - loss: 0.2888 - accuracy: 0.8889 - val_loss: 0.2625 - val_accuracy: 0.8904\n",
      "INFO LR Schedule: 0.00531441\n",
      "Epoch 18/70\n",
      "251241/251241 [==============================] - 0s 1us/sample - loss: 0.2885 - accuracy: 0.8888 - val_loss: 0.2605 - val_accuracy: 0.8921\n"
     ]
    },
    {
     "name": "stdout",
     "output_type": "stream",
     "text": [
      "INFO LR Schedule: 0.00531441\n",
      "Epoch 19/70\n",
      "251241/251241 [==============================] - 0s 1us/sample - loss: 0.2876 - accuracy: 0.8887 - val_loss: 0.2602 - val_accuracy: 0.8919\n",
      "INFO LR Schedule: 0.00531441\n",
      "Epoch 20/70\n",
      "251241/251241 [==============================] - 0s 1us/sample - loss: 0.2873 - accuracy: 0.8888 - val_loss: 0.2608 - val_accuracy: 0.8920\n",
      "INFO LR Schedule: 0.004782969000000001\n",
      "Epoch 21/70\n",
      "251241/251241 [==============================] - 0s 1us/sample - loss: 0.2878 - accuracy: 0.8889 - val_loss: 0.2609 - val_accuracy: 0.8912\n",
      "INFO LR Schedule: 0.004782969000000001\n",
      "Epoch 22/70\n",
      "251241/251241 [==============================] - 0s 1us/sample - loss: 0.2866 - accuracy: 0.8896 - val_loss: 0.2596 - val_accuracy: 0.8920\n",
      "INFO LR Schedule: 0.004782969000000001\n",
      "Epoch 23/70\n",
      "251241/251241 [==============================] - 0s 1us/sample - loss: 0.2860 - accuracy: 0.8894 - val_loss: 0.2583 - val_accuracy: 0.8924\n",
      "INFO LR Schedule: 0.004304672100000001\n",
      "Epoch 24/70\n",
      "251241/251241 [==============================] - 0s 1us/sample - loss: 0.2865 - accuracy: 0.8896 - val_loss: 0.2598 - val_accuracy: 0.8919\n",
      "INFO LR Schedule: 0.004304672100000001\n",
      "Epoch 25/70\n",
      "251241/251241 [==============================] - 0s 1us/sample - loss: 0.2862 - accuracy: 0.8895 - val_loss: 0.2594 - val_accuracy: 0.8917\n",
      "INFO Setting learning rate back to initial LR (=0.01)\n",
      "INFO LR Schedule: 0.01\n",
      "Epoch 26/70\n",
      "251241/251241 [==============================] - 0s 1us/sample - loss: 0.2870 - accuracy: 0.8892 - val_loss: 0.2583 - val_accuracy: 0.8932\n",
      "INFO Setting learning rate back to initial LR (=0.01)\n",
      "INFO LR Schedule: 0.01\n",
      "Epoch 27/70\n",
      "251241/251241 [==============================] - 0s 1us/sample - loss: 0.2861 - accuracy: 0.8897 - val_loss: 0.2581 - val_accuracy: 0.8926\n",
      "INFO Setting learning rate back to initial LR (=0.01)\n",
      "INFO LR Schedule: 0.009000000000000001\n",
      "Epoch 28/70\n",
      "251241/251241 [==============================] - 0s 1us/sample - loss: 0.2854 - accuracy: 0.8898 - val_loss: 0.2609 - val_accuracy: 0.8917\n",
      "INFO Setting learning rate back to initial LR (=0.01)\n",
      "INFO LR Schedule: 0.009000000000000001\n",
      "Epoch 29/70\n",
      "251241/251241 [==============================] - 0s 1us/sample - loss: 0.2850 - accuracy: 0.8905 - val_loss: 0.2596 - val_accuracy: 0.8935\n",
      "INFO Setting learning rate back to initial LR (=0.01)\n",
      "INFO LR Schedule: 0.009000000000000001\n",
      "Epoch 30/70\n",
      "251241/251241 [==============================] - 0s 1us/sample - loss: 0.2843 - accuracy: 0.8907 - val_loss: 0.2624 - val_accuracy: 0.8913\n",
      "INFO Setting learning rate back to initial LR (=0.01)\n",
      "INFO LR Schedule: 0.008100000000000001\n",
      "Epoch 31/70\n",
      "251241/251241 [==============================] - 0s 1us/sample - loss: 0.2847 - accuracy: 0.8901 - val_loss: 0.2554 - val_accuracy: 0.8941\n",
      "INFO Setting learning rate back to initial LR (=0.01)\n",
      "INFO LR Schedule: 0.008100000000000001\n",
      "Epoch 32/70\n",
      "251241/251241 [==============================] - 0s 1us/sample - loss: 0.2849 - accuracy: 0.8901 - val_loss: 0.2563 - val_accuracy: 0.8936\n",
      "INFO Setting learning rate back to initial LR (=0.01)\n",
      "INFO LR Schedule: 0.008100000000000001\n",
      "Epoch 33/70\n",
      "251241/251241 [==============================] - 0s 1us/sample - loss: 0.2841 - accuracy: 0.8907 - val_loss: 0.2565 - val_accuracy: 0.8938\n",
      "INFO Setting learning rate back to initial LR (=0.01)\n",
      "INFO LR Schedule: 0.007290000000000001\n",
      "Epoch 34/70\n",
      "251241/251241 [==============================] - 0s 1us/sample - loss: 0.2834 - accuracy: 0.8903 - val_loss: 0.2572 - val_accuracy: 0.8933\n",
      "INFO Setting learning rate back to initial LR (=0.01)\n",
      "INFO LR Schedule: 0.007290000000000001\n",
      "Epoch 35/70\n",
      "251241/251241 [==============================] - 0s 1us/sample - loss: 0.2829 - accuracy: 0.8911 - val_loss: 0.2570 - val_accuracy: 0.8935\n",
      "INFO Setting learning rate back to initial LR (=0.01)\n",
      "INFO LR Schedule: 0.007290000000000001\n",
      "Epoch 36/70\n",
      "251241/251241 [==============================] - 0s 1us/sample - loss: 0.2835 - accuracy: 0.8909 - val_loss: 0.2588 - val_accuracy: 0.8922\n",
      "INFO Setting learning rate back to initial LR (=0.01)\n",
      "INFO LR Schedule: 0.006561\n",
      "Epoch 37/70\n",
      "251241/251241 [==============================] - 0s 1us/sample - loss: 0.2826 - accuracy: 0.8907 - val_loss: 0.2571 - val_accuracy: 0.8933\n",
      "INFO Setting learning rate back to initial LR (=0.01)\n",
      "INFO LR Schedule: 0.006561\n",
      "Epoch 38/70\n",
      "251241/251241 [==============================] - 0s 1us/sample - loss: 0.2830 - accuracy: 0.8910 - val_loss: 0.2582 - val_accuracy: 0.8938\n",
      "INFO Setting learning rate back to initial LR (=0.01)\n",
      "INFO LR Schedule: 0.006561\n",
      "Epoch 39/70\n",
      "251241/251241 [==============================] - 0s 1us/sample - loss: 0.2832 - accuracy: 0.8904 - val_loss: 0.2569 - val_accuracy: 0.8943\n",
      "INFO Setting learning rate back to initial LR (=0.01)\n",
      "INFO LR Schedule: 0.005904900000000001\n",
      "Epoch 40/70\n",
      "251241/251241 [==============================] - 0s 1us/sample - loss: 0.2824 - accuracy: 0.8910 - val_loss: 0.2597 - val_accuracy: 0.8929\n",
      "INFO Setting learning rate back to initial LR (=0.01)\n",
      "INFO LR Schedule: 0.005904900000000001\n",
      "Epoch 41/70\n",
      "251241/251241 [==============================] - 0s 1us/sample - loss: 0.2820 - accuracy: 0.8912 - val_loss: 0.2575 - val_accuracy: 0.8942\n",
      "INFO Setting learning rate back to initial LR (=0.01)\n",
      "INFO LR Schedule: 0.005904900000000001\n",
      "Epoch 42/70\n",
      "251241/251241 [==============================] - 0s 1us/sample - loss: 0.2821 - accuracy: 0.8908 - val_loss: 0.2578 - val_accuracy: 0.8940\n",
      "INFO Setting learning rate back to initial LR (=0.01)\n",
      "INFO LR Schedule: 0.00531441\n",
      "Epoch 43/70\n",
      "251241/251241 [==============================] - 0s 1us/sample - loss: 0.2814 - accuracy: 0.8917 - val_loss: 0.2574 - val_accuracy: 0.8936\n",
      "INFO Setting learning rate back to initial LR (=0.01)\n",
      "INFO LR Schedule: 0.00531441\n",
      "Epoch 44/70\n",
      "251241/251241 [==============================] - 0s 1us/sample - loss: 0.2810 - accuracy: 0.8916 - val_loss: 0.2583 - val_accuracy: 0.8945\n",
      "INFO Setting learning rate back to initial LR (=0.01)\n",
      "INFO LR Schedule: 0.00531441\n",
      "Epoch 45/70\n",
      "251241/251241 [==============================] - 0s 1us/sample - loss: 0.2811 - accuracy: 0.8914 - val_loss: 0.2572 - val_accuracy: 0.8941\n",
      "INFO Setting learning rate back to initial LR (=0.01)\n",
      "INFO LR Schedule: 0.004782969000000001\n",
      "Epoch 46/70\n",
      "251241/251241 [==============================] - 0s 1us/sample - loss: 0.2812 - accuracy: 0.8912 - val_loss: 0.2571 - val_accuracy: 0.8944\n",
      "INFO Setting learning rate back to initial LR (=0.01)\n",
      "INFO LR Schedule: 0.004782969000000001\n",
      "Epoch 47/70\n",
      "251241/251241 [==============================] - 0s 1us/sample - loss: 0.2813 - accuracy: 0.8911 - val_loss: 0.2579 - val_accuracy: 0.8934\n",
      "INFO Setting learning rate back to initial LR (=0.01)\n",
      "INFO LR Schedule: 0.004782969000000001\n",
      "Epoch 48/70\n",
      "251241/251241 [==============================] - 0s 1us/sample - loss: 0.2813 - accuracy: 0.8913 - val_loss: 0.2571 - val_accuracy: 0.8942\n",
      "INFO Setting learning rate back to initial LR (=0.01)\n",
      "INFO LR Schedule: 0.004304672100000001\n",
      "Epoch 49/70\n",
      "251241/251241 [==============================] - 0s 1us/sample - loss: 0.2806 - accuracy: 0.8914 - val_loss: 0.2564 - val_accuracy: 0.8943\n",
      "INFO Setting learning rate back to initial LR (=0.01)\n",
      "INFO LR Schedule: 0.004304672100000001\n",
      "Epoch 50/70\n",
      "251241/251241 [==============================] - 0s 1us/sample - loss: 0.2803 - accuracy: 0.8919 - val_loss: 0.2577 - val_accuracy: 0.8937\n",
      "INFO LR Schedule: 0.0016677181699666576\n",
      "Epoch 51/70\n",
      "251241/251241 [==============================] - 0s 1us/sample - loss: 0.2802 - accuracy: 0.8914 - val_loss: 0.2576 - val_accuracy: 0.8944\n",
      "Epoch 00051: early stopping\n",
      "Score for fold 2: loss of 0.2575581383238202; accuracy of 89.44041728973389%\n"
     ]
    }
   ],
   "source": [
    "my_model_fin_func, fit_history_func,results = fit_func2( len(training_samples)-1, inp_nonsc, targets, n_epochs = 70, batch_size = 2000, num_folds = 2)"
   ]
  },
  {
   "cell_type": "code",
   "execution_count": null,
   "metadata": {
    "colab": {
     "base_uri": "https://localhost:8080/",
     "height": 297
    },
    "id": "T-20FxuymeZj",
    "outputId": "35ee3260-a5b0-4eaa-b78c-0003244332d5"
   },
   "outputs": [],
   "source": [
    "for x in range(0,2):\n",
    "    plt.plot(fit_history_func[x].history['loss'], label='Train. fold-'+str(x))\n",
    "    plt.plot(fit_history_func[x].history['val_loss'], label='Val. fold-'+str(x))\n",
    "    plt.title('DNN ($D_{in}$=7, $D_{hidden}$=2, 0.2Drop)')\n",
    "    plt.xlabel('epoch')\n",
    "    plt.ylabel('loss')\n",
    "    plt.legend(loc='upper right')\n",
    "\n",
    "saveit = \"{}/{}\".format(path_tosave, \"dnn_lossepo.png\") \n",
    "plt.savefig(saveit)\n",
    "plt.show()"
   ]
  },
  {
   "cell_type": "code",
   "execution_count": null,
   "metadata": {
    "colab": {
     "base_uri": "https://localhost:8080/",
     "height": 297
    },
    "id": "nrUmodWPsH_J",
    "outputId": "9f622150-77db-47d5-a6d5-58ab567fbbf3",
    "scrolled": true
   },
   "outputs": [],
   "source": [
    "for x in range(0,2):\n",
    "    plt.plot(fit_history_func[x].history['accuracy'], label='Train. fold-'+str(x))\n",
    "    plt.plot(fit_history_func[x].history['val_accuracy'], label='Val. fold-'+str(x))\n",
    "    plt.title('DNN ($D_{in}$=7, $D_{hidden}$=2, 0.2Drop)')\n",
    "    plt.xlabel('epoch')\n",
    "    plt.ylabel('accuracy')\n",
    "    plt.legend(loc='lower right')\n",
    "\n",
    "saveit = \"{}/{}\".format(path_tosave, \"dnn_accepo.png\") \n",
    "plt.savefig(saveit)\n",
    "plt.show()"
   ]
  },
  {
   "cell_type": "code",
   "execution_count": null,
   "metadata": {
    "colab": {
     "base_uri": "https://localhost:8080/"
    },
    "id": "fZoElcyiKvl3",
    "outputId": "e7032ad5-b209-46ca-dfea-51e266bee5d2"
   },
   "outputs": [],
   "source": [
    "output_dir = path_tosave\n",
    "file_name = \"2hdm\"\n",
    "job_suff = \"_{}\".format(file_name)\n",
    "arch_name = \"architecture_cift{}.json\".format(job_suff)\n",
    "weights_name = \"weights_cift{}.h5\".format(job_suff)\n",
    "\n",
    "mkdir_p(output_dir)\n",
    "arch_name = \"{}/{}\".format(output_dir, arch_name)\n",
    "weights_name = \"{}/{}\".format(output_dir, weights_name)\n",
    "\n",
    "print(\"Saving architecture to: {}\".format(os.path.abspath(arch_name)))\n",
    "print(\"Saving weights to     : {}\".format(os.path.abspath(weights_name)))\n",
    "with open(arch_name, 'w') as arch_file :\n",
    "    arch_file.write(my_model_fin_func[0].to_json())\n",
    "my_model_fin_func[0].save_weights(weights_name)"
   ]
  },
  {
   "cell_type": "code",
   "execution_count": null,
   "metadata": {
    "colab": {
     "base_uri": "https://localhost:8080/"
    },
    "id": "6pHSmDQU3kfe",
    "outputId": "494f2ab7-b35d-48bd-e3d1-50bbcdc86c2b"
   },
   "outputs": [],
   "source": [
    "output_dir = path_tosave\n",
    "file_name = \"2hdm\"\n",
    "job_suff = \"_{}\".format(file_name)\n",
    "arch_name = \"architecture_tek{}.json\".format(job_suff)\n",
    "weights_name = \"weights_tek{}.h5\".format(job_suff)\n",
    "\n",
    "mkdir_p(output_dir)\n",
    "arch_name = \"{}/{}\".format(output_dir, arch_name)\n",
    "weights_name = \"{}/{}\".format(output_dir, weights_name)\n",
    "\n",
    "print(\"Saving architecture to: {}\".format(os.path.abspath(arch_name)))\n",
    "print(\"Saving weights to     : {}\".format(os.path.abspath(weights_name)))\n",
    "with open(arch_name, 'w') as arch_file :\n",
    "    arch_file.write(my_model_fin_func[1].to_json())\n",
    "my_model_fin_func[1].save_weights(weights_name)"
   ]
  },
  {
   "cell_type": "code",
   "execution_count": null,
   "metadata": {
    "id": "oxNjLvpNL8Ey"
   },
   "outputs": [],
   "source": [
    "#load the model\n",
    "def load_model(arch_path, weights_path) :\n",
    "    #arch_name = \"/home/jovyan/test2/architecture_test2.json\"\n",
    "    #weights_name = \"/home/jovyan/test2/weights_test2.h5\"\n",
    "    print(os.path.abspath(arch_path))\n",
    "    print(\"Loading model architecture and weights (%, %)\".format(os.path.abspath(arch_path), os.path.abspath(weights_path)))\n",
    "    from tensorflow.keras.models import model_from_json\n",
    "    json_file = open(os.path.abspath(arch_path), 'r')\n",
    "    loaded_model = json_file.read()\n",
    "    json_file.close()\n",
    "    loaded_model = model_from_json(loaded_model)\n",
    "    loaded_model.load_weights(os.path.abspath(weights_path))\n",
    "    return loaded_model"
   ]
  },
  {
   "cell_type": "code",
   "execution_count": null,
   "metadata": {
    "colab": {
     "base_uri": "https://localhost:8080/"
    },
    "id": "DM1fYymh4Cap",
    "outputId": "95dd63dc-b15f-4a99-e8f6-5d6838b6e28f"
   },
   "outputs": [],
   "source": [
    "arch_path = \"{}/architecture_cift_2hdm.json\".format(path_tosave)\n",
    "weights_path = \"{}/weights_cift_2hdm.h5\".format(path_tosave)\n",
    "my_model_loaded_cift = load_model(arch_path, weights_path)"
   ]
  },
  {
   "cell_type": "code",
   "execution_count": null,
   "metadata": {
    "colab": {
     "base_uri": "https://localhost:8080/"
    },
    "id": "LlDtNWcw4JHD",
    "outputId": "af56f23c-c0a7-486f-d3ac-dde419fdcdc4"
   },
   "outputs": [],
   "source": [
    "arch_path = \"{}/architecture_tek_2hdm.json\".format(path_tosave)\n",
    "weights_path = \"{}/weights_tek_2hdm.h5\".format(path_tosave)\n",
    "my_model_loaded_tek = load_model(arch_path, weights_path)"
   ]
  },
  {
   "cell_type": "code",
   "execution_count": null,
   "metadata": {
    "colab": {
     "base_uri": "https://localhost:8080/",
     "height": 1000
    },
    "id": "_mDE9lkY5jAU",
    "outputId": "ef92fdff-3b0a-4e23-9fd0-b66e02d1b93c"
   },
   "outputs": [],
   "source": [
    "nn_scores_2 = make_nn_output_plots_oddeven( path_tosave, [my_model_loaded_cift,my_model_loaded_tek], inputs = inp_nonsc, samples = training_samples,  targets = targets, events=evtnum)"
   ]
  },
  {
   "cell_type": "code",
   "execution_count": null,
   "metadata": {
    "id": "4jkN0DGfUxVR"
   },
   "outputs": [],
   "source": [
    "def plot_roc_curve(pred,truth,label):\n",
    "    fpr, tpr, thr = roc_curve(truth, pred)\n",
    "    roc_auc = auc(fpr, tpr)\n",
    "\n",
    "    fig = plt.figure()\n",
    "    plt.plot(fpr, tpr, color='darkorange',\n",
    "             label='ROC curve (area = {:.2f})'.format(roc_auc))\n",
    "    plt.plot([0, 1], [0, 1], color='navy', lw=2, linestyle='--')\n",
    "    plt.xlim([0.0, 1.0])\n",
    "    plt.ylim([0.0, 1.05])\n",
    "    plt.xlabel('False Positive Rate')\n",
    "    plt.ylabel('True Positive Rate')\n",
    "    plt.legend(loc=\"lower right\")\n",
    "    plt.savefig(path_tosave+\"/roc{}.png\".format(label))\n",
    "    plt.show()"
   ]
  },
  {
   "cell_type": "code",
   "execution_count": null,
   "metadata": {
    "id": "3xH9j7ftKb9E"
   },
   "outputs": [],
   "source": [
    "nn_scores = nn_scores_2[:,0]"
   ]
  },
  {
   "cell_type": "code",
   "execution_count": null,
   "metadata": {
    "colab": {
     "base_uri": "https://localhost:8080/",
     "height": 279
    },
    "id": "43TF9vxAUyRV",
    "outputId": "0629d30b-10b8-46b3-da73-45cbcadf2086"
   },
   "outputs": [],
   "source": [
    "plot_roc_curve(nn_scores,targets,\"all\")"
   ]
  },
  {
   "cell_type": "code",
   "execution_count": null,
   "metadata": {
    "colab": {
     "base_uri": "https://localhost:8080/"
    },
    "id": "r6cH3oqn9hLW",
    "outputId": "9fb4a4f8-8303-459e-9047-84b7daad1343"
   },
   "outputs": [],
   "source": [
    "import numpy as np\n",
    "from scipy.integrate import simps\n",
    "from numpy import trapz\n",
    "area = trapz(targets, dx=5)\n",
    "print(\"area =\", area)"
   ]
  },
  {
   "cell_type": "code",
   "execution_count": null,
   "metadata": {
    "colab": {
     "base_uri": "https://localhost:8080/",
     "height": 576
    },
    "id": "Hv3Onfauzg6y",
    "outputId": "18e81ef8-38d1-489f-caea-e492bfd2d823"
   },
   "outputs": [],
   "source": [
    "plt.figure(0).clf()\n",
    "plt.style.use('default')\n",
    "plt.figure(figsize=[8,6])\n",
    "color = ['blue', 'orange', 'red', 'green', 'coral',\n",
    "             'grey', 'indigo', 'gold', 'lime', 'olive',\n",
    "             'pink', 'navy', 'magenta', 'yellow', 'tomato',\n",
    "             'turquoise', 'yellowgreen', 'maroon', 'lightblue']\n",
    "\n",
    "\n",
    "fpr, tpr, thr = roc_curve(targets,nn_scores_2)\n",
    "roc_auc = auc(fpr, tpr)\n",
    "plt.plot(fpr, tpr, color=color[0], lw=1,\n",
    "             label='ROC curve w/ dCorr train (area = {:.2f})'.format(roc_auc),linestyle='dashed')\n",
    "plt.plot([0, 1], [0, 1], color='navy', lw=2, linestyle='--')\n",
    "plt.xlim([0.0, 1.0])\n",
    "plt.ylim([0.0, 1.05])\n",
    "plt.xlabel('False Positive Rate')\n",
    "plt.ylabel('True Positive Rate')\n",
    "plt.legend(loc=\"lower right\")\n",
    "\n",
    "fpr, tpr, thr = roc_curve(targets_val,nn_scores_val)\n",
    "roc_auc = auc(fpr, tpr)\n",
    "plt.plot(fpr, tpr, color=color[1], lw=1,\n",
    "             label='ROC curve w/ dCorr val (area = {:.2f})'.format(roc_auc),linestyle='solid')\n",
    "plt.legend(loc=\"lower right\")"
   ]
  },
  {
   "cell_type": "code",
   "execution_count": null,
   "metadata": {
    "id": "o_1MQw0JUTJL"
   },
   "outputs": [],
   "source": [
    "import mplhep as hep"
   ]
  },
  {
   "cell_type": "code",
   "execution_count": null,
   "metadata": {
    "id": "QBVZH0xJUWat"
   },
   "outputs": [],
   "source": [
    "input_features2, targets2, inp_nonsc2= build_combined_input(training_samples, data_scaler = data_scaler, scale = True)"
   ]
  },
  {
   "cell_type": "code",
   "execution_count": null,
   "metadata": {
    "colab": {
     "base_uri": "https://localhost:8080/",
     "height": 447
    },
    "id": "a5kDaNGgUbS0",
    "outputId": "e28eaa18-86cd-44c6-e3a8-f939e463726f"
   },
   "outputs": [],
   "source": [
    "plt.style.use('default')\n",
    "\n",
    "bins = np.arange(0,800,10)\n",
    "bins2 = np.arange(0.0,1.0,0.1)\n",
    "f, ax = plt.subplots()\n",
    "h4 = np.array([])\n",
    "h5 = np.array([])\n",
    "h6 = np.array([])\n",
    "#for i, j in df44.iterrows(): \n",
    "#    h4 = np.append(h4, j[df4['ptnames2'][i]]/1000)\n",
    "\n",
    "#for i, j in df55.iterrows(): \n",
    "#    h5 = np.append(h5, j[df5['ptnames2'][i]]/1000)\n",
    "#print(h)\n",
    "#for i, j in df66.iterrows(): \n",
    "#    h6 = np.append(h6, j[df6['ptnames2'][i]]/1000)\n",
    "pt = inp_nonsc2[:,6]/1000\n",
    "signalpt = pt[targets==1]\n",
    "backpt = pt[targets==0]\n",
    "signal_sc = nn_scores_2[targets==1]\n",
    "back_sc = nn_scores_2[targets==0]\n",
    "h44, bins = np.histogram(signalpt, bins)\n",
    "h55, bins = np.histogram(backpt, bins)\n",
    "#h66, bins = np.histogram(h6, bins)\n",
    "h1,bins2 = np.histogram(signal_sc, bins2)\n",
    "h2,bins2 = np.histogram(back_sc, bins2)\n",
    "\n",
    "hep.histplot([h44 ,h55], bins ,label=['signal','back'], linewidth=2.0, density=True)\n",
    "\n",
    "#    print() \n",
    "#row = next(df2.iterrows())[1]\n",
    "#print(row)\n",
    "ax.legend()\n",
    "#ax.set_xlabel(\"$p_T$ of the c-jet\", fontsize=12)"
   ]
  },
  {
   "cell_type": "code",
   "execution_count": null,
   "metadata": {
    "colab": {
     "base_uri": "https://localhost:8080/",
     "height": 450
    },
    "id": "LJkMtXj0Ut_D",
    "outputId": "a4ad2a06-6fa0-4616-a3e3-8732d18999c1"
   },
   "outputs": [],
   "source": [
    "plt.style.use('default')\n",
    "f1, ax1 = plt.subplots()\n",
    "h1,bins2 = np.histogram(signal_sc, bins2)\n",
    "h2,bins2 = np.histogram(back_sc, bins2)\n",
    "hep.histplot([h1 ,h2], bins2 ,label=['signal','back'], linewidth=2.0, density=True)\n",
    "ax1.legend()"
   ]
  }
 ],
 "metadata": {
  "colab": {
   "collapsed_sections": [],
   "include_colab_link": true,
   "name": "SvsBsstt.ipynb",
   "provenance": []
  },
  "kernelspec": {
   "display_name": "Python 3",
   "language": "python",
   "name": "python3"
  },
  "language_info": {
   "codemirror_mode": {
    "name": "ipython",
    "version": 3
   },
   "file_extension": ".py",
   "mimetype": "text/x-python",
   "name": "python",
   "nbconvert_exporter": "python",
   "pygments_lexer": "ipython3",
   "version": "3.7.6"
  }
 },
 "nbformat": 4,
 "nbformat_minor": 1
}
