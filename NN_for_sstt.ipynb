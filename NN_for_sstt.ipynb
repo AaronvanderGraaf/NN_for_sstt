{
 "cells": [
  {
   "cell_type": "code",
   "execution_count": 1,
   "metadata": {},
   "outputs": [],
   "source": [
    "import tensorflow as tf\n",
    "from util import *\n",
    "from load_data import load_input_file, build_combined_input\n",
    "from NN_train import *\n",
    "path_tosave = 'sstt'"
   ]
  },
  {
   "cell_type": "code",
   "execution_count": 2,
   "metadata": {
    "scrolled": true
   },
   "outputs": [
    {
     "name": "stdout",
     "output_type": "stream",
     "text": [
      "Found 9 features on the dataset 9 features were loaded: \n",
      "\n",
      "nJets_OR\n",
      "jet_pseudoscore_DL1r0\n",
      "jet_pseudoscore_DL1r1\n",
      "jet_pseudoscore_DL1r2\n",
      "Mll01\n",
      "sumPsbtag\n",
      "HT_jets\n",
      "met_met\n",
      "HT_lep\n",
      " \n",
      "Dataset contains 270849 Signal events and 983568 Background events.\n"
     ]
    }
   ],
   "source": [
    "samples, feature_names = load_input_file('data/sstt_w.h5')\n",
    "input_features, targets, weights = build_combined_input(samples)"
   ]
  },
  {
   "cell_type": "code",
   "execution_count": 3,
   "metadata": {
    "scrolled": true
   },
   "outputs": [
    {
     "name": "stdout",
     "output_type": "stream",
     "text": [
      "\n",
      "======Weight Statistic========================================\n",
      "Weights::        W(1)=1229.8, W(0)=1850.77\n",
      "Scaled weights:: W(1)=627209, W(0)=627208\n",
      "==============================================================\n"
     ]
    }
   ],
   "source": [
    "ScaleWeights(targets,weights)\n",
    "#scale the input between 0-1\n",
    "scaler = StandardScaler().fit(input_features)\n",
    "input_scaled = scaler.transform(input_features)"
   ]
  },
  {
   "cell_type": "code",
   "execution_count": 4,
   "metadata": {},
   "outputs": [],
   "source": [
    "train, val, test = Train_Val_Test_Split(input_scaled, targets, weights)"
   ]
  },
  {
   "cell_type": "code",
   "execution_count": 5,
   "metadata": {},
   "outputs": [
    {
     "name": "stdout",
     "output_type": "stream",
     "text": [
      "Num GPUs Available:  0\n"
     ]
    }
   ],
   "source": [
    "print(\"Num GPUs Available: \", len(tf.config.list_physical_devices('GPU')))"
   ]
  },
  {
   "cell_type": "code",
   "execution_count": 6,
   "metadata": {
    "scrolled": true
   },
   "outputs": [
    {
     "name": "stdout",
     "output_type": "stream",
     "text": [
      "Model: \"model\"\n",
      "_________________________________________________________________\n",
      "Layer (type)                 Output Shape              Param #   \n",
      "=================================================================\n",
      "input_1 (InputLayer)         [(None, 9)]               0         \n",
      "_________________________________________________________________\n",
      "dense (Dense)                (None, 36)                360       \n",
      "_________________________________________________________________\n",
      "dropout (Dropout)            (None, 36)                0         \n",
      "_________________________________________________________________\n",
      "dense_1 (Dense)              (None, 48)                1776      \n",
      "_________________________________________________________________\n",
      "OutputLayer (Dense)          (None, 1)                 49        \n",
      "=================================================================\n",
      "Total params: 2,185\n",
      "Trainable params: 2,185\n",
      "Non-trainable params: 0\n",
      "_________________________________________________________________\n"
     ]
    }
   ],
   "source": [
    "#num_folds = 2\n",
    "n_epochs = 100\n",
    "batch_size = 2000\n",
    "input_shape = train[0].shape[1]\n",
    "model = Create_Model_basic(input_shape)"
   ]
  },
  {
   "cell_type": "code",
   "execution_count": 7,
   "metadata": {
    "scrolled": true
   },
   "outputs": [
    {
     "name": "stdout",
     "output_type": "stream",
     "text": [
      "Train on 903180 samples, validate on 125442 samples\n",
      "INFO LR Schedule: 0.01\n",
      "Epoch 1/100\n",
      "903180/903180 [==============================] - 1s 1us/sample - loss: 0.3221 - accuracy: 0.8835 - val_loss: 0.2435 - val_accuracy: 0.9029\n",
      "INFO LR Schedule: 0.01\n",
      "Epoch 2/100\n",
      "136000/903180 [===>..........................] - ETA: 0s - loss: 0.2982 - accuracy: 0.8944"
     ]
    },
    {
     "name": "stderr",
     "output_type": "stream",
     "text": [
      "/home/avdgraaf/.local/anaconda3/lib/python3.7/site-packages/tensorflow/python/keras/engine/training.py:2325: UserWarning: `Model.state_updates` will be removed in a future version. This property should not be used in TensorFlow 2.0, as `updates` are applied automatically.\n",
      "  warnings.warn('`Model.state_updates` will be removed in a future version. '\n"
     ]
    },
    {
     "name": "stdout",
     "output_type": "stream",
     "text": [
      "903180/903180 [==============================] - 1s 1us/sample - loss: 0.2946 - accuracy: 0.8963 - val_loss: 0.2327 - val_accuracy: 0.9084\n",
      "INFO LR Schedule: 0.009\n",
      "Epoch 3/100\n",
      "903180/903180 [==============================] - 1s 1us/sample - loss: 0.2887 - accuracy: 0.8979 - val_loss: 0.2472 - val_accuracy: 0.9008\n",
      "INFO LR Schedule: 0.009\n",
      "Epoch 4/100\n",
      "903180/903180 [==============================] - 1s 1us/sample - loss: 0.2860 - accuracy: 0.8985 - val_loss: 0.2313 - val_accuracy: 0.9083\n",
      "INFO LR Schedule: 0.009\n",
      "Epoch 5/100\n",
      "903180/903180 [==============================] - 1s 1us/sample - loss: 0.2845 - accuracy: 0.8988 - val_loss: 0.2381 - val_accuracy: 0.9058\n",
      "INFO LR Schedule: 0.0081\n",
      "Epoch 6/100\n",
      "903180/903180 [==============================] - 1s 1us/sample - loss: 0.2830 - accuracy: 0.8998 - val_loss: 0.2235 - val_accuracy: 0.9102\n",
      "INFO LR Schedule: 0.0081\n",
      "Epoch 7/100\n",
      "903180/903180 [==============================] - 1s 1us/sample - loss: 0.2821 - accuracy: 0.8994 - val_loss: 0.2464 - val_accuracy: 0.9022\n",
      "INFO LR Schedule: 0.0081\n",
      "Epoch 8/100\n",
      "903180/903180 [==============================] - 1s 1us/sample - loss: 0.2808 - accuracy: 0.8995 - val_loss: 0.2479 - val_accuracy: 0.9005\n",
      "INFO LR Schedule: 0.0073\n",
      "Epoch 9/100\n",
      "903180/903180 [==============================] - 1s 1us/sample - loss: 0.2806 - accuracy: 0.8998 - val_loss: 0.2398 - val_accuracy: 0.9050\n",
      "INFO LR Schedule: 0.0073\n",
      "Epoch 10/100\n",
      "903180/903180 [==============================] - 1s 1us/sample - loss: 0.2800 - accuracy: 0.8999 - val_loss: 0.2413 - val_accuracy: 0.9040\n",
      "INFO LR Schedule: 0.0073\n",
      "Epoch 11/100\n",
      "903180/903180 [==============================] - 1s 1us/sample - loss: 0.2797 - accuracy: 0.9001 - val_loss: 0.2438 - val_accuracy: 0.9032\n",
      "INFO LR Schedule: 0.0066\n",
      "Epoch 12/100\n",
      "903180/903180 [==============================] - 1s 1us/sample - loss: 0.2792 - accuracy: 0.8998 - val_loss: 0.2394 - val_accuracy: 0.9048\n",
      "INFO LR Schedule: 0.0066\n",
      "Epoch 13/100\n",
      "903180/903180 [==============================] - 1s 1us/sample - loss: 0.2790 - accuracy: 0.9001 - val_loss: 0.2394 - val_accuracy: 0.9050\n",
      "INFO LR Schedule: 0.0066\n",
      "Epoch 14/100\n",
      "903180/903180 [==============================] - 1s 1us/sample - loss: 0.2788 - accuracy: 0.9001 - val_loss: 0.2466 - val_accuracy: 0.9020\n",
      "INFO LR Schedule: 0.0059\n",
      "Epoch 15/100\n",
      "903180/903180 [==============================] - 1s 1us/sample - loss: 0.2784 - accuracy: 0.9002 - val_loss: 0.2394 - val_accuracy: 0.9035\n",
      "INFO LR Schedule: 0.0059\n",
      "Epoch 16/100\n",
      "903180/903180 [==============================] - 1s 1us/sample - loss: 0.2782 - accuracy: 0.9004 - val_loss: 0.2266 - val_accuracy: 0.9097\n",
      "INFO LR Schedule: 0.0059\n",
      "Epoch 17/100\n",
      "903180/903180 [==============================] - 1s 1us/sample - loss: 0.2782 - accuracy: 0.9002 - val_loss: 0.2475 - val_accuracy: 0.9019\n",
      "INFO LR Schedule: 0.0053\n",
      "Epoch 18/100\n",
      "903180/903180 [==============================] - 1s 1us/sample - loss: 0.2779 - accuracy: 0.9004 - val_loss: 0.2488 - val_accuracy: 0.9008\n",
      "INFO LR Schedule: 0.0053\n",
      "Epoch 19/100\n",
      "903180/903180 [==============================] - 1s 1us/sample - loss: 0.2776 - accuracy: 0.9004 - val_loss: 0.2419 - val_accuracy: 0.9053\n",
      "INFO LR Schedule: 0.0053\n",
      "Epoch 20/100\n",
      "903180/903180 [==============================] - 1s 1us/sample - loss: 0.2776 - accuracy: 0.9004 - val_loss: 0.2461 - val_accuracy: 0.9026\n",
      "INFO LR Schedule: 0.0048\n",
      "Epoch 21/100\n",
      "903180/903180 [==============================] - 1s 1us/sample - loss: 0.2771 - accuracy: 0.9008 - val_loss: 0.2476 - val_accuracy: 0.9024\n",
      "INFO LR Schedule: 0.0048\n",
      "Epoch 22/100\n",
      "903180/903180 [==============================] - 1s 1us/sample - loss: 0.2772 - accuracy: 0.9005 - val_loss: 0.2406 - val_accuracy: 0.9065\n",
      "INFO LR Schedule: 0.0048\n",
      "Epoch 23/100\n",
      "903180/903180 [==============================] - 1s 1us/sample - loss: 0.2770 - accuracy: 0.9006 - val_loss: 0.2377 - val_accuracy: 0.9080\n",
      "INFO LR Schedule: 0.0043\n",
      "Epoch 24/100\n",
      "903180/903180 [==============================] - 1s 1us/sample - loss: 0.2770 - accuracy: 0.9010 - val_loss: 0.2469 - val_accuracy: 0.9031\n",
      "INFO LR Schedule: 0.0043\n",
      "Epoch 25/100\n",
      "903180/903180 [==============================] - 1s 1us/sample - loss: 0.2765 - accuracy: 0.9008 - val_loss: 0.2443 - val_accuracy: 0.9032\n",
      "INFO Setting learning rate back to initial LR (=0.01)\n",
      "INFO LR Schedule: 0.01\n",
      "Epoch 26/100\n",
      "903180/903180 [==============================] - 1s 1us/sample - loss: 0.2770 - accuracy: 0.9007 - val_loss: 0.2368 - val_accuracy: 0.9071\n",
      "Epoch 00026: early stopping\n"
     ]
    }
   ],
   "source": [
    "fitfull_history = Train_NN(model, train, val, n_epochs, batch_size)"
   ]
  },
  {
   "cell_type": "code",
   "execution_count": 8,
   "metadata": {
    "scrolled": true
   },
   "outputs": [
    {
     "data": {
      "image/png": "[encoded data removed]",
      "text/plain": [
       "<Figure size 432x288 with 1 Axes>"
      ]
     },
     "metadata": {
      "needs_background": "light"
     },
     "output_type": "display_data"
    },
    {
     "data": {
      "image/png": "[encoded data removed]",
      "text/plain": [
       "<Figure size 432x288 with 1 Axes>"
      ]
     },
     "metadata": {
      "needs_background": "light"
     },
     "output_type": "display_data"
    }
   ],
   "source": [
    "Plot_Metrics(fitfull_history, path_tosave)"
   ]
  },
  {
   "cell_type": "code",
   "execution_count": 9,
   "metadata": {},
   "outputs": [],
   "source": [
    "nn_scores_test = model.predict(test[0], verbose = True)\n",
    "nn_scores = model.predict(train[0], verbose = True)"
   ]
  },
  {
   "cell_type": "code",
   "execution_count": 10,
   "metadata": {
    "scrolled": true
   },
   "outputs": [
    {
     "data": {
      "text/plain": [
       "<matplotlib.legend.Legend at 0x7fddca45b510>"
      ]
     },
     "execution_count": 10,
     "metadata": {},
     "output_type": "execute_result"
    },
    {
     "data": {
      "image/png": "[encoded data removed]",
      "text/plain": [
       "<Figure size 432x288 with 1 Axes>"
      ]
     },
     "metadata": {
      "needs_background": "light"
     },
     "output_type": "display_data"
    }
   ],
   "source": [
    "fig = plt.figure()\n",
    "plt.grid(color='k', which='both', linestyle='--', lw=0.5, alpha=0.1, zorder = 0)\n",
    "plt.xlabel(\"NN output\", horizontalalignment='right', x=1)\n",
    "plt.xlim([0,1])\n",
    "plt.yscale('log')\n",
    "histargs = {\"bins\":40, \"range\":(0,1.), \"density\":True, \"histtype\":'step'}\n",
    "plt.hist(nn_scores_test[test[1]==1],label = \"Test_Signal\", **histargs)\n",
    "plt.hist(nn_scores_test[test[1]==0],label = \"Test_Background\", **histargs)\n",
    "plt.hist(nn_scores[train[1]==1],label = \"Train_Signal\", **histargs)\n",
    "plt.hist(nn_scores[train[1]==0],label = \"Train_Background\", **histargs)\n",
    "plt.legend(loc='upper center', frameon=False,)"
   ]
  },
  {
   "cell_type": "markdown",
   "metadata": {},
   "source": [
    "# TO DOs:\n",
    "\n",
    "\n",
    "### - Save Model / Load Model\n",
    "### - K-Fold\n",
    "### - ROC-Curve\n",
    "### - First Advanced Models"
   ]
  }
 ],
 "metadata": {
  "kernelspec": {
   "display_name": "Python 3",
   "language": "python",
   "name": "python3"
  },
  "language_info": {
   "codemirror_mode": {
    "name": "ipython",
    "version": 3
   },
   "file_extension": ".py",
   "mimetype": "text/x-python",
   "name": "python",
   "nbconvert_exporter": "python",
   "pygments_lexer": "ipython3",
   "version": "3.7.6"
  }
 },
 "nbformat": 4,
 "nbformat_minor": 4
}
